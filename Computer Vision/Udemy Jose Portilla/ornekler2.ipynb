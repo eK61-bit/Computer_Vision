{
 "cells": [
  {
   "cell_type": "code",
   "execution_count": null,
   "id": "d558b471-6c24-41d1-8d76-c6c89b9aff22",
   "metadata": {},
   "outputs": [],
   "source": [
    "# Color Mappings\n",
    "\n",
    "#HSV ye Dönüştürme: ton, doygunluk, parlaklık  \n",
    "resim_copy = cv2.cvtColor(resim_copy, cv2.COLOR_BGR2HSV)\n",
    "\n",
    "# HLS ye Dönüştürme: (ton, doygunluk, hafiflik için)\n",
    "resim = cv2.cvtColor(resim, cv2.COLOR_BGR2HLS)"
   ]
  },
  {
   "cell_type": "code",
   "execution_count": null,
   "id": "018d002f-bbcb-4ca1-b222-5825e26a0c54",
   "metadata": {},
   "outputs": [],
   "source": [
    "# Görüntüleri Karıştırma ve Yapıştırma\n",
    "\n",
    "# Görüntüleri Karıştırma --> Aynı Boyut olacak ve ağırlıkları birleştirilecek --> cv2.addWeighted\n",
    "\n",
    "# Farklı Boyutlardaki Görüntüleri Bindirme --> sol alt --> x,y, x_end,y_end kullanrak ekleme\n",
    "\n",
    "# Örnek 3.14 - farklı boyutta resim birleştirme --> sağ alt --> gri_resim -> ters_maske(gri_resim) -> alan_sag_alt(sag_alt,sag.., ters_maske) -> alan_orj_resim(resim2, resim2, ters_maske) -> cv2.add(alan_sagalt, alan_orj_resim)\n",
    "\n",
    "# Maskeleme: -> sağ alta --> gri_resim -> ret,maske = cv2.threshold(gri_resim) --> ters_maske(maske) -> alan_sag_alt(sag_alt,sag.., ters_maske) -> alan_orj_resim(resim2, resim2, maske) -> cv2.add(alan_sagalt, alan_orj_resim)\n",
    "\n"
   ]
  },
  {
   "cell_type": "code",
   "execution_count": null,
   "id": "047c8760-c84b-4069-ae61-b531af5f718a",
   "metadata": {},
   "outputs": [],
   "source": [
    "# Thresholding Tipleri:  ---> okuma, 0 ---> cmap = \"gray\"\n",
    "\n",
    "# Binary --> \n",
    "# Binary Inverse\n",
    "# Threshold Truncation\n",
    "# Threshold to Zero\n",
    "# Threshold to Zero (Inverse)\n",
    "# THRESH_OTSU\n",
    "\n",
    "\n",
    "# cv2.adaptiveThreshold"
   ]
  },
  {
   "cell_type": "code",
   "execution_count": null,
   "id": "a26dfe71-5375-4b80-b4e1-7ee38b4b6d0a",
   "metadata": {},
   "outputs": [],
   "source": [
    "# Bluring ---> okuma, 0 ---> cmap = \"gray\"\n",
    "\n",
    "# blur\n",
    "# medianBlur\n",
    "# Gaussian Blur\n",
    "# bilateral Filter\n",
    "# box Filter"
   ]
  },
  {
   "cell_type": "code",
   "execution_count": null,
   "id": "2fe268f7-c580-4e6a-ae6b-25bed094df21",
   "metadata": {},
   "outputs": [],
   "source": [
    "# Örnek 3.10 - kernel tabanlı filtreleme\n",
    "\n",
    "kernel = np.array([[1,-1,1],[-1,5,-1],[0,-2,0]])\n",
    "\n",
    "sonuc = cv2.filter2D(resim,-1,kernel)"
   ]
  },
  {
   "cell_type": "code",
   "execution_count": null,
   "id": "f57864f3-90be-4a8e-a00b-c8ad3966551c",
   "metadata": {},
   "outputs": [],
   "source": [
    "# Örnek 3.14 - resim ekleme/birleştirme/çıkarma\n",
    "\n",
    "sonuc_1 = resim1 + resim2        # toplama\n",
    "sonuc_2 = cv2.add(resim1,resim2) # resim ekleme\n",
    "sonuc_3 = cv2.addWeighted(resim1,0.5,resim2,0.5,10)  # resim birleştirme\n",
    "sonuc_4 = cv2.subtract(resim1,resim2) # resim çıkarma"
   ]
  },
  {
   "cell_type": "code",
   "execution_count": null,
   "id": "85f476dd-475c-49eb-88e3-1d8a139cdceb",
   "metadata": {},
   "outputs": [],
   "source": [
    "# siyah arka plan ve üzerine yazi\n",
    "def load_img():\n",
    "    arka_plan = np.zeros(shape=(600,600))\n",
    "    cv2.putText(arka_plan,text=\"ABCDE\",org=(50,300),fontFace=cv2.FONT_HERSHEY_COMPLEX, fontScale=5,color =(255,255,255),thickness=25)\n",
    "    return arka_plan\n",
    "\n",
    "def resmi_göster(resim):\n",
    "    fig = plt.figure(figsize=(10,10))\n",
    "    ax = fig.add_subplot(111)\n",
    "    ax.imshow(resim,cmap=\"gray\")\n",
    "\n",
    "    \n",
    "# Erosion -> Ön plan nesnelerinin sınırlarını aşındırır. Ön plan açık renk (tercihen beyaz) ve arka plan karanlık olduğunda en iyi sonucu verir.\n",
    "\n",
    "kernel = np.ones(shape=(5,5),dtype=int)\n",
    "erozyon = cv2.erode(resim, kernel, iterations = 1)\n",
    "\n",
    "# Opening -> Açılış erozyon ve ardından genişlemedir. Arka plan gürültüsünü gidermede kullanışlıdır!\n",
    "\n",
    "beyaz_gürültülü_resim = np.random.randint(0,2, size=(600,600))\n",
    "beyaz_gürültülü_resim = beyaz_gürültülü_resim* 255\n",
    "gürültülü_resim = beyaz_gürültülü_resim + resim\n",
    "opening = cv2.morphologyEx(gürültülü_resim, cv2.MORPH_OPEN, kernel)\n",
    "\n",
    "\n",
    "# Closing -> Açılış erozyon ve ardından genişlemedir. Arka plan gürültüsünü gidermede kullanışlıdır!\n",
    "\n",
    "siyah_gürültülü = np.random.randint(0,2,(600,600))\n",
    "siyah_gürültülü = siyah_gürültülü * -255\n",
    "siyah_gürültülü_resim = siyah_gürültülü + resim\n",
    "siyah_gürültülü_resim[siyah_gürültülü==-255]=0\n",
    "\n",
    "closing = cv2.morphologyEx(siyah_gürültülü_resim,cv2.MORPH_CLOSE, kernel)\n",
    "\n",
    "# Morphological Gradient -> Bir görüntünün genişlemesi ve aşınması arasındaki fark.\n",
    "\n",
    "gradient = cv2.morphologyEx(resim, cv2.MORPH_GRADIENT, kernel)"
   ]
  },
  {
   "cell_type": "code",
   "execution_count": null,
   "id": "28477f4b-036d-4a1f-a3a9-d9d39d7485a1",
   "metadata": {},
   "outputs": [],
   "source": []
  },
  {
   "cell_type": "code",
   "execution_count": null,
   "id": "52e643d6-ae6c-4bc6-9223-b21d3a860820",
   "metadata": {},
   "outputs": [],
   "source": []
  }
 ],
 "metadata": {
  "kernelspec": {
   "display_name": "Python 3 (ipykernel)",
   "language": "python",
   "name": "python3"
  },
  "language_info": {
   "codemirror_mode": {
    "name": "ipython",
    "version": 3
   },
   "file_extension": ".py",
   "mimetype": "text/x-python",
   "name": "python",
   "nbconvert_exporter": "python",
   "pygments_lexer": "ipython3",
   "version": "3.9.7"
  }
 },
 "nbformat": 4,
 "nbformat_minor": 5
}
