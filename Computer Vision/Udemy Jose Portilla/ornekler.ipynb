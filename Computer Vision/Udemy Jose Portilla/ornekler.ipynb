{
 "cells": [
  {
   "cell_type": "code",
   "execution_count": 3,
   "id": "5d606066-ec99-4c86-ae72-a96d21585ba7",
   "metadata": {},
   "outputs": [],
   "source": [
    "# 1 -> Piksel ve kod verip piksellerin çıktısı sorulacak.\n",
    "# 1.1 * Cv2 ye Giriş\n",
    "# 1.2 * Resme Çizgi çizme vs..\n",
    "# 1.3 * HSV - HLS\n",
    "# 1.4 * Görüntü Karıştırma yapıştırma maskeleme vs..\n",
    "# 1.5 * Thresholding\n",
    "# 1.6 * Blurlama ve Yumuşaltma\n",
    "# 1.7 * Morphological Operators\n",
    "# 1.8 * Gradients\n",
    "# 1.9 * Corner Detection\n",
    "\n",
    "# Yıpratma --> Opening Closin, Genişletme Olursa Pixellerin Yeni Değeri Ne olur\n",
    "# 4 -> RGB'nin belirlenen renk düzeyi artırma, azaltma ( kırmiziyi /50 arttırma )\n",
    "\n",
    "# 5 -> Resim ve çıktıyı verip kodları sorabilir\n",
    "\n",
    "# 6 -> Düşük Puanlı Evet - Hayır Sorusu"
   ]
  },
  {
   "cell_type": "code",
   "execution_count": null,
   "id": "e9815f33-38a7-4444-949d-c0ef74f7b4fb",
   "metadata": {},
   "outputs": [],
   "source": [
    "# resmin renkleriyle oynama +\n",
    "# resmin köşelerine gitme +\n",
    "# resim çizme \n",
    "# HSV - HLS\n",
    "# addWeighted\n",
    "# bitwise\n",
    "# threshold -> \n",
    "# Blurlama\n",
    "# Morpholojik işlemler ->\n",
    "# Gradients -> sobel vs.\n",
    "\n",
    "# "
   ]
  },
  {
   "cell_type": "code",
   "execution_count": 181,
   "id": "8527c27b-cfe8-4f42-a6bf-276c3346c841",
   "metadata": {},
   "outputs": [],
   "source": [
    "import numpy as np\n",
    "import matplotlib.pyplot as plt\n",
    "import cv2\n",
    "%matplotlib inline"
   ]
  },
  {
   "cell_type": "code",
   "execution_count": 177,
   "id": "840d6db4-24d4-401c-8ed0-71c06511bdc4",
   "metadata": {},
   "outputs": [
    {
     "name": "stdout",
     "output_type": "stream",
     "text": [
      "[[202 131 135 172 230]\n",
      " [140 198  18  55 126]\n",
      " [198 143  15 251 179]\n",
      " [  8 238  74   1 173]\n",
      " [119  37 131 186  59]]\n"
     ]
    },
    {
     "data": {
      "image/png": "[encoded data removed]",
      "text/plain": [
       "<Figure size 360x360 with 1 Axes>"
      ]
     },
     "metadata": {
      "needs_background": "light"
     },
     "output_type": "display_data"
    }
   ],
   "source": [
    "resim = np.random.randint(0,256, size=(5,5), dtype = int)\n",
    "\n",
    "def resmi_göster(resim):\n",
    "    fig = plt.figure(figsize=(5,5))\n",
    "    ax = fig.add_subplot(111)\n",
    "    ax.imshow(resim)\n",
    "resmi_göster(resim)\n",
    "\n",
    "print(resim)\n"
   ]
  },
  {
   "cell_type": "code",
   "execution_count": 16,
   "id": "0271de75-faf3-4250-a877-d367e81419d6",
   "metadata": {},
   "outputs": [
    {
     "ename": "ValueError",
     "evalue": "not enough values to unpack (expected 3, got 2)",
     "output_type": "error",
     "traceback": [
      "\u001b[1;31m---------------------------------------------------------------------------\u001b[0m",
      "\u001b[1;31mValueError\u001b[0m                                Traceback (most recent call last)",
      "\u001b[1;32m~\\AppData\\Local\\Temp/ipykernel_16816/1077347426.py\u001b[0m in \u001b[0;36m<module>\u001b[1;34m\u001b[0m\n\u001b[1;32m----> 1\u001b[1;33m \u001b[0myük\u001b[0m\u001b[1;33m,\u001b[0m \u001b[0mgen\u001b[0m\u001b[1;33m,\u001b[0m \u001b[0mkanallar\u001b[0m \u001b[1;33m=\u001b[0m \u001b[0mresim\u001b[0m\u001b[1;33m.\u001b[0m\u001b[0mshape\u001b[0m\u001b[1;33m\u001b[0m\u001b[1;33m\u001b[0m\u001b[0m\n\u001b[0m\u001b[0;32m      2\u001b[0m \u001b[1;33m\u001b[0m\u001b[0m\n\u001b[0;32m      3\u001b[0m \u001b[0mresim\u001b[0m\u001b[1;33m[\u001b[0m\u001b[1;33m:\u001b[0m\u001b[1;33m,\u001b[0m\u001b[1;33m:\u001b[0m\u001b[1;33m,\u001b[0m\u001b[1;36m0\u001b[0m\u001b[1;33m]\u001b[0m \u001b[1;33m=\u001b[0m \u001b[1;36m255\u001b[0m\u001b[1;33m\u001b[0m\u001b[1;33m\u001b[0m\u001b[0m\n\u001b[0;32m      4\u001b[0m \u001b[0mresim\u001b[0m\u001b[1;33m[\u001b[0m\u001b[1;33m:\u001b[0m\u001b[1;33m,\u001b[0m\u001b[1;33m:\u001b[0m\u001b[1;33m,\u001b[0m\u001b[1;36m1\u001b[0m\u001b[1;33m]\u001b[0m \u001b[1;33m=\u001b[0m \u001b[1;36m255\u001b[0m\u001b[1;33m\u001b[0m\u001b[1;33m\u001b[0m\u001b[0m\n\u001b[0;32m      5\u001b[0m \u001b[1;33m\u001b[0m\u001b[0m\n",
      "\u001b[1;31mValueError\u001b[0m: not enough values to unpack (expected 3, got 2)"
     ]
    }
   ],
   "source": [
    "yük, gen, kanallar = resim.shape\n",
    "\n",
    "resim[:,:,0] = 255\n",
    "resim[:,:,1] = 255\n",
    "\n",
    "\n",
    "\n",
    "resmi_göster(resim)"
   ]
  },
  {
   "cell_type": "code",
   "execution_count": 174,
   "id": "20b2549c-249c-4057-b690-282101a67c37",
   "metadata": {},
   "outputs": [
    {
     "data": {
      "text/plain": [
       "<matplotlib.image.AxesImage at 0x22857912940>"
      ]
     },
     "execution_count": 174,
     "metadata": {},
     "output_type": "execute_result"
    },
    {
     "data": {
      "image/png": "[encoded data removed]",
      "text/plain": [
       "<Figure size 432x288 with 1 Axes>"
      ]
     },
     "metadata": {
      "needs_background": "light"
     },
     "output_type": "display_data"
    }
   ],
   "source": [
    "resim_1 = np.random.randint(0,256, size=(5,5,3), dtype = int)\n",
    "plt.imshow(resim_1)"
   ]
  },
  {
   "cell_type": "code",
   "execution_count": 175,
   "id": "36600068-dfc3-48d5-a428-4118f1f44442",
   "metadata": {},
   "outputs": [],
   "source": [
    "# Resmin yarısına kırmızı tonu:\n",
    "resim1_copy = resim_1.copy()\n",
    "yükseklik,genişlik,kanallar = resim1_copy.shape\n",
    "\n",
    "resim1_copy[:,:,0] = resim1_copy[:,:,0] * 2\n"
   ]
  },
  {
   "cell_type": "code",
   "execution_count": 176,
   "id": "003b8f66-cfe5-42fc-af01-fd1cb53d73fa",
   "metadata": {},
   "outputs": [
    {
     "name": "stderr",
     "output_type": "stream",
     "text": [
      "Clipping input data to the valid range for imshow with RGB data ([0..1] for floats or [0..255] for integers).\n"
     ]
    },
    {
     "data": {
      "text/plain": [
       "array([[[432,  70,  27],\n",
       "        [386, 243,  53],\n",
       "        [370,  21, 122],\n",
       "        [ 14, 107,  15],\n",
       "        [ 76, 160, 150]],\n",
       "\n",
       "       [[278, 112, 231],\n",
       "        [186, 212,  43],\n",
       "        [510,  90,  41],\n",
       "        [500,  22,  41],\n",
       "        [132,   5,  61]],\n",
       "\n",
       "       [[506,  82, 237],\n",
       "        [ 94, 241, 128],\n",
       "        [410,  63, 237],\n",
       "        [ 48, 240,  92],\n",
       "        [130, 208,  18]],\n",
       "\n",
       "       [[316,  95, 106],\n",
       "        [298, 162, 123],\n",
       "        [178, 235,  25],\n",
       "        [124,  85,   4],\n",
       "        [426, 125,   9]],\n",
       "\n",
       "       [[250,  11,  91],\n",
       "        [254, 110,  26],\n",
       "        [266, 123, 114],\n",
       "        [166,  94,  13],\n",
       "        [456,  59, 129]]])"
      ]
     },
     "execution_count": 180,
     "metadata": {},
     "output_type": "execute_result"
    },
    {
     "data": {
      "image/png": "[encoded data removed]",
      "text/plain": [
       "<Figure size 360x360 with 1 Axes>"
      ]
     },
     "metadata": {
      "needs_background": "light"
     },
     "output_type": "display_data"
    }
   ],
   "source": [
    "resmi_göster(resim1_copy)"
   ]
  },
  {
   "cell_type": "code",
   "execution_count": 20,
   "id": "3fd08364-a505-4334-8f5f-8b07b35586aa",
   "metadata": {},
   "outputs": [
    {
     "data": {
      "image/png": "[encoded data removed]",
      "text/plain": [
       "<Figure size 360x360 with 1 Axes>"
      ]
     },
     "metadata": {
      "needs_background": "light"
     },
     "output_type": "display_data"
    }
   ],
   "source": [
    "x = resim_1.shape[1] - 1\n",
    "y = resim_1.shape[0] - 1\n",
    "\n",
    "x_end = x + resim_1.shape[1]\n",
    "y_end = y + resim_1.shape[0]\n",
    "\n",
    "sag_alt = resim_1[y:y_end, x:x_end]\n",
    "resmi_göster(sag_alt)"
   ]
  },
  {
   "cell_type": "code",
   "execution_count": 28,
   "id": "7eeca29d-72ad-46c0-b318-1d82cd7408e4",
   "metadata": {},
   "outputs": [
    {
     "name": "stderr",
     "output_type": "stream",
     "text": [
      "Clipping input data to the valid range for imshow with RGB data ([0..1] for floats or [0..255] for integers).\n"
     ]
    },
    {
     "data": {
      "image/png": "[encoded data removed]",
      "text/plain": [
       "<Figure size 360x360 with 1 Axes>"
      ]
     },
     "metadata": {
      "needs_background": "light"
     },
     "output_type": "display_data"
    }
   ],
   "source": [
    "resmi_göster(resim1_copy)"
   ]
  },
  {
   "cell_type": "code",
   "execution_count": 32,
   "id": "520f511c-0fc4-49f6-a90f-d654e70094bd",
   "metadata": {},
   "outputs": [
    {
     "name": "stderr",
     "output_type": "stream",
     "text": [
      "Clipping input data to the valid range for imshow with RGB data ([0..1] for floats or [0..255] for integers).\n"
     ]
    },
    {
     "data": {
      "image/png": "[encoded data removed]",
      "text/plain": [
       "<Figure size 360x360 with 1 Axes>"
      ]
     },
     "metadata": {
      "needs_background": "light"
     },
     "output_type": "display_data"
    }
   ],
   "source": [
    "x = 4\n",
    "y = 4\n",
    "x_son = resim1_copy.shape[1]\n",
    "y_son = resim1_copy.shape[0]\n",
    "\n",
    "\n",
    "sag_alt = resim1_copy[y:y_son, x:x_son]\n",
    "sag_alt[:,:,] = 0\n",
    "resmi_göster(resim1_copy)"
   ]
  },
  {
   "cell_type": "code",
   "execution_count": 34,
   "id": "14255c2a-98b2-411d-b2be-a746e3bd4857",
   "metadata": {},
   "outputs": [
    {
     "name": "stderr",
     "output_type": "stream",
     "text": [
      "Clipping input data to the valid range for imshow with RGB data ([0..1] for floats or [0..255] for integers).\n"
     ]
    },
    {
     "data": {
      "image/png": "[encoded data removed]",
      "text/plain": [
       "<Figure size 360x360 with 1 Axes>"
      ]
     },
     "metadata": {
      "needs_background": "light"
     },
     "output_type": "display_data"
    }
   ],
   "source": [
    "x = resim1_copy[4:5,2:3]\n",
    "x[:,:,] = 0\n",
    "resmi_göster(resim1_copy)"
   ]
  },
  {
   "cell_type": "code",
   "execution_count": 39,
   "id": "bda207db-5a7f-4abb-9390-e11a5a8b5324",
   "metadata": {},
   "outputs": [
    {
     "data": {
      "text/plain": [
       "array([[[240,  36, 220],\n",
       "        [239, 179, 241],\n",
       "        [223,  83,  95],\n",
       "        [149, 145, 213],\n",
       "        [100, 204, 246]],\n",
       "\n",
       "       [[173, 200,   7],\n",
       "        [126,  24,  95],\n",
       "        [ 72, 146, 151],\n",
       "        [128, 254, 120],\n",
       "        [149, 137, 136]],\n",
       "\n",
       "       [[235, 180,  47],\n",
       "        [ 85,  11,  41],\n",
       "        [246, 241, 169],\n",
       "        [129,  76,  35],\n",
       "        [137, 162, 192]],\n",
       "\n",
       "       [[188,   4, 140],\n",
       "        [ 25, 143,  98],\n",
       "        [180, 171, 184],\n",
       "        [106, 134,  93],\n",
       "        [157, 109, 115]],\n",
       "\n",
       "       [[161, 101, 171],\n",
       "        [ 77, 100, 192],\n",
       "        [224, 122, 247],\n",
       "        [206,  47, 152],\n",
       "        [ 61,  55, 131]]])"
      ]
     },
     "execution_count": 39,
     "metadata": {},
     "output_type": "execute_result"
    },
    {
     "data": {
      "image/png": "[encoded data removed]",
      "text/plain": [
       "<Figure size 360x360 with 1 Axes>"
      ]
     },
     "metadata": {
      "needs_background": "light"
     },
     "output_type": "display_data"
    }
   ],
   "source": [
    "resim = np.random.randint(0,256, size=(5,5,3), dtype = int)\n",
    "resmi_göster(resim)\n",
    "resim"
   ]
  },
  {
   "cell_type": "code",
   "execution_count": 19,
   "id": "c1d94920-b36d-4121-bdd7-c37f1428adf8",
   "metadata": {},
   "outputs": [
    {
     "data": {
      "text/plain": [
       "array([[103, 103, 117, 146, 183],\n",
       "       [110, 140, 176, 211, 169],\n",
       "       [168, 206, 178, 126, 115],\n",
       "       [186, 137, 110, 122, 109],\n",
       "       [106, 125, 111, 100,  90]], dtype=uint8)"
      ]
     },
     "execution_count": 19,
     "metadata": {},
     "output_type": "execute_result"
    }
   ],
   "source": [
    "resim = cv2.imread(\"DATA/rainbow.jpg\",0)\n",
    "resim = cv2.resize(resim, dsize=(5,5))\n",
    "resim"
   ]
  },
  {
   "cell_type": "code",
   "execution_count": 30,
   "id": "caef03b0-69bc-4f98-a9c2-57d43634f35b",
   "metadata": {},
   "outputs": [
    {
     "data": {
      "text/plain": [
       "<matplotlib.image.AxesImage at 0x228576a01f0>"
      ]
     },
     "execution_count": 30,
     "metadata": {},
     "output_type": "execute_result"
    },
    {
     "data": {
      "image/png": "[encoded data removed]",
      "text/plain": [
       "<Figure size 432x288 with 1 Axes>"
      ]
     },
     "metadata": {
      "needs_background": "light"
     },
     "output_type": "display_data"
    }
   ],
   "source": [
    "ret,th = cv2.threshold(resim,127,255,cv2.THRESH_OTSU)\n",
    "plt.imshow(th)"
   ]
  },
  {
   "cell_type": "code",
   "execution_count": 31,
   "id": "e7899f3d-813a-456d-87e1-870885b4407a",
   "metadata": {},
   "outputs": [
    {
     "data": {
      "text/plain": [
       "array([[  0,   0,   0,   0, 255],\n",
       "       [  0,   0, 255, 255, 255],\n",
       "       [255, 255, 255,   0,   0],\n",
       "       [255,   0,   0,   0,   0],\n",
       "       [  0,   0,   0,   0,   0]], dtype=uint8)"
      ]
     },
     "execution_count": 31,
     "metadata": {},
     "output_type": "execute_result"
    }
   ],
   "source": [
    "th"
   ]
  },
  {
   "cell_type": "code",
   "execution_count": 32,
   "id": "cb9c7696-7b7a-4f22-8fd3-39e022bfa11a",
   "metadata": {},
   "outputs": [
    {
     "data": {
      "text/plain": [
       "array([[  0,   0,   0,   0,   0,   0,   0,  64, 191, 255],\n",
       "       [  0,   0,   0,  16,  48,  64,  64, 112, 207, 255],\n",
       "       [  0,   0,   0,  48, 143, 191, 191, 207, 239, 255],\n",
       "       [ 64,  64,  64, 112, 207, 239, 207, 191, 191, 191],\n",
       "       [191, 191, 191, 207, 239, 207, 112,  64,  64,  64],\n",
       "       [255, 239, 207, 191, 191, 143,  48,   0,   0,   0],\n",
       "       [255, 207, 112,  64,  64,  48,  16,   0,   0,   0],\n",
       "       [191, 143,  48,   0,   0,   0,   0,   0,   0,   0],\n",
       "       [ 64,  48,  16,   0,   0,   0,   0,   0,   0,   0],\n",
       "       [  0,   0,   0,   0,   0,   0,   0,   0,   0,   0]], dtype=uint8)"
      ]
     },
     "execution_count": 32,
     "metadata": {},
     "output_type": "execute_result"
    }
   ],
   "source": [
    "th = cv2.resize(th, dsize = (10,10))\n",
    "th"
   ]
  },
  {
   "cell_type": "code",
   "execution_count": 33,
   "id": "402a996e-b1c2-4127-a628-d6a8eb12b059",
   "metadata": {},
   "outputs": [
    {
     "data": {
      "text/plain": [
       "<matplotlib.image.AxesImage at 0x228577490a0>"
      ]
     },
     "execution_count": 33,
     "metadata": {},
     "output_type": "execute_result"
    },
    {
     "data": {
      "image/png": "[encoded data removed]",
      "text/plain": [
       "<Figure size 432x288 with 1 Axes>"
      ]
     },
     "metadata": {
      "needs_background": "light"
     },
     "output_type": "display_data"
    }
   ],
   "source": [
    "plt.imshow(th)"
   ]
  },
  {
   "cell_type": "code",
   "execution_count": 43,
   "id": "5b61c69b-c52a-40d1-91f2-2ad5962a2458",
   "metadata": {},
   "outputs": [
    {
     "data": {
      "text/plain": [
       "array([[5, 5, 5, 5, 5],\n",
       "       [5, 5, 5, 5, 5],\n",
       "       [5, 5, 5, 5, 5],\n",
       "       [5, 5, 5, 5, 5],\n",
       "       [5, 5, 5, 5, 5]])"
      ]
     },
     "execution_count": 43,
     "metadata": {},
     "output_type": "execute_result"
    }
   ],
   "source": [
    "resim = np.ones(shape=(5,5), dtype = int) * 5\n",
    "resim"
   ]
  },
  {
   "cell_type": "code",
   "execution_count": 135,
   "id": "0d09c3de-efef-4840-bb4e-ff24775a1415",
   "metadata": {},
   "outputs": [],
   "source": [
    "resim = cv2.resize(resim, dsize=(25,1))"
   ]
  },
  {
   "cell_type": "code",
   "execution_count": 154,
   "id": "1ff712d5-c81d-47eb-acee-67262a4fffdd",
   "metadata": {},
   "outputs": [
    {
     "data": {
      "text/plain": [
       "array([[103, 103, 103, 103, 103, 121, 138, 155, 176],\n",
       "       [103, 103, 103, 118, 135, 151, 172, 193, 209],\n",
       "       [103, 114, 132, 148, 168, 189, 211, 191, 169],\n",
       "       [127, 145, 163, 185, 207, 196, 173, 144, 113],\n",
       "       [160, 180, 202, 201, 178, 151, 119, 107, 119],\n",
       "       [198, 205, 182, 156, 125, 105, 117, 124, 115],\n",
       "       [187, 163, 132, 103, 115, 126, 118, 109, 103],\n",
       "       [138, 107, 112, 125, 119, 111, 106, 100,  94],\n",
       "       [110, 122, 121, 113, 106, 100,  95,  89,  89]], dtype=uint8)"
      ]
     },
     "execution_count": 154,
     "metadata": {},
     "output_type": "execute_result"
    }
   ],
   "source": [
    "resim = cv2.imread(\"DATA/rainbow.jpg\",0)\n",
    "resim = cv2.resize(resim, dsize = (9,9))\n",
    "resim"
   ]
  },
  {
   "cell_type": "code",
   "execution_count": 155,
   "id": "d178a12c-1e28-4b38-baf1-5c0a618c228f",
   "metadata": {},
   "outputs": [],
   "source": [
    "resim_blur = cv2.medianBlur(resim, ksize=(3))"
   ]
  },
  {
   "cell_type": "code",
   "execution_count": 156,
   "id": "6754902a-d178-42fb-b413-2d542ac12a51",
   "metadata": {},
   "outputs": [
    {
     "data": {
      "text/plain": [
       "array([[103, 103, 103, 103, 118, 135, 151, 172, 176],\n",
       "       [103, 103, 103, 118, 135, 151, 172, 176, 176],\n",
       "       [103, 114, 132, 148, 168, 173, 189, 173, 169],\n",
       "       [127, 145, 163, 178, 185, 178, 173, 144, 119],\n",
       "       [160, 180, 182, 182, 178, 151, 124, 119, 115],\n",
       "       [187, 182, 180, 156, 126, 119, 118, 117, 115],\n",
       "       [187, 163, 132, 125, 119, 117, 111, 109, 103],\n",
       "       [138, 122, 121, 115, 113, 111, 106, 100,  94],\n",
       "       [110, 121, 121, 113, 111, 106, 100,  94,  89]], dtype=uint8)"
      ]
     },
     "execution_count": 156,
     "metadata": {},
     "output_type": "execute_result"
    }
   ],
   "source": [
    "resim_blur"
   ]
  },
  {
   "cell_type": "code",
   "execution_count": 153,
   "id": "278683a4-f4d5-452c-8f1c-8f54e828b736",
   "metadata": {},
   "outputs": [
    {
     "data": {
      "text/plain": [
       "<matplotlib.image.AxesImage at 0x2285996d460>"
      ]
     },
     "execution_count": 153,
     "metadata": {},
     "output_type": "execute_result"
    },
    {
     "data": {
      "image/png": "[encoded data removed]",
      "text/plain": [
       "<Figure size 432x288 with 1 Axes>"
      ]
     },
     "metadata": {
      "needs_background": "light"
     },
     "output_type": "display_data"
    }
   ],
   "source": [
    "plt.imshow(resim_blur)"
   ]
  },
  {
   "cell_type": "code",
   "execution_count": 158,
   "id": "50c37369-28bd-4894-8975-373e0c5ee7fc",
   "metadata": {},
   "outputs": [
    {
     "data": {
      "text/plain": [
       "<matplotlib.image.AxesImage at 0x22858fde5e0>"
      ]
     },
     "execution_count": 158,
     "metadata": {},
     "output_type": "execute_result"
    },
    {
     "data": {
      "image/png": "[encoded data removed]",
      "text/plain": [
       "<Figure size 432x288 with 1 Axes>"
      ]
     },
     "metadata": {
      "needs_background": "light"
     },
     "output_type": "display_data"
    }
   ],
   "source": [
    "x = np.ones(shape=(10,10), dtype=int)*20\n",
    "plt.imshow(x)"
   ]
  },
  {
   "cell_type": "code",
   "execution_count": 161,
   "id": "23813d73-4f59-40aa-aa1f-823539b946ab",
   "metadata": {},
   "outputs": [
    {
     "ename": "TypeError",
     "evalue": "'int' object is not callable",
     "output_type": "error",
     "traceback": [
      "\u001b[1;31m---------------------------------------------------------------------------\u001b[0m",
      "\u001b[1;31mTypeError\u001b[0m                                 Traceback (most recent call last)",
      "\u001b[1;32m~\\AppData\\Local\\Temp/ipykernel_6016/1939437700.py\u001b[0m in \u001b[0;36m<module>\u001b[1;34m\u001b[0m\n\u001b[1;32m----> 1\u001b[1;33m \u001b[0mcv2\u001b[0m\u001b[1;33m.\u001b[0m\u001b[0mBORDER_CONSTANT\u001b[0m\u001b[1;33m(\u001b[0m\u001b[1;36m10\u001b[0m\u001b[1;33m)\u001b[0m\u001b[1;33m\u001b[0m\u001b[1;33m\u001b[0m\u001b[0m\n\u001b[0m",
      "\u001b[1;31mTypeError\u001b[0m: 'int' object is not callable"
     ]
    }
   ],
   "source": [
    "cv2.BORDER_CONSTANT(10)"
   ]
  },
  {
   "cell_type": "code",
   "execution_count": null,
   "id": "5320c3be-7d8a-4ce9-a359-499ae107b5c3",
   "metadata": {},
   "outputs": [],
   "source": []
  },
  {
   "cell_type": "code",
   "execution_count": null,
   "id": "3a9cc146-8897-4534-b924-d055f54f5aba",
   "metadata": {},
   "outputs": [],
   "source": []
  },
  {
   "cell_type": "code",
   "execution_count": null,
   "id": "c27bc3f2-45b1-4e25-b167-6dcbb9ec18cf",
   "metadata": {},
   "outputs": [],
   "source": []
  },
  {
   "cell_type": "code",
   "execution_count": 165,
   "id": "52d6c1ae-d9f1-4c0a-8ce0-caea51f758d5",
   "metadata": {},
   "outputs": [
    {
     "ename": "error",
     "evalue": "OpenCV(4.6.0) D:/a/opencv-python/opencv-python/opencv/modules/imgproc/src/morph.simd.hpp:756: error: (-213:The function/feature is not implemented) Unsupported data type (=4) in function 'cv::opt_AVX2::getMorphologyRowFilter'\n",
     "output_type": "error",
     "traceback": [
      "\u001b[1;31m---------------------------------------------------------------------------\u001b[0m",
      "\u001b[1;31merror\u001b[0m                                     Traceback (most recent call last)",
      "\u001b[1;32m~\\AppData\\Local\\Temp/ipykernel_6016/3096906118.py\u001b[0m in \u001b[0;36m<module>\u001b[1;34m\u001b[0m\n\u001b[0;32m      1\u001b[0m \u001b[0mresim\u001b[0m \u001b[1;33m=\u001b[0m \u001b[0mnp\u001b[0m\u001b[1;33m.\u001b[0m\u001b[0mrandom\u001b[0m\u001b[1;33m.\u001b[0m\u001b[0mrandint\u001b[0m\u001b[1;33m(\u001b[0m\u001b[1;36m0\u001b[0m\u001b[1;33m,\u001b[0m\u001b[1;36m2\u001b[0m\u001b[1;33m,\u001b[0m \u001b[0msize\u001b[0m \u001b[1;33m=\u001b[0m \u001b[1;33m(\u001b[0m\u001b[1;36m5\u001b[0m\u001b[1;33m,\u001b[0m\u001b[1;36m5\u001b[0m\u001b[1;33m)\u001b[0m\u001b[1;33m,\u001b[0m \u001b[0mdtype\u001b[0m \u001b[1;33m=\u001b[0m \u001b[0mint\u001b[0m\u001b[1;33m)\u001b[0m\u001b[1;33m\u001b[0m\u001b[1;33m\u001b[0m\u001b[0m\n\u001b[0;32m      2\u001b[0m \u001b[0mkernel\u001b[0m \u001b[1;33m=\u001b[0m \u001b[0mnp\u001b[0m\u001b[1;33m.\u001b[0m\u001b[0mones\u001b[0m\u001b[1;33m(\u001b[0m\u001b[1;33m(\u001b[0m\u001b[1;36m5\u001b[0m\u001b[1;33m,\u001b[0m\u001b[1;36m5\u001b[0m\u001b[1;33m)\u001b[0m\u001b[1;33m,\u001b[0m\u001b[0mnp\u001b[0m\u001b[1;33m.\u001b[0m\u001b[0muint8\u001b[0m\u001b[1;33m)\u001b[0m\u001b[1;33m\u001b[0m\u001b[1;33m\u001b[0m\u001b[0m\n\u001b[1;32m----> 3\u001b[1;33m \u001b[0merosion1\u001b[0m \u001b[1;33m=\u001b[0m \u001b[0mcv2\u001b[0m\u001b[1;33m.\u001b[0m\u001b[0merode\u001b[0m\u001b[1;33m(\u001b[0m\u001b[0mresim\u001b[0m\u001b[1;33m,\u001b[0m\u001b[0mkernel\u001b[0m\u001b[1;33m,\u001b[0m\u001b[0miterations\u001b[0m \u001b[1;33m=\u001b[0m \u001b[1;36m1\u001b[0m\u001b[1;33m)\u001b[0m\u001b[1;33m\u001b[0m\u001b[1;33m\u001b[0m\u001b[0m\n\u001b[0m",
      "\u001b[1;31merror\u001b[0m: OpenCV(4.6.0) D:/a/opencv-python/opencv-python/opencv/modules/imgproc/src/morph.simd.hpp:756: error: (-213:The function/feature is not implemented) Unsupported data type (=4) in function 'cv::opt_AVX2::getMorphologyRowFilter'\n"
     ]
    }
   ],
   "source": [
    "resim = np.random.randint(0,2, size = (5,5), dtype = int)\n",
    "kernel = np.ones((5,5),np.uint8)\n",
    "erosion1 = cv2.erode(resim,kernel,iterations = 1)"
   ]
  },
  {
   "cell_type": "code",
   "execution_count": 166,
   "id": "c1c1843a-4a00-47f4-a5ac-c59d3519bcdd",
   "metadata": {},
   "outputs": [
    {
     "data": {
      "text/plain": [
       "<matplotlib.image.AxesImage at 0x2285896b9a0>"
      ]
     },
     "execution_count": 166,
     "metadata": {},
     "output_type": "execute_result"
    },
    {
     "data": {
      "image/png": "[encoded data removed]",
      "text/plain": [
       "<Figure size 432x288 with 1 Axes>"
      ]
     },
     "metadata": {
      "needs_background": "light"
     },
     "output_type": "display_data"
    }
   ],
   "source": [
    "x = np.random.randint(0,2, size = (4,5), dtype = int)\n",
    "plt.imshow(x)"
   ]
  },
  {
   "cell_type": "code",
   "execution_count": 167,
   "id": "82e4fa17-e602-4b6a-9e5e-89a147b317a6",
   "metadata": {},
   "outputs": [
    {
     "data": {
      "text/plain": [
       "<matplotlib.image.AxesImage at 0x228589e07f0>"
      ]
     },
     "execution_count": 167,
     "metadata": {},
     "output_type": "execute_result"
    },
    {
     "data": {
      "image/png": "[encoded data removed]",
      "text/plain": [
       "<Figure size 432x288 with 1 Axes>"
      ]
     },
     "metadata": {
      "needs_background": "light"
     },
     "output_type": "display_data"
    }
   ],
   "source": [
    "x = np.array([[0,0,0,0,0],[0,0,1,1,0],[0,0,1,1,0],[0,0,0,0,0]], dtype = int)\n",
    "plt.imshow(x)"
   ]
  },
  {
   "cell_type": "code",
   "execution_count": 173,
   "id": "6ceb7c43-2c76-46ba-8826-523db8ff22b0",
   "metadata": {},
   "outputs": [
    {
     "ename": "error",
     "evalue": "OpenCV(4.6.0) D:/a/opencv-python/opencv-python/opencv/modules/imgproc/src/morph.simd.hpp:756: error: (-213:The function/feature is not implemented) Unsupported data type (=4) in function 'cv::opt_AVX2::getMorphologyRowFilter'\n",
     "output_type": "error",
     "traceback": [
      "\u001b[1;31m---------------------------------------------------------------------------\u001b[0m",
      "\u001b[1;31merror\u001b[0m                                     Traceback (most recent call last)",
      "\u001b[1;32m~\\AppData\\Local\\Temp/ipykernel_6016/1808834425.py\u001b[0m in \u001b[0;36m<module>\u001b[1;34m\u001b[0m\n\u001b[0;32m      1\u001b[0m \u001b[0mkernel\u001b[0m \u001b[1;33m=\u001b[0m \u001b[0mnp\u001b[0m\u001b[1;33m.\u001b[0m\u001b[0mones\u001b[0m\u001b[1;33m(\u001b[0m\u001b[1;33m(\u001b[0m\u001b[1;36m1\u001b[0m\u001b[1;33m,\u001b[0m\u001b[1;36m3\u001b[0m\u001b[1;33m)\u001b[0m\u001b[1;33m,\u001b[0m\u001b[0mnp\u001b[0m\u001b[1;33m.\u001b[0m\u001b[0muint8\u001b[0m\u001b[1;33m)\u001b[0m\u001b[1;33m\u001b[0m\u001b[1;33m\u001b[0m\u001b[0m\n\u001b[1;32m----> 2\u001b[1;33m \u001b[0mer\u001b[0m \u001b[1;33m=\u001b[0m \u001b[0mcv2\u001b[0m\u001b[1;33m.\u001b[0m\u001b[0merode\u001b[0m\u001b[1;33m(\u001b[0m\u001b[0mx\u001b[0m\u001b[1;33m,\u001b[0m\u001b[0mkernel\u001b[0m\u001b[1;33m,\u001b[0m\u001b[0miterations\u001b[0m \u001b[1;33m=\u001b[0m \u001b[1;36m1\u001b[0m\u001b[1;33m)\u001b[0m\u001b[1;33m\u001b[0m\u001b[1;33m\u001b[0m\u001b[0m\n\u001b[0m\u001b[0;32m      3\u001b[0m \u001b[0mplt\u001b[0m\u001b[1;33m.\u001b[0m\u001b[0mimshow\u001b[0m\u001b[1;33m(\u001b[0m\u001b[0mer\u001b[0m\u001b[1;33m)\u001b[0m\u001b[1;33m\u001b[0m\u001b[1;33m\u001b[0m\u001b[0m\n",
      "\u001b[1;31merror\u001b[0m: OpenCV(4.6.0) D:/a/opencv-python/opencv-python/opencv/modules/imgproc/src/morph.simd.hpp:756: error: (-213:The function/feature is not implemented) Unsupported data type (=4) in function 'cv::opt_AVX2::getMorphologyRowFilter'\n"
     ]
    }
   ],
   "source": [
    "kernel = np.ones((1,3),np.uint8)\n",
    "er = cv2.erode(x,kernel,iterations = 1)\n",
    "plt.imshow(er)"
   ]
  },
  {
   "cell_type": "code",
   "execution_count": null,
   "id": "44347e53-3aa9-458f-8205-13338f97ff26",
   "metadata": {},
   "outputs": [],
   "source": [
    "cv2.blur()"
   ]
  },
  {
   "cell_type": "code",
   "execution_count": null,
   "id": "10de7913-28af-431e-95bd-7f01539ea279",
   "metadata": {},
   "outputs": [],
   "source": [
    "cv2.filter2D()"
   ]
  },
  {
   "cell_type": "code",
   "execution_count": null,
   "id": "882f847b-9ba4-4667-8ace-a147bc5206fb",
   "metadata": {},
   "outputs": [],
   "source": [
    "## "
   ]
  }
 ],
 "metadata": {
  "kernelspec": {
   "display_name": "Python 3 (ipykernel)",
   "language": "python",
   "name": "python3"
  },
  "language_info": {
   "codemirror_mode": {
    "name": "ipython",
    "version": 3
   },
   "file_extension": ".py",
   "mimetype": "text/x-python",
   "name": "python",
   "nbconvert_exporter": "python",
   "pygments_lexer": "ipython3",
   "version": "3.9.7"
  }
 },
 "nbformat": 4,
 "nbformat_minor": 5
}
