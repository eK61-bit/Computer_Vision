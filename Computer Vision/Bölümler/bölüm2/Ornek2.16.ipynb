{
 "cells": [
  {
   "cell_type": "code",
   "execution_count": 5,
   "metadata": {},
   "outputs": [
    {
     "name": "stdout",
     "output_type": "stream",
     "text": [
      "[  1 100   2   5   6]\n",
      "******\n",
      "[[  1 100   2]\n",
      " [  5 100   6]]\n",
      "******\n",
      "[[  1   2 100 101 102]\n",
      " [  5   6 100 101 102]]\n",
      "******\n",
      "[[  1   2]\n",
      " [100 101]\n",
      " [  5   6]]\n"
     ]
    }
   ],
   "source": [
    "# Örnek 2.16 - ndarray.insert() fonskiyonu\n",
    "\n",
    "import numpy as np\n",
    "\n",
    "x = np.array([[1, 2],[5, 6]])\n",
    "print(np.insert(x,1,100))\n",
    "print(\"******\")\n",
    "print(np.insert(x,1,100,axis=1))\n",
    "print(\"******\")\n",
    "print(np.insert(x,2,[[100],[101],[102]],axis=1))\n",
    "print(\"******\")\n",
    "print(np.insert(x,1,[[100,101]],axis=0))"
   ]
  }
 ],
 "metadata": {
  "kernelspec": {
   "display_name": "Python 3",
   "language": "python",
   "name": "python3"
  },
  "language_info": {
   "codemirror_mode": {
    "name": "ipython",
    "version": 3
   },
   "file_extension": ".py",
   "mimetype": "text/x-python",
   "name": "python",
   "nbconvert_exporter": "python",
   "pygments_lexer": "ipython3",
   "version": "3.6.12"
  }
 },
 "nbformat": 4,
 "nbformat_minor": 4
}
