{
 "cells": [
  {
   "cell_type": "code",
   "execution_count": 23,
   "metadata": {},
   "outputs": [
    {
     "name": "stdout",
     "output_type": "stream",
     "text": [
      "[[ 8 10 12]\n",
      " [11  7  3]\n",
      " [ 1 15  2]]\n",
      "*****\n",
      "[[1 2 1]]\n",
      "*****\n",
      "[[ 9 12 13]\n",
      " [12  9  4]\n",
      " [ 2 17  3]]\n",
      "*****\n",
      "(3, 3)\n",
      "*****\n",
      "(1, 3)\n"
     ]
    }
   ],
   "source": [
    "#Örnek 2.26 – Bitwise işlemleri -2\n",
    "\n",
    "import numpy as np\n",
    "\n",
    "x = np.array([[8,10,12],[11,7,3],[1,15,2]])\n",
    "y = np.array([[1,2,1]])\n",
    "\n",
    "print(x)\n",
    "print(\"*****\")\n",
    "print(y)\n",
    "print(\"*****\")\n",
    "print(x+y)\n",
    "print(\"*****\")\n",
    "print(x.shape)\n",
    "print(\"*****\")\n",
    "print(y.shape)"
   ]
  },
  {
   "cell_type": "code",
   "execution_count": 16,
   "metadata": {},
   "outputs": [
    {
     "name": "stdout",
     "output_type": "stream",
     "text": [
      "******\n",
      "(2, 1)\n",
      "(2, 2)\n",
      "(1, 2)\n",
      "******\n",
      "[[ 3  4]\n",
      " [10 12]]\n",
      "******\n",
      "[[ 3  8]\n",
      " [ 5 12]]\n",
      "******\n",
      "[[2 3]\n",
      " [3 4]]\n"
     ]
    }
   ],
   "source": [
    "import numpy as np\n",
    " \n",
    "a = np.array([\n",
    "    [1],\n",
    "    [2]\n",
    "])\n",
    "b = np.array([\n",
    "    [3, 4],\n",
    "    [5, 6]\n",
    "])\n",
    "c = np.array([\n",
    "    [1, 2]\n",
    "])\n",
    "print(\"******\")\n",
    "print(a.shape)\n",
    "print(b.shape)\n",
    "print(c.shape)\n",
    "print(\"******\")\n",
    "# Ayni satir sayisi\n",
    "# Farkli sutun sayisi\n",
    "# ama a'nin boyutu bir sutun o yuzden calisir\n",
    "print(a * b)\n",
    "# [[ 3, 4],\n",
    "# [10, 12]]\n",
    "print(\"******\")\n",
    "# Ayni sutun sayisi\n",
    "# Farkli satir sayisi\n",
    "# ama c bir satirli o yuzden calisir\n",
    "print(b * c)\n",
    "# [[ 3, 8],\n",
    "# [5, 12]]\n",
    "print(\"******\")\n",
    "# Farkli satir sayisi\n",
    "# Farkli sutun sayisi\n",
    "# ama a da c de tek boyutlu o yuzden calisir\n",
    "print(a + c)\n",
    "# [[2, 3],\n",
    "# [3, 4]]"
   ]
  },
  {
   "cell_type": "code",
   "execution_count": 19,
   "metadata": {},
   "outputs": [
    {
     "name": "stdout",
     "output_type": "stream",
     "text": [
      "(4, 3)\n",
      "(3,)\n",
      "******\n",
      "[[ 0.  0.  0.]\n",
      " [10. 10. 10.]\n",
      " [20. 20. 20.]\n",
      " [30. 30. 30.]]\n",
      "******\n",
      "[1. 2. 3.]\n",
      "******\n",
      "[[ 1.  2.  3.]\n",
      " [11. 12. 13.]\n",
      " [21. 22. 23.]\n",
      " [31. 32. 33.]]\n",
      "******\n",
      "(4, 3)\n"
     ]
    }
   ],
   "source": [
    "import numpy as np \n",
    "a = np.array([[0.0,0.0,0.0],[10.0,10.0,10.0],[20.0,20.0,20.0],[30.0,30.0,30.0]]) \n",
    "b = np.array([1.0,2.0,3.0])  \n",
    "\n",
    "print(a.shape)\n",
    "print(b.shape)\n",
    "print(\"******\")\n",
    "print(a) \n",
    "print(\"******\")  \n",
    "print(b) \n",
    "print(\"******\")  \n",
    "print(a + b)\n",
    "print(\"******\")\n",
    "print((a + b).shape)"
   ]
  },
  {
   "cell_type": "code",
   "execution_count": 33,
   "metadata": {},
   "outputs": [],
   "source": [
    "import numpy as np \n",
    "\n",
    "a = np.array([[1,1],[1,1]],dtype=np.int8) \n",
    "b = np.array([10,20,30,40]) "
   ]
  },
  {
   "cell_type": "code",
   "execution_count": 39,
   "metadata": {},
   "outputs": [
    {
     "data": {
      "text/plain": [
       "array([[1., 0., 0.],\n",
       "       [0., 1., 0.],\n",
       "       [0., 0., 1.]])"
      ]
     },
     "execution_count": 39,
     "metadata": {},
     "output_type": "execute_result"
    }
   ],
   "source": [
    "np.eye(3)"
   ]
  },
  {
   "cell_type": "code",
   "execution_count": 51,
   "metadata": {},
   "outputs": [
    {
     "data": {
      "text/plain": [
       "\u001b[1;31mInit signature:\u001b[0m \u001b[0mnp\u001b[0m\u001b[1;33m.\u001b[0m\u001b[0mdouble\u001b[0m\u001b[1;33m(\u001b[0m\u001b[0mself\u001b[0m\u001b[1;33m,\u001b[0m \u001b[1;33m/\u001b[0m\u001b[1;33m,\u001b[0m \u001b[1;33m*\u001b[0m\u001b[0margs\u001b[0m\u001b[1;33m,\u001b[0m \u001b[1;33m**\u001b[0m\u001b[0mkwargs\u001b[0m\u001b[1;33m)\u001b[0m\u001b[1;33m\u001b[0m\u001b[1;33m\u001b[0m\u001b[0m\n",
       "\u001b[1;31mDocstring:\u001b[0m     \n",
       "Double-precision floating-point number type, compatible with Python `float`\n",
       "and C ``double``.\n",
       "Character code: ``'d'``.\n",
       "Canonical name: ``np.double``.\n",
       "Alias: ``np.float_``.\n",
       "Alias *on this platform*: ``np.float64``: 64-bit precision floating-point number type: sign bit, 11 bits exponent, 52 bits mantissa.\n",
       "\u001b[1;31mFile:\u001b[0m           c:\\users\\murat\\anaconda3\\envs\\python-ahi\\lib\\site-packages\\numpy\\__init__.py\n",
       "\u001b[1;31mType:\u001b[0m           type\n",
       "\u001b[1;31mSubclasses:\u001b[0m     \n"
      ]
     },
     "metadata": {},
     "output_type": "display_data"
    }
   ],
   "source": [
    "??np.double"
   ]
  },
  {
   "cell_type": "code",
   "execution_count": null,
   "metadata": {},
   "outputs": [],
   "source": []
  }
 ],
 "metadata": {
  "kernelspec": {
   "display_name": "Python 3 (ipykernel)",
   "language": "python",
   "name": "python3"
  },
  "language_info": {
   "codemirror_mode": {
    "name": "ipython",
    "version": 3
   },
   "file_extension": ".py",
   "mimetype": "text/x-python",
   "name": "python",
   "nbconvert_exporter": "python",
   "pygments_lexer": "ipython3",
   "version": "3.9.7"
  }
 },
 "nbformat": 4,
 "nbformat_minor": 4
}
