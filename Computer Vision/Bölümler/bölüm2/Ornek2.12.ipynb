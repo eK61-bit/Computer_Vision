{
 "cells": [
  {
   "cell_type": "code",
   "execution_count": 14,
   "metadata": {},
   "outputs": [
    {
     "name": "stdout",
     "output_type": "stream",
     "text": [
      "[[ 1  2  3]\n",
      " [ 8  9 10]\n",
      " [15 16 17]]\n",
      "*******\n",
      "[[17 16 15]\n",
      " [10  9  8]\n",
      " [ 3  2  1]]\n",
      "*******\n",
      "[[15 16 17]\n",
      " [ 8  9 10]\n",
      " [ 1  2  3]]\n",
      "*******\n",
      "[[ 3  2  1]\n",
      " [10  9  8]\n",
      " [17 16 15]]\n",
      "*******\n",
      "[17 16 15]\n",
      "*******\n"
     ]
    }
   ],
   "source": [
    "# Örnek 2.12: ndarray.flip() fonskiyonu\n",
    "\n",
    "import numpy as np\n",
    "\n",
    "x = np.array([[1, 2, 3], [8, 9, 10],[15,16,17]])\n",
    "print(x)\n",
    "print(\"*******\")\n",
    "print(np.flip(x))\n",
    "print(\"*******\")\n",
    "print(np.flip(x,0))\n",
    "print(\"*******\")\n",
    "print(np.flip(x,1))\n",
    "print(\"*******\")\n",
    "print(np.flip(x[2]))\n",
    "print(\"*******\")"
   ]
  }
 ],
 "metadata": {
  "kernelspec": {
   "display_name": "Python 3",
   "language": "python",
   "name": "python3"
  },
  "language_info": {
   "codemirror_mode": {
    "name": "ipython",
    "version": 3
   },
   "file_extension": ".py",
   "mimetype": "text/x-python",
   "name": "python",
   "nbconvert_exporter": "python",
   "pygments_lexer": "ipython3",
   "version": "3.6.12"
  }
 },
 "nbformat": 4,
 "nbformat_minor": 4
}
