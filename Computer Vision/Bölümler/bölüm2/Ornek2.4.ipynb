{
 "cells": [
  {
   "cell_type": "code",
   "execution_count": 6,
   "metadata": {},
   "outputs": [
    {
     "name": "stdout",
     "output_type": "stream",
     "text": [
      "[0 1 2 3 4]\n",
      "[ 5.  8. 11. 14.]\n",
      "[20 19 18 17]\n"
     ]
    }
   ],
   "source": [
    "#Örnek 2.4 – np.arange() fonksiyonu\n",
    "\n",
    "import numpy as np\n",
    "\n",
    "x = np.arange(5)\n",
    "print(x)\n",
    "\n",
    "y = np.arange(5,16,3,dtype = np.float)\n",
    "print(y)\n",
    "\n",
    "z = np.arange(20,16,-1)\n",
    "print(z)"
   ]
  }
 ],
 "metadata": {
  "kernelspec": {
   "display_name": "Python 3",
   "language": "python",
   "name": "python3"
  },
  "language_info": {
   "codemirror_mode": {
    "name": "ipython",
    "version": 3
   },
   "file_extension": ".py",
   "mimetype": "text/x-python",
   "name": "python",
   "nbconvert_exporter": "python",
   "pygments_lexer": "ipython3",
   "version": "3.6.12"
  }
 },
 "nbformat": 4,
 "nbformat_minor": 4
}
