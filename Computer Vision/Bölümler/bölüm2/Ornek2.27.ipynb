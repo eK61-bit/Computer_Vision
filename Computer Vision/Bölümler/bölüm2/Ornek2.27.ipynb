{
 "cells": [
  {
   "cell_type": "code",
   "execution_count": 1,
   "metadata": {},
   "outputs": [
    {
     "name": "stdout",
     "output_type": "stream",
     "text": [
      "[5 5 3 5 3]\n",
      "[6 5 4 9 4]\n"
     ]
    }
   ],
   "source": [
    "#Örnek 2.27 – np.clip() fonksiyonu\n",
    "\n",
    "import numpy as np\n",
    "\n",
    "a = np.array([6, 5, 3, 9, 2])\n",
    "\n",
    "x = np.clip(a,3,5)\n",
    "y = np.clip(a,4,None,out=a)\n",
    "\n",
    "print(x)\n",
    "print(a)"
   ]
  }
 ],
 "metadata": {
  "kernelspec": {
   "display_name": "Python 3 (ipykernel)",
   "language": "python",
   "name": "python3"
  },
  "language_info": {
   "codemirror_mode": {
    "name": "ipython",
    "version": 3
   },
   "file_extension": ".py",
   "mimetype": "text/x-python",
   "name": "python",
   "nbconvert_exporter": "python",
   "pygments_lexer": "ipython3",
   "version": "3.9.7"
  }
 },
 "nbformat": 4,
 "nbformat_minor": 4
}
