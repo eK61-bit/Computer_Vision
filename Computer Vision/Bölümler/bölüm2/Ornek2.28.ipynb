{
 "cells": [
  {
   "cell_type": "code",
   "execution_count": 5,
   "metadata": {},
   "outputs": [
    {
     "name": "stdout",
     "output_type": "stream",
     "text": [
      "     isim dTarihi\n",
      "0   Ahmet    1984\n",
      "1  Mehmet    1986\n",
      "2     Ali    1999\n",
      "3   Osman    1987\n",
      "4    Enes    1963\n",
      "******\n",
      "isim       Mehmet\n",
      "dTarihi      1986\n",
      "Name: 1, dtype: object\n"
     ]
    }
   ],
   "source": [
    "#Örnek 2.29 - pandas ile veri seti kaydetme\n",
    "\n",
    "import numpy as np\n",
    "import pandas as pd\n",
    "\n",
    "bilgiler = np.array([\n",
    "    ['Ahmet', '1984'],\n",
    "    ['Mehmet', '1986'],\n",
    "    ['Ali', '1999'],\n",
    "    ['Osman', '1987'],\n",
    "    ['Enes', '1963']])\n",
    "\n",
    "df = pd.DataFrame(data=bilgiler,columns=['isim','dTarihi'])\n",
    "\n",
    "print(df)\n",
    "print(\"******\")\n",
    "print(df.loc[1])\n",
    "\n",
    "df.to_csv('bilgi.csv')"
   ]
  },
  {
   "cell_type": "code",
   "execution_count": null,
   "metadata": {},
   "outputs": [],
   "source": []
  }
 ],
 "metadata": {
  "kernelspec": {
   "display_name": "Python 3",
   "language": "python",
   "name": "python3"
  },
  "language_info": {
   "codemirror_mode": {
    "name": "ipython",
    "version": 3
   },
   "file_extension": ".py",
   "mimetype": "text/x-python",
   "name": "python",
   "nbconvert_exporter": "python",
   "pygments_lexer": "ipython3",
   "version": "3.6.12"
  }
 },
 "nbformat": 4,
 "nbformat_minor": 4
}
