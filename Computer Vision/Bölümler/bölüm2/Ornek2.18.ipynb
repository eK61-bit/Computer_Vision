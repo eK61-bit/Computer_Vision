{
 "cells": [
  {
   "cell_type": "code",
   "execution_count": 14,
   "metadata": {},
   "outputs": [
    {
     "name": "stdout",
     "output_type": "stream",
     "text": [
      "[[1 2]\n",
      " [3 4]\n",
      " [5 6]]\n",
      "*******\n",
      "[1 2 3 4 5 6]\n",
      "*******\n",
      "[[1 2 1]\n",
      " [3 4 2]\n",
      " [5 6 3]]\n"
     ]
    }
   ],
   "source": [
    "#Örnek 2.12 – np.concatenate() fonksiyonu\n",
    "\n",
    "import numpy as np\n",
    "\n",
    "x =np.array([[1,2],[3,4]])\n",
    "y =np.array([[5,6]])\n",
    "z =np.array([[1,2,3]])\n",
    "xy = np.concatenate((x,y),axis=0)\n",
    "print(xy)\n",
    "print(\"*******\")\n",
    "print(np.concatenate((x,y),axis=None))\n",
    "print(\"*******\")\n",
    "print(np.concatenate((xy,z.T),axis=1))"
   ]
  }
 ],
 "metadata": {
  "kernelspec": {
   "display_name": "Python 3 (ipykernel)",
   "language": "python",
   "name": "python3"
  },
  "language_info": {
   "codemirror_mode": {
    "name": "ipython",
    "version": 3
   },
   "file_extension": ".py",
   "mimetype": "text/x-python",
   "name": "python",
   "nbconvert_exporter": "python",
   "pygments_lexer": "ipython3",
   "version": "3.9.7"
  }
 },
 "nbformat": 4,
 "nbformat_minor": 4
}
