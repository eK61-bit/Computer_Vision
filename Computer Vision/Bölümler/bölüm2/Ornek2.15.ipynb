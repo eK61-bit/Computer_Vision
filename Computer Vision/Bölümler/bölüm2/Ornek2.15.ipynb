{
 "cells": [
  {
   "cell_type": "code",
   "execution_count": 38,
   "metadata": {},
   "outputs": [
    {
     "name": "stdout",
     "output_type": "stream",
     "text": [
      "[1 2 5 6 5 6]\n",
      "******\n",
      "[[ 1  2]\n",
      " [ 5  6]\n",
      " [ 9 10]]\n",
      "******\n",
      "[[ 1  2]\n",
      " [ 5  6]\n",
      " [20 21]\n",
      " [22 23]]\n",
      "******\n",
      "[[ 1  2 20]\n",
      " [ 5  6 23]]\n",
      "******\n"
     ]
    }
   ],
   "source": [
    "# Örnek 2.15: ndarray.append() fonskiyonu\n",
    "\n",
    "import numpy as np\n",
    "\n",
    "x = np.array([[1, 2],[5, 6]])\n",
    "print(np.append(x,[5,6]))\n",
    "print(\"******\")\n",
    "print(np.append(x,[[9,10]],axis=0))\n",
    "print(\"******\")\n",
    "print(np.append(x,[[20,21],[22,23]],axis=0))\n",
    "print(\"******\")\n",
    "print(np.append(x,[[20],[23]],axis=1))\n",
    "print(np.unique(x))"
   ]
  }
 ],
 "metadata": {
  "kernelspec": {
   "display_name": "Python 3",
   "language": "python",
   "name": "python3"
  },
  "language_info": {
   "codemirror_mode": {
    "name": "ipython",
    "version": 3
   },
   "file_extension": ".py",
   "mimetype": "text/x-python",
   "name": "python",
   "nbconvert_exporter": "python",
   "pygments_lexer": "ipython3",
   "version": "3.6.12"
  }
 },
 "nbformat": 4,
 "nbformat_minor": 4
}
