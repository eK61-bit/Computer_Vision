{
 "cells": [
  {
   "cell_type": "code",
   "execution_count": 1,
   "metadata": {},
   "outputs": [
    {
     "name": "stdout",
     "output_type": "stream",
     "text": [
      "[1. 1.]\n",
      "******\n",
      "[1. 1.]\n",
      "******\n",
      "[1. 2.]\n"
     ]
    }
   ],
   "source": [
    "#Örnek 2.3 – np.asarray() fonksiyonu\n",
    "\n",
    "import numpy as np\n",
    "\n",
    "x = np.ones(2)\n",
    "print(x)\n",
    "print(\"******\")\n",
    "np.array(x)[1]=2\n",
    "print(x)\n",
    "print(\"******\")\n",
    "np.asarray(x)[1]=2\n",
    "print(x)"
   ]
  }
 ],
 "metadata": {
  "kernelspec": {
   "display_name": "Python 3",
   "language": "python",
   "name": "python3"
  },
  "language_info": {
   "codemirror_mode": {
    "name": "ipython",
    "version": 3
   },
   "file_extension": ".py",
   "mimetype": "text/x-python",
   "name": "python",
   "nbconvert_exporter": "python",
   "pygments_lexer": "ipython3",
   "version": "3.6.12"
  }
 },
 "nbformat": 4,
 "nbformat_minor": 4
}
