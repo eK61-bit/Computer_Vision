{
 "cells": [
  {
   "cell_type": "code",
   "execution_count": 1,
   "metadata": {},
   "outputs": [
    {
     "name": "stdout",
     "output_type": "stream",
     "text": [
      "[54 79 78 84]\n",
      "*******\n",
      "[49]\n",
      "*******\n",
      "[[False False False]\n",
      " [False  True False]\n",
      " [False False False]]\n"
     ]
    }
   ],
   "source": [
    "#Örnek 2.24 – indeksleme - 3\n",
    "\n",
    "import numpy as np\n",
    "\n",
    "x = np.array([17,54,8,10,49,79,30,78,84])\n",
    "y = np.reshape(x,(3,3))\n",
    "\n",
    "print(x[x>50])\n",
    "print(\"*******\")\n",
    "print(y[(y>30) & (y<50)])\n",
    "print(\"*******\")\n",
    "print((y>30) & (y<50))"
   ]
  }
 ],
 "metadata": {
  "kernelspec": {
   "display_name": "Python 3",
   "language": "python",
   "name": "python3"
  },
  "language_info": {
   "codemirror_mode": {
    "name": "ipython",
    "version": 3
   },
   "file_extension": ".py",
   "mimetype": "text/x-python",
   "name": "python",
   "nbconvert_exporter": "python",
   "pygments_lexer": "ipython3",
   "version": "3.6.12"
  }
 },
 "nbformat": 4,
 "nbformat_minor": 4
}
