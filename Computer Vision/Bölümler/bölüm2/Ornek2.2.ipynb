{
 "cells": [
  {
   "cell_type": "code",
   "execution_count": 2,
   "metadata": {},
   "outputs": [
    {
     "name": "stdout",
     "output_type": "stream",
     "text": [
      "[1 2 3]\n",
      "****\n",
      "[[3 5]\n",
      " [2 6]]\n",
      "****\n",
      "[[1 2 3]]\n"
     ]
    }
   ],
   "source": [
    "#Örnek 2.2 – np.array() fonksiyonu\n",
    "\n",
    "import numpy as np\n",
    "\n",
    "pyListesi = [1, 2, 3]\n",
    "x = np.array(pyListesi)\n",
    "print(x)\n",
    "print(\"****\")\n",
    "y = np.array([[3,5],[2,6]])\n",
    "print(y)\n",
    "print(\"****\")\n",
    "z =np.array([1,2,3], ndmin=2)\n",
    "print(z)"
   ]
  }
 ],
 "metadata": {
  "kernelspec": {
   "display_name": "Python 3",
   "language": "python",
   "name": "python3"
  },
  "language_info": {
   "codemirror_mode": {
    "name": "ipython",
    "version": 3
   },
   "file_extension": ".py",
   "mimetype": "text/x-python",
   "name": "python",
   "nbconvert_exporter": "python",
   "pygments_lexer": "ipython3",
   "version": "3.6.12"
  }
 },
 "nbformat": 4,
 "nbformat_minor": 4
}
