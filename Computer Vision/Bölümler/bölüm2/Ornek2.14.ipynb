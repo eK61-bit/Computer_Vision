{
 "cells": [
  {
   "cell_type": "code",
   "execution_count": 5,
   "metadata": {},
   "outputs": [
    {
     "name": "stdout",
     "output_type": "stream",
     "text": [
      "[2 3 5 6 8]\n",
      "******\n",
      "(array([2, 3, 5, 6, 8]), array([0, 1, 0, 2, 3, 4, 0, 4], dtype=int64))\n",
      "******\n",
      "(array([2, 3, 5, 6, 8]), array([0, 1, 3, 4, 5], dtype=int64))\n"
     ]
    }
   ],
   "source": [
    "#Örnek 2.14 – np.unique() fonksiyonu\n",
    "\n",
    "import numpy as np\n",
    "\n",
    "x = np.array([2,3,2,5,6,8,2,8])\n",
    "print(np.unique(x))\n",
    "print(\"******\")\n",
    "print(np.unique(x,return_inverse=True))\n",
    "print(\"******\")\n",
    "print(np.unique(x,return_index=True))"
   ]
  }
 ],
 "metadata": {
  "kernelspec": {
   "display_name": "Python 3",
   "language": "python",
   "name": "python3"
  },
  "language_info": {
   "codemirror_mode": {
    "name": "ipython",
    "version": 3
   },
   "file_extension": ".py",
   "mimetype": "text/x-python",
   "name": "python",
   "nbconvert_exporter": "python",
   "pygments_lexer": "ipython3",
   "version": "3.6.12"
  }
 },
 "nbformat": 4,
 "nbformat_minor": 4
}
