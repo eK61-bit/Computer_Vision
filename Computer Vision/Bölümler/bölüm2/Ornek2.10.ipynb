{
 "cells": [
  {
   "cell_type": "code",
   "execution_count": 6,
   "metadata": {},
   "outputs": [
    {
     "name": "stdout",
     "output_type": "stream",
     "text": [
      "[[0 1]\n",
      " [2 3]\n",
      " [4 5]\n",
      " [6 7]\n",
      " [8 9]]\n",
      "*******\n",
      "[0 1 2 3 4 5 6 7 8 9]\n",
      "*******\n",
      "2\n",
      "*******\n",
      "[0 1 2 3 4 5 6 7 8 9]\n",
      "*******\n",
      "[[  0   1]\n",
      " [100   3]\n",
      " [  4   5]\n",
      " [  6   7]\n",
      " [  8   9]]\n"
     ]
    }
   ],
   "source": [
    "#Örnek 2.10 – flatten(), flat(), ravel() fonskiyonları\n",
    "\n",
    "import numpy as np\n",
    "\n",
    "x = np.arange(10).reshape(5,2)\n",
    "print(x)\n",
    "print(\"*******\")\n",
    "print(x.flatten())\n",
    "print(\"*******\")\n",
    "print(x.flat[2])\n",
    "print(\"*******\")\n",
    "print(x.ravel())\n",
    "print(\"*******\")\n",
    "x.ravel()[2]=100\n",
    "print(x)"
   ]
  }
 ],
 "metadata": {
  "kernelspec": {
   "display_name": "Python 3",
   "language": "python",
   "name": "python3"
  },
  "language_info": {
   "codemirror_mode": {
    "name": "ipython",
    "version": 3
   },
   "file_extension": ".py",
   "mimetype": "text/x-python",
   "name": "python",
   "nbconvert_exporter": "python",
   "pygments_lexer": "ipython3",
   "version": "3.6.12"
  }
 },
 "nbformat": 4,
 "nbformat_minor": 4
}
