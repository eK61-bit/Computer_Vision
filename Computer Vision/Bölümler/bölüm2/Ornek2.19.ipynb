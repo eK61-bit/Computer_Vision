{
 "cells": [
  {
   "cell_type": "code",
   "execution_count": 1,
   "metadata": {},
   "outputs": [
    {
     "name": "stdout",
     "output_type": "stream",
     "text": [
      "[[1 2 3]\n",
      " [4 5 6]]\n",
      "*******\n",
      "[[1 4]\n",
      " [2 5]\n",
      " [3 6]]\n",
      "*******\n",
      "[[[1 4]\n",
      "  [2 5]]\n",
      "\n",
      " [[3 6]\n",
      "  [4 7]]]\n",
      "*******\n",
      "[[[1 2]\n",
      "  [4 5]]\n",
      "\n",
      " [[3 4]\n",
      "  [6 7]]]\n",
      "*******\n",
      "[[[1 2]\n",
      "  [3 4]]\n",
      "\n",
      " [[4 5]\n",
      "  [6 7]]]\n"
     ]
    }
   ],
   "source": [
    "#Örnek 2.19 – np.stack() fonksiyonu\n",
    "\n",
    "import numpy as np\n",
    "\n",
    "x = np.array([1, 2, 3])\n",
    "y = np.array([4, 5, 6])\n",
    "print(np.stack((x,y),axis=0))\n",
    "print(\"*******\")\n",
    "print(np.stack((x,y),axis=-1))\n",
    "print(\"*******\")\n",
    "\n",
    "a = np.array([[1, 2],[3,4]])\n",
    "b = np.array([[4, 5],[6,7]])\n",
    "print(np.stack((a,b),axis=-1))\n",
    "print(\"*******\")\n",
    "print(np.stack((a,b),axis=1))\n",
    "print(\"*******\")\n",
    "print(np.stack((a,b),axis=0))"
   ]
  }
 ],
 "metadata": {
  "kernelspec": {
   "display_name": "Python 3",
   "language": "python",
   "name": "python3"
  },
  "language_info": {
   "codemirror_mode": {
    "name": "ipython",
    "version": 3
   },
   "file_extension": ".py",
   "mimetype": "text/x-python",
   "name": "python",
   "nbconvert_exporter": "python",
   "pygments_lexer": "ipython3",
   "version": "3.6.12"
  }
 },
 "nbformat": 4,
 "nbformat_minor": 4
}
