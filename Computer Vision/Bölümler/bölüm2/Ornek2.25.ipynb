{
 "cells": [
  {
   "cell_type": "code",
   "execution_count": 19,
   "metadata": {},
   "outputs": [
    {
     "name": "stdout",
     "output_type": "stream",
     "text": [
      "8\n",
      "14\n",
      "6\n",
      "[0 1]\n",
      "[[ 0]\n",
      " [93]\n",
      " [ 0]]\n"
     ]
    }
   ],
   "source": [
    "#Örnek 2.25 – Bitwise işlemleri\n",
    "\n",
    "import numpy as np\n",
    "\n",
    "x = 10\n",
    "y = 12\n",
    "a = np.array([6,5])\n",
    "b = np.array([8,9])\n",
    "e = np.array([[86],[93],[128]])\n",
    "f = np.array([[0],[255],[0]])\n",
    "\n",
    "print(np.bitwise_and(x,y))\n",
    "print(np.bitwise_or(x,y))\n",
    "print(np.bitwise_xor(x,y))\n",
    "print(np.bitwise_and(a,b))\n",
    "print(np.bitwise_and(e,f))"
   ]
  }
 ],
 "metadata": {
  "kernelspec": {
   "display_name": "Python 3",
   "language": "python",
   "name": "python3"
  },
  "language_info": {
   "codemirror_mode": {
    "name": "ipython",
    "version": 3
   },
   "file_extension": ".py",
   "mimetype": "text/x-python",
   "name": "python",
   "nbconvert_exporter": "python",
   "pygments_lexer": "ipython3",
   "version": "3.6.12"
  }
 },
 "nbformat": 4,
 "nbformat_minor": 4
}
