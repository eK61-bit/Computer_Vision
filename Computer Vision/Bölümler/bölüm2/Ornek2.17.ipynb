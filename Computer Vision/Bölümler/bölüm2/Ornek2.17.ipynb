{
 "cells": [
  {
   "cell_type": "code",
   "execution_count": 10,
   "metadata": {},
   "outputs": [
    {
     "name": "stdout",
     "output_type": "stream",
     "text": [
      "[1 2 4 5 6]\n",
      "******\n",
      "[[1 3]\n",
      " [4 6]]\n",
      "******\n",
      "[[4 5 6]]\n"
     ]
    }
   ],
   "source": [
    "# Örnek 2.17 - ndarray.delete() fonskiyonu\n",
    "\n",
    "import numpy as np\n",
    "\n",
    "x = np.array([[1, 2, 3],[4, 5, 6]])\n",
    "print(np.delete(x,2))\n",
    "print(\"******\")\n",
    "print(np.delete(x,1,axis=1))\n",
    "print(\"******\")\n",
    "print(np.delete(x,0,axis=0))"
   ]
  }
 ],
 "metadata": {
  "kernelspec": {
   "display_name": "Python 3 (ipykernel)",
   "language": "python",
   "name": "python3"
  },
  "language_info": {
   "codemirror_mode": {
    "name": "ipython",
    "version": 3
   },
   "file_extension": ".py",
   "mimetype": "text/x-python",
   "name": "python",
   "nbconvert_exporter": "python",
   "pygments_lexer": "ipython3",
   "version": "3.9.7"
  },
  "toc-autonumbering": true
 },
 "nbformat": 4,
 "nbformat_minor": 4
}
