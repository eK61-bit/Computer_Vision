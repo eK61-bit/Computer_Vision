{
 "cells": [
  {
   "cell_type": "code",
   "execution_count": 39,
   "metadata": {},
   "outputs": [
    {
     "name": "stdout",
     "output_type": "stream",
     "text": [
      "[array([0., 1., 2.]), array([3., 4., 5.]), array([6., 7., 8.])]\n",
      "******\n",
      "[array([0., 1.]), array([2., 3., 4.]), array([5., 6.]), array([7., 8.])]\n",
      "******\n",
      "[[ 0.  1.  2.  3.]\n",
      " [ 4.  5.  6.  7.]\n",
      " [ 8.  9. 10. 11.]\n",
      " [12. 13. 14. 15.]]\n",
      "******\n",
      "[array([[0., 1., 2., 3.],\n",
      "       [4., 5., 6., 7.]]), array([[ 8.,  9., 10., 11.],\n",
      "       [12., 13., 14., 15.]])]\n",
      "[array([[0., 1., 2., 3.],\n",
      "       [4., 5., 6., 7.]]), array([[ 8.,  9., 10., 11.],\n",
      "       [12., 13., 14., 15.]])]\n",
      "******\n",
      "[array([[ 0.,  1.],\n",
      "       [ 4.,  5.],\n",
      "       [ 8.,  9.],\n",
      "       [12., 13.]]), array([[ 2.,  3.],\n",
      "       [ 6.,  7.],\n",
      "       [10., 11.],\n",
      "       [14., 15.]])]\n"
     ]
    }
   ],
   "source": [
    "#Örnek 2.21 – np.split() fonksiyonu\n",
    "\n",
    "import numpy as np\n",
    "\n",
    "x = np.arange(9.0)\n",
    "print(np.split(x, 3))\n",
    "print(\"******\")\n",
    "print(np.split(x, [2,5,7]))\n",
    "print(\"******\")\n",
    "y = np.arange(16.0).reshape(4,4)\n",
    "print(y)\n",
    "print(\"******\")\n",
    "print(np.vsplit(y, 2)) #print(np.split(y, 2, axis=0))\n",
    "print(\"******\")\n",
    "print(np.hsplit(y, 2)) #print(np.split(y, 2, axis=1))"
   ]
  }
 ],
 "metadata": {
  "kernelspec": {
   "display_name": "Python 3",
   "language": "python",
   "name": "python3"
  },
  "language_info": {
   "codemirror_mode": {
    "name": "ipython",
    "version": 3
   },
   "file_extension": ".py",
   "mimetype": "text/x-python",
   "name": "python",
   "nbconvert_exporter": "python",
   "pygments_lexer": "ipython3",
   "version": "3.6.12"
  }
 },
 "nbformat": 4,
 "nbformat_minor": 4
}
