{
 "cells": [
  {
   "cell_type": "code",
   "execution_count": 86,
   "metadata": {},
   "outputs": [
    {
     "name": "stdout",
     "output_type": "stream",
     "text": [
      "[5 5 3]\n",
      "[6 6 8]\n",
      "[[2 5 1]\n",
      " [2 6 1]]\n",
      "[2. 3.]\n"
     ]
    }
   ],
   "source": [
    "#Örnek 2.26 – np.minumum() ve np.maximum() kullanımı\n",
    "\n",
    "import numpy as np\n",
    "\n",
    "x = np.minimum([6, 5, 3], [5, 6, 8])\n",
    "y = np.maximum([6, 5, 3], [5, 6, 8])\n",
    "z = np.minimum([[6, 5, 3], [5, 6, 8]],[2,9,1])\n",
    "t = np.minimum([5., 3.],[2., 7.],where=[True,False])\n",
    "print(x)\n",
    "print(y)\n",
    "print(z)\n",
    "print(t)"
   ]
  }
 ],
 "metadata": {
  "kernelspec": {
   "display_name": "Python 3 (ipykernel)",
   "language": "python",
   "name": "python3"
  },
  "language_info": {
   "codemirror_mode": {
    "name": "ipython",
    "version": 3
   },
   "file_extension": ".py",
   "mimetype": "text/x-python",
   "name": "python",
   "nbconvert_exporter": "python",
   "pygments_lexer": "ipython3",
   "version": "3.9.7"
  }
 },
 "nbformat": 4,
 "nbformat_minor": 4
}
