{
 "cells": [
  {
   "cell_type": "code",
   "execution_count": 26,
   "metadata": {},
   "outputs": [
    {
     "name": "stdout",
     "output_type": "stream",
     "text": [
      "[0 4 3 2 0 1]\n",
      "*******\n",
      "[[4 4]\n",
      " [0 2]\n",
      " [2 3]]\n",
      "*******\n",
      "[ 0  2  6  9 10]\n",
      "*******\n",
      "[3 2 5]\n"
     ]
    }
   ],
   "source": [
    "#Örnek 2.5 – np.random() fonksiyonu\n",
    "\n",
    "import numpy as np\n",
    "\n",
    "x = np.random.randint(0,5,size=6)\n",
    "print(x)\n",
    "print(\"*******\")\n",
    "y = np.random.randint(0,5,size=(3,2))\n",
    "print(y)\n",
    "print(\"*******\")\n",
    "z = np.random.randint(20,size=5)\n",
    "print(z)\n",
    "print(\"*******\")\n",
    "t = np.random.randint(1, [6, 8, 10])\n",
    "print(t)"
   ]
  }
 ],
 "metadata": {
  "kernelspec": {
   "display_name": "Python 3",
   "language": "python",
   "name": "python3"
  },
  "language_info": {
   "codemirror_mode": {
    "name": "ipython",
    "version": 3
   },
   "file_extension": ".py",
   "mimetype": "text/x-python",
   "name": "python",
   "nbconvert_exporter": "python",
   "pygments_lexer": "ipython3",
   "version": "3.6.12"
  }
 },
 "nbformat": 4,
 "nbformat_minor": 4
}
