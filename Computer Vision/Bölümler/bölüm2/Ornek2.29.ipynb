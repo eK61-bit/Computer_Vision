{
 "cells": [
  {
   "cell_type": "code",
   "execution_count": 45,
   "metadata": {},
   "outputs": [
    {
     "name": "stdout",
     "output_type": "stream",
     "text": [
      "   Unnamed: 0    isim  dTarihi\n",
      "0           0   Ahmet     1984\n",
      "1           1  Mehmet     1986\n",
      "2           2     Ali     1999\n",
      "3           3   Osman     1987\n",
      "4           4    Enes     1963\n",
      "******\n",
      "Unnamed: 0         1\n",
      "isim          Mehmet\n",
      "dTarihi         1986\n",
      "Name: 1, dtype: object\n",
      "<class 'pandas.core.frame.DataFrame'>\n"
     ]
    }
   ],
   "source": [
    "#Örnek 2.30 - pandas ile veri seti çekme\n",
    "\n",
    "import numpy as np\n",
    "import pandas as pd\n",
    "\n",
    "df = pd.read_csv('bilgi.csv')\n",
    "\n",
    "print(df)\n",
    "print(\"******\")\n",
    "print(df.loc[1])\n",
    "\n",
    "print(type(df))"
   ]
  },
  {
   "cell_type": "code",
   "execution_count": null,
   "metadata": {},
   "outputs": [],
   "source": []
  }
 ],
 "metadata": {
  "kernelspec": {
   "display_name": "Python 3",
   "language": "python",
   "name": "python3"
  },
  "language_info": {
   "codemirror_mode": {
    "name": "ipython",
    "version": 3
   },
   "file_extension": ".py",
   "mimetype": "text/x-python",
   "name": "python",
   "nbconvert_exporter": "python",
   "pygments_lexer": "ipython3",
   "version": "3.6.12"
  }
 },
 "nbformat": 4,
 "nbformat_minor": 4
}
