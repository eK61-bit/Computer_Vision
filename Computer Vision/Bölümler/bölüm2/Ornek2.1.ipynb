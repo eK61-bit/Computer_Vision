{
 "cells": [
  {
   "cell_type": "code",
   "execution_count": 24,
   "metadata": {},
   "outputs": [
    {
     "name": "stdout",
     "output_type": "stream",
     "text": [
      "[[2040661920        431          0]\n",
      " [         0          1  168439397]]\n",
      "*******\n",
      "[[0. 0. 0. 0. 0.]\n",
      " [0. 0. 0. 0. 0.]\n",
      " [0. 0. 0. 0. 0.]]\n",
      "*******\n",
      "[1. 1. 1. 1. 1. 1.]\n",
      "*******\n",
      "[[[0 0]\n",
      "  [0 0]\n",
      "  [0 0]]\n",
      "\n",
      " [[0 0]\n",
      "  [0 0]\n",
      "  [0 0]]]\n"
     ]
    }
   ],
   "source": [
    "#Örnek 2.1 – np.empty(),np.zeros(), np.ones() fonksiyonları\n",
    "\n",
    "import numpy as np\n",
    "x = np.empty([2,3], dtype = int) \n",
    "print(x)\n",
    "print(\"*******\")\n",
    "y = np.empty([3,5])\n",
    "print(y)\n",
    "print(\"*******\")\n",
    "k = np.ones(6)\n",
    "print(k)\n",
    "print(\"*******\")\n",
    "m = np.zeros([2,3,2], dtype = np.uint8)\n",
    "print(m)"
   ]
  }
 ],
 "metadata": {
  "kernelspec": {
   "display_name": "Python 3 (ipykernel)",
   "language": "python",
   "name": "python3"
  },
  "language_info": {
   "codemirror_mode": {
    "name": "ipython",
    "version": 3
   },
   "file_extension": ".py",
   "mimetype": "text/x-python",
   "name": "python",
   "nbconvert_exporter": "python",
   "pygments_lexer": "ipython3",
   "version": "3.9.7"
  }
 },
 "nbformat": 4,
 "nbformat_minor": 4
}
