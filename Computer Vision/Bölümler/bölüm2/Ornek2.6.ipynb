{
 "cells": [
  {
   "cell_type": "code",
   "execution_count": 3,
   "metadata": {},
   "outputs": [
    {
     "name": "stdout",
     "output_type": "stream",
     "text": [
      "[ 5.          5.71428571  6.42857143  7.14285714  7.85714286  8.57142857\n",
      "  9.28571429 10.        ]\n",
      "[3.  3.4 3.8 4.2 4.6]\n",
      "(array([3. , 3.5, 4. , 4.5, 5. ]), 0.5)\n"
     ]
    }
   ],
   "source": [
    "#Örnek 2.6 – np.linspace() fonksiyonu\n",
    "\n",
    "import numpy as np\n",
    "\n",
    "x = np.linspace(5,10,8) \n",
    "print(x)\n",
    "\n",
    "y = np.linspace(3.0, 5.0, num=5, endpoint=False)\n",
    "print(y)\n",
    "\n",
    "z =np.linspace(3.0, 5.0, num=5, retstep=True)\n",
    "print(z)"
   ]
  }
 ],
 "metadata": {
  "kernelspec": {
   "display_name": "Python 3",
   "language": "python",
   "name": "python3"
  },
  "language_info": {
   "codemirror_mode": {
    "name": "ipython",
    "version": 3
   },
   "file_extension": ".py",
   "mimetype": "text/x-python",
   "name": "python",
   "nbconvert_exporter": "python",
   "pygments_lexer": "ipython3",
   "version": "3.6.12"
  }
 },
 "nbformat": 4,
 "nbformat_minor": 4
}
