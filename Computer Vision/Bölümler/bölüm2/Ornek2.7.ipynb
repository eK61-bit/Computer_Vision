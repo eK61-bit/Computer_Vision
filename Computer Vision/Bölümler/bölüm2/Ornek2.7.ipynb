{
 "cells": [
  {
   "cell_type": "code",
   "execution_count": 13,
   "metadata": {},
   "outputs": [
    {
     "name": "stdout",
     "output_type": "stream",
     "text": [
      "3\n",
      "******\n",
      "12\n",
      "******\n",
      "(3, 2, 2)\n",
      "******\n",
      "1\n",
      "******\n",
      "  C_CONTIGUOUS : True\n",
      "  F_CONTIGUOUS : False\n",
      "  OWNDATA : True\n",
      "  WRITEABLE : True\n",
      "  ALIGNED : True\n",
      "  WRITEBACKIFCOPY : False\n",
      "  UPDATEIFCOPY : False\n",
      "\n",
      "[ 9  0 16 10  8 18 16  3  1 14]\n",
      "******\n",
      "18\n",
      "5\n",
      "******\n",
      "0\n",
      "1\n",
      "******\n",
      "9.5\n",
      "0\n"
     ]
    }
   ],
   "source": [
    "#Örnek 2.7 – Dizi öznitelikleri çıkarımı\n",
    "\n",
    "import numpy as np\n",
    "\n",
    "x = np.array([[[0,1],[2,3]],\n",
    "              [[0,1],[2,3]],\n",
    "              [[0,1],[2,8]]], dtype = np.int8)\n",
    "\n",
    "print(x.ndim)\n",
    "print(\"******\")\n",
    "print(x.size)\n",
    "print(\"******\")\n",
    "print(x.shape)\n",
    "print(\"******\")\n",
    "print(x.itemsize)\n",
    "print(\"******\")\n",
    "print(x.flags)\n",
    "\n",
    "y = np.random.randint(0,20,10,dtype = np.uint8)\n",
    "print(y)\n",
    "print(\"******\")\n",
    "print(y.max())\n",
    "print(y.argmax())\n",
    "print(\"******\")\n",
    "print(y.min())\n",
    "print(y.argmin())\n",
    "print(\"******\")\n",
    "print(y.mean())\n",
    "print(np.prod(y))"
   ]
  }
 ],
 "metadata": {
  "kernelspec": {
   "display_name": "Python 3",
   "language": "python",
   "name": "python3"
  },
  "language_info": {
   "codemirror_mode": {
    "name": "ipython",
    "version": 3
   },
   "file_extension": ".py",
   "mimetype": "text/x-python",
   "name": "python",
   "nbconvert_exporter": "python",
   "pygments_lexer": "ipython3",
   "version": "3.6.12"
  }
 },
 "nbformat": 4,
 "nbformat_minor": 4
}
