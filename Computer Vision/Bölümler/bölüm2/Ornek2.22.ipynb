{
 "cells": [
  {
   "cell_type": "code",
   "execution_count": 42,
   "metadata": {},
   "outputs": [
    {
     "name": "stdout",
     "output_type": "stream",
     "text": [
      "[0. 2. 4. 6. 8.]\n",
      "*****\n",
      "[[ 0.  1.  2.  3.  4.]\n",
      " [ 5.  6.  7.  8.  9.]\n",
      " [10. 11. 12. 13. 14.]\n",
      " [15. 16. 17. 18. 19.]\n",
      " [20. 21. 22. 23. 24.]]\n",
      "*****\n",
      "6.0\n",
      "*****\n",
      "17.0\n",
      "*****\n",
      "[5. 6. 7. 8. 9.]\n",
      "*****\n",
      "[2. 4.]\n",
      "*****\n",
      "[[ 5.  6.  7.  8.  9.]\n",
      " [10. 11. 12. 13. 14.]]\n",
      "*****\n",
      "[8. 4. 2.]\n",
      "*****\n",
      "[[17. 18.]\n",
      " [22. 23.]]\n",
      "*****\n",
      "(5, 2)\n",
      "*****\n",
      "[[3. 4.]\n",
      " [8. 9.]]\n",
      "*****\n",
      "[21. 24.]\n",
      "*****\n",
      "[ 0. 10. 20.]\n"
     ]
    }
   ],
   "source": [
    "#Örnek 2.22 – np.split() fonksiyonu\n",
    "\n",
    "import numpy as np\n",
    "\n",
    "x = np.arange(5.0)*2\n",
    "y = np.arange(25.0).reshape(5,5)\n",
    "\n",
    "print(x)\n",
    "print(\"*****\")\n",
    "print(y)\n",
    "print(\"*****\")\n",
    "print(x[3])\n",
    "print(\"*****\")\n",
    "print(y[3,2]) #print(y[3][2])\n",
    "print(\"*****\")\n",
    "print(y[1])\n",
    "print(\"*****\")\n",
    "print(x[1:3])\n",
    "print(\"*****\")\n",
    "print(y[1:3])\n",
    "print(\"*****\")\n",
    "print(x[np.array([4, 2, 1])])\n",
    "print(\"*****\")\n",
    "print(y[3:5,2:4])\n",
    "print(\"*****\")\n",
    "print(y[:,1:3])\n",
    "print(\"*****\")\n",
    "print(y[:2,3:])\n",
    "print(\"*****\")\n",
    "print(y[4,1::3])\n",
    "print(\"*****\")\n",
    "print(y[::2,0])"
   ]
  }
 ],
 "metadata": {
  "kernelspec": {
   "display_name": "Python 3",
   "language": "python",
   "name": "python3"
  },
  "language_info": {
   "codemirror_mode": {
    "name": "ipython",
    "version": 3
   },
   "file_extension": ".py",
   "mimetype": "text/x-python",
   "name": "python",
   "nbconvert_exporter": "python",
   "pygments_lexer": "ipython3",
   "version": "3.6.12"
  }
 },
 "nbformat": 4,
 "nbformat_minor": 4
}
