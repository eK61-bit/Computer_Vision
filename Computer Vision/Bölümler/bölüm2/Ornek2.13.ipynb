{
 "cells": [
  {
   "cell_type": "code",
   "execution_count": 39,
   "metadata": {},
   "outputs": [
    {
     "name": "stdout",
     "output_type": "stream",
     "text": [
      "[ 5  8 10]\n",
      "******\n",
      "[ 5 10  8]\n",
      "******\n",
      "[1 3 5 9]\n",
      "******\n",
      "[[1 3]\n",
      " [9 5]]\n",
      "******\n",
      "[[1 5]\n",
      " [3 9]]\n",
      "******\n"
     ]
    }
   ],
   "source": [
    "#Örnek 2.13 – np.sort() fonksiyonu\n",
    "\n",
    "import numpy as np\n",
    "\n",
    "x = np.array([5,10,8])\n",
    "print(np.sort(x))\n",
    "print(\"******\")\n",
    "print(x)\n",
    "print(\"******\")\n",
    "\n",
    "y = np.array([[1,5],[9,3]])\n",
    "print(np.sort(y,axis=None))\n",
    "print(\"******\")\n",
    "\n",
    "print(np.sort(y,axis=0))\n",
    "print(\"******\")\n",
    "\n",
    "print(np.sort(y,axis=-1))"
   ]
  }
 ],
 "metadata": {
  "kernelspec": {
   "display_name": "Python 3 (ipykernel)",
   "language": "python",
   "name": "python3"
  },
  "language_info": {
   "codemirror_mode": {
    "name": "ipython",
    "version": 3
   },
   "file_extension": ".py",
   "mimetype": "text/x-python",
   "name": "python",
   "nbconvert_exporter": "python",
   "pygments_lexer": "ipython3",
   "version": "3.9.7"
  }
 },
 "nbformat": 4,
 "nbformat_minor": 4
}
