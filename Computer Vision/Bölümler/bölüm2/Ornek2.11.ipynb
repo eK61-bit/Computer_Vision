{
 "cells": [
  {
   "cell_type": "code",
   "execution_count": 1,
   "metadata": {},
   "outputs": [
    {
     "name": "stdout",
     "output_type": "stream",
     "text": [
      "[[2 6]\n",
      " [3 8]\n",
      " [2 2]\n",
      " [5 8]]\n",
      "*****\n",
      "[[2 6]\n",
      " [3 8]\n",
      " [2 2]\n",
      " [5 8]]\n",
      "*****\n",
      "[[2 3 2 5]\n",
      " [6 8 2 8]]\n"
     ]
    }
   ],
   "source": [
    "#Örnek 2.11: ndarray.transpose(),ndarray.T fonksiyonları\n",
    "    \n",
    "import numpy as np\n",
    "\n",
    "x = np.array([[2,3,2,5],[6,8,2,8]])\n",
    "print(x.transpose())\n",
    "print(\"*****\")\n",
    "print(x.T)\n",
    "print(\"*****\")\n",
    "print(x)"
   ]
  }
 ],
 "metadata": {
  "kernelspec": {
   "display_name": "Python 3",
   "language": "python",
   "name": "python3"
  },
  "language_info": {
   "codemirror_mode": {
    "name": "ipython",
    "version": 3
   },
   "file_extension": ".py",
   "mimetype": "text/x-python",
   "name": "python",
   "nbconvert_exporter": "python",
   "pygments_lexer": "ipython3",
   "version": "3.6.12"
  }
 },
 "nbformat": 4,
 "nbformat_minor": 4
}
