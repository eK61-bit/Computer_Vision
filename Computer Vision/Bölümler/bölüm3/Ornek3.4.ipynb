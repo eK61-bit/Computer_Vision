{
 "cells": [
  {
   "cell_type": "code",
   "execution_count": 1,
   "metadata": {},
   "outputs": [],
   "source": [
    "import numpy as np\n",
    "import cv2\n",
    "\n",
    "import matplotlib.pyplot as plt\n",
    "%matplotlib inline"
   ]
  },
  {
   "cell_type": "code",
   "execution_count": 4,
   "metadata": {},
   "outputs": [],
   "source": [
    "#Örnek 3.4 - Mouse ile şekil çizme\n",
    "\n",
    "## Çağrılacak fonksiyon (Parça-2) ##\n",
    "def olay_gerceklesti(event, x, y, flags, param):\n",
    "    if event==cv2.EVENT_LBUTTONDOWN:\n",
    "        cv2.circle(bos_resim,(x,y),50,(255,0,0),-1)\n",
    "    elif event==cv2.EVENT_RBUTTONDOWN:\n",
    "        cv2.circle(bos_resim,(x,y),50,(0,255,0),-1)\n",
    "\n",
    "## Fonksiyon ile resmi birbirine bağlama ve pencere oluşturma (Parça-1) ##\n",
    "cv2.namedWindow('ResimPenceresi')\n",
    "cv2.setMouseCallback('ResimPenceresi',olay_gerceklesti)\n",
    "\n",
    "## RESİM OLUŞTURMA (Parça-3) ##\n",
    "bos_resim = np.zeros(shape=(640,640,3),dtype=np.uint8)\n",
    "\n",
    "## RESMİ AYRI PENCEREDE GÖSTERME (Parça-4) ##\n",
    "while True:\n",
    "    cv2.imshow('ResimPenceresi',bos_resim)\n",
    "    \n",
    "    if cv2.waitKey(10) & 0xFF == 27:\n",
    "        break\n",
    "\n",
    "cv2.imwrite(\"deneme.jpg\",bos_resim)\n",
    "cv2.destroyAllWindows()"
   ]
  }
 ],
 "metadata": {
  "kernelspec": {
   "display_name": "Python 3 (ipykernel)",
   "language": "python",
   "name": "python3"
  },
  "language_info": {
   "codemirror_mode": {
    "name": "ipython",
    "version": 3
   },
   "file_extension": ".py",
   "mimetype": "text/x-python",
   "name": "python",
   "nbconvert_exporter": "python",
   "pygments_lexer": "ipython3",
   "version": "3.9.13"
  }
 },
 "nbformat": 4,
 "nbformat_minor": 4
}
