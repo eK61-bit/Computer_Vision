{
 "cells": [
  {
   "cell_type": "code",
   "execution_count": 1,
   "metadata": {},
   "outputs": [],
   "source": [
    "import warnings\n",
    "warnings.filterwarnings(\"ignore\")"
   ]
  },
  {
   "cell_type": "code",
   "execution_count": 3,
   "metadata": {},
   "outputs": [
    {
     "name": "stdout",
     "output_type": "stream",
     "text": [
      "Model: \"sequential_2\"\n",
      "_________________________________________________________________\n",
      "Layer (type)                 Output Shape              Param #   \n",
      "=================================================================\n",
      "conv2d_3 (Conv2D)            (None, 29, 29, 32)        1568      \n",
      "_________________________________________________________________\n",
      "max_pooling2d_3 (MaxPooling2 (None, 14, 14, 32)        0         \n",
      "_________________________________________________________________\n",
      "conv2d_4 (Conv2D)            (None, 11, 11, 32)        16416     \n",
      "_________________________________________________________________\n",
      "max_pooling2d_4 (MaxPooling2 (None, 5, 5, 32)          0         \n",
      "_________________________________________________________________\n",
      "flatten_2 (Flatten)          (None, 800)               0         \n",
      "_________________________________________________________________\n",
      "dense_3 (Dense)              (None, 256)               205056    \n",
      "_________________________________________________________________\n",
      "dense_4 (Dense)              (None, 10)                2570      \n",
      "=================================================================\n",
      "Total params: 225,610\n",
      "Trainable params: 225,610\n",
      "Non-trainable params: 0\n",
      "_________________________________________________________________\n",
      "Epoch 1/10\n",
      "50000/50000 [==============================] - 29s 584us/step - loss: 2.4714 - accuracy: 0.1070\n",
      "Epoch 2/10\n",
      "50000/50000 [==============================] - 31s 617us/step - loss: 1.9565 - accuracy: 0.2944\n",
      "Epoch 3/10\n",
      "50000/50000 [==============================] - 29s 579us/step - loss: 1.5681 - accuracy: 0.4510\n",
      "Epoch 4/10\n",
      "50000/50000 [==============================] - 29s 573us/step - loss: 1.4647 - accuracy: 0.4944\n",
      "Epoch 5/10\n",
      "50000/50000 [==============================] - 29s 571us/step - loss: 1.4362 - accuracy: 0.5180\n",
      "Epoch 6/10\n",
      "50000/50000 [==============================] - 29s 579us/step - loss: 1.4246 - accuracy: 0.5215\n",
      "Epoch 7/10\n",
      "50000/50000 [==============================] - 28s 570us/step - loss: 1.4256 - accuracy: 0.5266\n",
      "Epoch 8/10\n",
      "50000/50000 [==============================] - 28s 552us/step - loss: 1.4249 - accuracy: 0.5284\n",
      "Epoch 9/10\n",
      "50000/50000 [==============================] - 30s 591us/step - loss: 1.4270 - accuracy: 0.5260\n",
      "Epoch 10/10\n",
      "50000/50000 [==============================] - 28s 564us/step - loss: 1.4475 - accuracy: 0.5191s - loss: 1.4487 - accu\n",
      "              precision    recall  f1-score   support\n",
      "\n",
      "           0       0.68      0.42      0.52      1000\n",
      "           1       0.61      0.72      0.66      1000\n",
      "           2       0.56      0.26      0.35      1000\n",
      "           3       0.42      0.21      0.28      1000\n",
      "           4       0.39      0.55      0.46      1000\n",
      "           5       0.49      0.38      0.43      1000\n",
      "           6       0.50      0.67      0.58      1000\n",
      "           7       0.48      0.67      0.56      1000\n",
      "           8       0.73      0.49      0.58      1000\n",
      "           9       0.41      0.70      0.52      1000\n",
      "\n",
      "    accuracy                           0.51     10000\n",
      "   macro avg       0.53      0.51      0.49     10000\n",
      "weighted avg       0.53      0.51      0.49     10000\n",
      "\n"
     ]
    }
   ],
   "source": [
    "#Örnek 6.3: Cifar-10 ile nesne tanımlanması\n",
    "\n",
    "from keras.models import Sequential\n",
    "from keras.layers import Dense,Conv2D,MaxPool2D,Flatten\n",
    "from sklearn.metrics import confusion_matrix,classification_report\n",
    "from keras.datasets import cifar10\n",
    "import matplotlib.pyplot as plt\n",
    "%matplotlib inline\n",
    "\n",
    "(X_train, y_train),(X_test, y_test) = cifar10.load_data()\n",
    "\n",
    "# Bu kısmını kitaptan bakarak yazmanız öğrenmeniz açısından\n",
    "# oldukça faydalı olacağı için eklenmemiştir.\n",
    "\n",
    "results = model.predict_classes(X_test)\n",
    "confusion_matrix(y_test,results)\n",
    "\n",
    "print(classification_report(y_test,results))"
   ]
  },
  {
   "cell_type": "code",
   "execution_count": null,
   "metadata": {},
   "outputs": [],
   "source": []
  }
 ],
 "metadata": {
  "kernelspec": {
   "display_name": "Python 3",
   "language": "python",
   "name": "python3"
  },
  "language_info": {
   "codemirror_mode": {
    "name": "ipython",
    "version": 3
   },
   "file_extension": ".py",
   "mimetype": "text/x-python",
   "name": "python",
   "nbconvert_exporter": "python",
   "pygments_lexer": "ipython3",
   "version": "3.7.6"
  }
 },
 "nbformat": 4,
 "nbformat_minor": 4
}
