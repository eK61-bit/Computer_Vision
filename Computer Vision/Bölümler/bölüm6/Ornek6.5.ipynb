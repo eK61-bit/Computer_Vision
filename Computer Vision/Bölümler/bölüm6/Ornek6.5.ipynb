{
 "cells": [
  {
   "cell_type": "code",
   "execution_count": 16,
   "metadata": {},
   "outputs": [],
   "source": [
    "import warnings\n",
    "warnings.filterwarnings(\"ignore\")"
   ]
  },
  {
   "cell_type": "code",
   "execution_count": 20,
   "metadata": {},
   "outputs": [
    {
     "name": "stdout",
     "output_type": "stream",
     "text": [
      "tensor([491.02701, 128.67897, 569.70148, 211.67657,   0.83660,   2.00000])\n"
     ]
    }
   ],
   "source": [
    "#Örnek 6.5: YOLO Algoritmasının basit kullanımı\n",
    "\n",
    "import yolov5\n",
    "model = yolov5.load('DATA/YOLO/yolov5s.pt')\n",
    "\n",
    "results = model(\"DATA/34_traffic.jpg\")\n",
    "\n",
    "results.show()\n",
    "\n",
    "# Bu kısmını kitaptan bakarak yazmanız öğrenmeniz açısından\n",
    "# oldukça faydalı olacağı için eklenmemiştir.\n",
    "\n",
    "print(y[5])"
   ]
  },
  {
   "cell_type": "code",
   "execution_count": null,
   "metadata": {},
   "outputs": [],
   "source": []
  }
 ],
 "metadata": {
  "kernelspec": {
   "display_name": "Python 3",
   "language": "python",
   "name": "python3"
  },
  "language_info": {
   "codemirror_mode": {
    "name": "ipython",
    "version": 3
   },
   "file_extension": ".py",
   "mimetype": "text/x-python",
   "name": "python",
   "nbconvert_exporter": "python",
   "pygments_lexer": "ipython3",
   "version": "3.7.6"
  }
 },
 "nbformat": 4,
 "nbformat_minor": 4
}
