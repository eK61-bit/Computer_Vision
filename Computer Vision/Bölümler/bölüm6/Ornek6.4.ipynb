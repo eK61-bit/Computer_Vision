{
 "cells": [
  {
   "cell_type": "code",
   "execution_count": 1,
   "metadata": {},
   "outputs": [],
   "source": [
    "import warnings\n",
    "warnings.filterwarnings(\"ignore\")"
   ]
  },
  {
   "cell_type": "code",
   "execution_count": 7,
   "metadata": {},
   "outputs": [],
   "source": [
    "import cv2\n",
    "from keras.preprocessing.image import ImageDataGenerator\n",
    "from keras.models import Sequential\n",
    "from keras.layers import Activation,Dropout,Flatten,Conv2D,MaxPooling2D,Dense\n",
    "from sklearn.metrics import confusion_matrix,classification_report\n",
    "import matplotlib.pyplot as plt\n",
    "%matplotlib inline"
   ]
  },
  {
   "cell_type": "code",
   "execution_count": 3,
   "metadata": {},
   "outputs": [
    {
     "name": "stdout",
     "output_type": "stream",
     "text": [
      "Found 18744 images belonging to 2 classes.\n",
      "Found 6250 images belonging to 2 classes.\n",
      "WARNING:tensorflow:From C:\\Anaconda3\\envs\\python-ahi\\lib\\site-packages\\keras\\backend\\tensorflow_backend.py:4070: The name tf.nn.max_pool is deprecated. Please use tf.nn.max_pool2d instead.\n",
      "\n",
      "WARNING:tensorflow:From C:\\Anaconda3\\envs\\python-ahi\\lib\\site-packages\\tensorflow\\python\\ops\\nn_impl.py:180: add_dispatch_support.<locals>.wrapper (from tensorflow.python.ops.array_ops) is deprecated and will be removed in a future version.\n",
      "Instructions for updating:\n",
      "Use tf.where in 2.0, which has the same broadcast rule as np.where\n",
      "Model: \"sequential_1\"\n",
      "_________________________________________________________________\n",
      "Layer (type)                 Output Shape              Param #   \n",
      "=================================================================\n",
      "conv2d_1 (Conv2D)            (None, 148, 148, 32)      896       \n",
      "_________________________________________________________________\n",
      "max_pooling2d_1 (MaxPooling2 (None, 74, 74, 32)        0         \n",
      "_________________________________________________________________\n",
      "conv2d_2 (Conv2D)            (None, 72, 72, 32)        9248      \n",
      "_________________________________________________________________\n",
      "max_pooling2d_2 (MaxPooling2 (None, 36, 36, 32)        0         \n",
      "_________________________________________________________________\n",
      "conv2d_3 (Conv2D)            (None, 34, 34, 32)        9248      \n",
      "_________________________________________________________________\n",
      "max_pooling2d_3 (MaxPooling2 (None, 17, 17, 32)        0         \n",
      "_________________________________________________________________\n",
      "flatten_1 (Flatten)          (None, 9248)              0         \n",
      "_________________________________________________________________\n",
      "dense_1 (Dense)              (None, 128)               1183872   \n",
      "_________________________________________________________________\n",
      "activation_1 (Activation)    (None, 128)               0         \n",
      "_________________________________________________________________\n",
      "dropout_1 (Dropout)          (None, 128)               0         \n",
      "_________________________________________________________________\n",
      "dense_2 (Dense)              (None, 1)                 129       \n",
      "_________________________________________________________________\n",
      "activation_2 (Activation)    (None, 1)                 0         \n",
      "=================================================================\n",
      "Total params: 1,203,393\n",
      "Trainable params: 1,203,393\n",
      "Non-trainable params: 0\n",
      "_________________________________________________________________\n",
      "WARNING:tensorflow:From C:\\Anaconda3\\envs\\python-ahi\\lib\\site-packages\\keras\\backend\\tensorflow_backend.py:422: The name tf.global_variables is deprecated. Please use tf.compat.v1.global_variables instead.\n",
      "\n",
      "Epoch 1/10\n",
      "150/150 [==============================] - 33s 221ms/step - loss: 0.6961 - accuracy: 0.5263 - val_loss: 0.6643 - val_accuracy: 0.5469\n",
      "Epoch 2/10\n",
      "150/150 [==============================] - 33s 221ms/step - loss: 0.6866 - accuracy: 0.5392 - val_loss: 0.6592 - val_accuracy: 0.6250\n",
      "Epoch 3/10\n",
      "150/150 [==============================] - 33s 221ms/step - loss: 0.6785 - accuracy: 0.5717 - val_loss: 0.7051 - val_accuracy: 0.6042\n",
      "Epoch 4/10\n",
      "150/150 [==============================] - 33s 223ms/step - loss: 0.6759 - accuracy: 0.5971 - val_loss: 0.6384 - val_accuracy: 0.6823\n",
      "Epoch 5/10\n",
      "150/150 [==============================] - 34s 226ms/step - loss: 0.6527 - accuracy: 0.6150 - val_loss: 0.6682 - val_accuracy: 0.6354\n",
      "Epoch 6/10\n",
      "150/150 [==============================] - 34s 224ms/step - loss: 0.6461 - accuracy: 0.6417 - val_loss: 0.6816 - val_accuracy: 0.6406\n",
      "Epoch 7/10\n",
      "150/150 [==============================] - 33s 218ms/step - loss: 0.6424 - accuracy: 0.6233 - val_loss: 0.6833 - val_accuracy: 0.6823\n",
      "Epoch 8/10\n",
      "150/150 [==============================] - 33s 221ms/step - loss: 0.6444 - accuracy: 0.6271 - val_loss: 0.6899 - val_accuracy: 0.6198\n",
      "Epoch 9/10\n",
      "150/150 [==============================] - 34s 224ms/step - loss: 0.6323 - accuracy: 0.6421 - val_loss: 0.6203 - val_accuracy: 0.6406\n",
      "Epoch 10/10\n",
      "150/150 [==============================] - 34s 224ms/step - loss: 0.6506 - accuracy: 0.6258 - val_loss: 0.6043 - val_accuracy: 0.6875\n"
     ]
    },
    {
     "data": {
      "text/plain": [
       "[0.5263378,\n",
       " 0.5391667,\n",
       " 0.57166666,\n",
       " 0.59708333,\n",
       " 0.615,\n",
       " 0.64166665,\n",
       " 0.62333333,\n",
       " 0.62708336,\n",
       " 0.64208335,\n",
       " 0.62583333]"
      ]
     },
     "execution_count": 3,
     "metadata": {},
     "output_type": "execute_result"
    }
   ],
   "source": [
    "#Örnek 6.4: CNN ile Kedi-Köpek görüntüsü ayırım modeli\n",
    "\n",
    "imageGen = ImageDataGenerator(rotation_range=30, width_shift_range=0.1, height_shift_range=0.1, rescale=1/255,\n",
    "                              shear_range=0.2, zoom_range=0.2, horizontal_flip=True, vertical_flip=False, fill_mode='nearest')\n",
    "\n",
    "X_train = imageGen.flow_from_directory('C:/CATS_DOGS_2/train',target_size=(150,150), batch_size=16, class_mode='binary')\n",
    "X_test = imageGen.flow_from_directory('C:/CATS_DOGS_2/test',target_size=(150,150), batch_size=16, class_mode='binary')\n",
    "\n",
    "# Bu kısmını kitaptan bakarak yazmanız öğrenmeniz açısından\n",
    "# oldukça faydalı olacağı için eklenmemiştir.\n",
    "\n",
    "results.history['accuracy']"
   ]
  }
 ],
 "metadata": {
  "kernelspec": {
   "display_name": "Python 3",
   "language": "python",
   "name": "python3"
  },
  "language_info": {
   "codemirror_mode": {
    "name": "ipython",
    "version": 3
   },
   "file_extension": ".py",
   "mimetype": "text/x-python",
   "name": "python",
   "nbconvert_exporter": "python",
   "pygments_lexer": "ipython3",
   "version": "3.7.6"
  }
 },
 "nbformat": 4,
 "nbformat_minor": 4
}
