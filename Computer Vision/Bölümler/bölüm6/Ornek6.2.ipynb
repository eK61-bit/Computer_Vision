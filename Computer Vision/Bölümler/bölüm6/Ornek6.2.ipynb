{
 "cells": [
  {
   "cell_type": "code",
   "execution_count": 4,
   "metadata": {},
   "outputs": [],
   "source": [
    "import warnings\n",
    "warnings.filterwarnings(\"ignore\")"
   ]
  },
  {
   "cell_type": "code",
   "execution_count": 5,
   "metadata": {},
   "outputs": [],
   "source": [
    "import matplotlib.pyplot as plt\n",
    "%matplotlib inline"
   ]
  },
  {
   "cell_type": "code",
   "execution_count": 6,
   "metadata": {},
   "outputs": [
    {
     "name": "stdout",
     "output_type": "stream",
     "text": [
      "Model: \"sequential_2\"\n",
      "_________________________________________________________________\n",
      "Layer (type)                 Output Shape              Param #   \n",
      "=================================================================\n",
      "conv2d_2 (Conv2D)            (None, 25, 25, 32)        544       \n",
      "_________________________________________________________________\n",
      "max_pooling2d_2 (MaxPooling2 (None, 12, 12, 32)        0         \n",
      "_________________________________________________________________\n",
      "flatten_2 (Flatten)          (None, 4608)              0         \n",
      "_________________________________________________________________\n",
      "dense_3 (Dense)              (None, 128)               589952    \n",
      "_________________________________________________________________\n",
      "dense_4 (Dense)              (None, 10)                1290      \n",
      "=================================================================\n",
      "Total params: 591,786\n",
      "Trainable params: 591,786\n",
      "Non-trainable params: 0\n",
      "_________________________________________________________________\n",
      "Epoch 1/2\n",
      "60000/60000 [==============================] - 21s 343us/step - loss: 0.7458 - accuracy: 0.9481\n",
      "Epoch 2/2\n",
      "60000/60000 [==============================] - 21s 347us/step - loss: 0.0801 - accuracy: 0.9805\n",
      "10000/10000 [==============================] - 1s 76us/step\n"
     ]
    },
    {
     "data": {
      "text/plain": [
       "array([[ 969,    0,    2,    0,    0,    1,    4,    1,    3,    0],\n",
       "       [   0, 1122,    3,    0,    0,    0,    2,    2,    6,    0],\n",
       "       [   1,    1, 1024,    1,    1,    0,    0,    3,    1,    0],\n",
       "       [   0,    0,    5,  993,    0,    4,    0,    3,    5,    0],\n",
       "       [   0,    0,    2,    0,  969,    0,    1,    2,    2,    6],\n",
       "       [   2,    1,    0,    4,    0,  874,    2,    1,    5,    3],\n",
       "       [   4,    4,    1,    0,    2,    3,  941,    0,    3,    0],\n",
       "       [   0,    3,    8,    5,    2,    0,    0, 1007,    1,    2],\n",
       "       [   4,    1,    2,    3,    3,    3,    1,    4,  949,    4],\n",
       "       [   1,    5,    3,    4,    6,    8,    0,    8,    5,  969]],\n",
       "      dtype=int64)"
      ]
     },
     "execution_count": 6,
     "metadata": {},
     "output_type": "execute_result"
    }
   ],
   "source": [
    "#Örnek 6.2: MNIST ile el yazması rakamların tanımlanması\n",
    "\n",
    "from keras.datasets import mnist\n",
    "(X_train, y_train),(X_test, y_test) = mnist.load_data()\n",
    "\n",
    "from keras.utils.np_utils import to_categorical as tc\n",
    "y_test_cat = tc(y_test,10)\n",
    "y_train_cat = tc(y_train,10)\n",
    "\n",
    "X_train = X_train.reshape(60000,28,28,1)\n",
    "X_test = X_test.reshape(10000,28,28,1)\n",
    "\n",
    "# Bu kısmını kitaptan bakarak yazmanız öğrenmeniz açısından\n",
    "# oldukça faydalı olacağı için eklenmemiştir.\n",
    "\n",
    "from sklearn.metrics import confusion_matrix,classification_report\n",
    "results = model.predict_classes(X_test)\n",
    "confusion_matrix(y_test,results)"
   ]
  },
  {
   "cell_type": "code",
   "execution_count": null,
   "metadata": {},
   "outputs": [],
   "source": []
  }
 ],
 "metadata": {
  "kernelspec": {
   "display_name": "Python 3",
   "language": "python",
   "name": "python3"
  },
  "language_info": {
   "codemirror_mode": {
    "name": "ipython",
    "version": 3
   },
   "file_extension": ".py",
   "mimetype": "text/x-python",
   "name": "python",
   "nbconvert_exporter": "python",
   "pygments_lexer": "ipython3",
   "version": "3.7.6"
  }
 },
 "nbformat": 4,
 "nbformat_minor": 4
}
