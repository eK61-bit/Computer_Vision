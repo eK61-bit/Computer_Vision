{
 "cells": [
  {
   "cell_type": "code",
   "execution_count": 8,
   "metadata": {},
   "outputs": [
    {
     "name": "stdout",
     "output_type": "stream",
     "text": [
      "cinsyet - e\n",
      "boy - 178\n",
      "diller - ['en', 'tr', 'fr']\n"
     ]
    }
   ],
   "source": [
    "#Örnek 1.13 - for ile sözlük döngüsü -1\n",
    "\n",
    "kisi = {'cinsyet':'e','boy':178, 'diller':[ 'en', 'tr', 'fr']}\n",
    "\n",
    "for x,y in kisi.items():\n",
    "    print(f\"{x} - {y}\")"
   ]
  },
  {
   "cell_type": "code",
   "execution_count": null,
   "metadata": {},
   "outputs": [],
   "source": []
  }
 ],
 "metadata": {
  "kernelspec": {
   "display_name": "Python 3",
   "language": "python",
   "name": "python3"
  },
  "language_info": {
   "codemirror_mode": {
    "name": "ipython",
    "version": 3
   },
   "file_extension": ".py",
   "mimetype": "text/x-python",
   "name": "python",
   "nbconvert_exporter": "python",
   "pygments_lexer": "ipython3",
   "version": "3.6.12"
  }
 },
 "nbformat": 4,
 "nbformat_minor": 4
}
