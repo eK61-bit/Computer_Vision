{
 "cells": [
  {
   "cell_type": "code",
   "execution_count": 7,
   "metadata": {},
   "outputs": [
    {
     "name": "stdin",
     "output_type": "stream",
     "text": [
      "Araç markanız nedir? bmw\n"
     ]
    },
    {
     "name": "stdout",
     "output_type": "stream",
     "text": [
      "Servis numaranız bulunamamıştır.\n"
     ]
    }
   ],
   "source": [
    "#Örnek 1.6 - Çoklu IF ifadeleri ve String Karşılaştırmaları\n",
    "\n",
    "marka = input('Araç markanız nedir?')\n",
    "\n",
    "if marka == 'wv' or marka == 'audi':\n",
    "    print('Tel: 0212 212 12 12')\n",
    "elif marka == 'renault' or marka == 'dacia':\n",
    "    print('Tel: 0312 312 12 12')\n",
    "else:\n",
    "    print('Servis numaranız bulunamamıştır.')"
   ]
  },
  {
   "cell_type": "code",
   "execution_count": null,
   "metadata": {},
   "outputs": [],
   "source": []
  }
 ],
 "metadata": {
  "kernelspec": {
   "display_name": "Python 3",
   "language": "python",
   "name": "python3"
  },
  "language_info": {
   "codemirror_mode": {
    "name": "ipython",
    "version": 3
   },
   "file_extension": ".py",
   "mimetype": "text/x-python",
   "name": "python",
   "nbconvert_exporter": "python",
   "pygments_lexer": "ipython3",
   "version": "3.6.12"
  }
 },
 "nbformat": 4,
 "nbformat_minor": 4
}
