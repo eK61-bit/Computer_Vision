{
 "cells": [
  {
   "cell_type": "code",
   "execution_count": 9,
   "metadata": {},
   "outputs": [
    {
     "name": "stdin",
     "output_type": "stream",
     "text": [
      "Aranan bilgi: UYruk\n"
     ]
    },
    {
     "name": "stdout",
     "output_type": "stream",
     "text": [
      "Aramanız anahtar kelimlerde bulundu\n"
     ]
    }
   ],
   "source": [
    "#Örnek 1.17 - liste/sözlük/tuple ile in işlemi -3\n",
    "\n",
    "kisi = {'cinsiyet':'e','uyruk':'tc', 'sehir':'Kırşehir'}\n",
    "\n",
    "arananDeger = (input('Aranan bilgi:')).lower()\n",
    "\n",
    "if arananDeger is not kisi.keys():\n",
    "    print('Aramanız anahtar kelimlerinde bulundu')\n",
    "elif arananDeger in kisi.values():\n",
    "    print('Aramanız verilerinde bulundu')\n",
    "else:\n",
    "    print('Bulunamadı')\n"
   ]
  }
 ],
 "metadata": {
  "kernelspec": {
   "display_name": "Python 3",
   "language": "python",
   "name": "python3"
  },
  "language_info": {
   "codemirror_mode": {
    "name": "ipython",
    "version": 3
   },
   "file_extension": ".py",
   "mimetype": "text/x-python",
   "name": "python",
   "nbconvert_exporter": "python",
   "pygments_lexer": "ipython3",
   "version": "3.6.12"
  }
 },
 "nbformat": 4,
 "nbformat_minor": 4
}
