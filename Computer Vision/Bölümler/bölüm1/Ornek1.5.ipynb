{
 "cells": [
  {
   "cell_type": "code",
   "execution_count": 2,
   "metadata": {},
   "outputs": [
    {
     "name": "stdin",
     "output_type": "stream",
     "text": [
      "Vize notunu giriniz? 72\n",
      "Final notunu giriniz? 55\n"
     ]
    },
    {
     "name": "stdout",
     "output_type": "stream",
     "text": [
      "Ortalamanız:61.8\n",
      "Durum: \"Başarılı\"\n",
      "Durum: \"Başarılı\"\n",
      "Harf Notu: BB\n"
     ]
    }
   ],
   "source": [
    "vize = int(input('Vize notunu giriniz?'))\n",
    "final = int(input('Final notunu giriniz?'))\n",
    "\n",
    "ortalama = vize * 0.4 + final * 0.6\n",
    "print(f\"Ortalamanız:{ortalama}\")\n",
    "\n",
    "if ortalama>=60:\n",
    "    print(\"Durum: \\\"Başarılı\\\"\")\n",
    "if ortalama<60:\n",
    "    print(\"Durum: \\\"Başarısız\\\"\\n\")\n",
    "\n",
    "if ortalama>=60:\n",
    "    print(\"Durum: \\\"Başarılı\\\"\")\n",
    "else:\n",
    "    print(\"Durum: \\\"Başarısız\\\"\")\n",
    "\n",
    "if ortalama>79:\n",
    "    print(\"Harf Notu: AA\")\n",
    "elif ortalama>59:\n",
    "    print(\"Harf Notu: BB\")\n",
    "elif ortalama>29:\n",
    "    print(\"Harf Notu: DD\")\n",
    "else:\n",
    "    print(\"Harf Notu: DD\")"
   ]
  },
  {
   "cell_type": "code",
   "execution_count": null,
   "metadata": {},
   "outputs": [],
   "source": []
  }
 ],
 "metadata": {
  "kernelspec": {
   "display_name": "Python 3",
   "language": "python",
   "name": "python3"
  },
  "language_info": {
   "codemirror_mode": {
    "name": "ipython",
    "version": 3
   },
   "file_extension": ".py",
   "mimetype": "text/x-python",
   "name": "python",
   "nbconvert_exporter": "python",
   "pygments_lexer": "ipython3",
   "version": "3.6.12"
  }
 },
 "nbformat": 4,
 "nbformat_minor": 4
}
