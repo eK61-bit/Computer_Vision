{
 "cells": [
  {
   "cell_type": "code",
   "execution_count": 27,
   "metadata": {},
   "outputs": [
    {
     "name": "stdout",
     "output_type": "stream",
     "text": [
      "{'isim': 'Ali', 'boy': 198, 'kilo': 90}\n",
      "198\n",
      "96\n",
      "{'isim': 'Ali', 'boy': 198, 'kilo': 96, 'cinsiyet': 'e'}\n",
      "{'isim': 'Ali', 'kilo': 96, 'cinsiyet': 'e'}\n",
      "Bu şekilde bilgi bulunamadı\n"
     ]
    }
   ],
   "source": [
    "kisiBilgisi1 = {'isim':'Ali','boy':198,'kilo':90}\n",
    "print(kisiBilgisi1)\n",
    "\n",
    "print(kisiBilgisi1['boy'])\n",
    "\n",
    "kisiBilgisi1['kilo'] = 96\n",
    "print(kisiBilgisi1['kilo'])\n",
    "\n",
    "kisiBilgisi1['cinsiyet']='e'\n",
    "print(kisiBilgisi1)\n",
    "\n",
    "del kisiBilgisi1['boy']\n",
    "print(kisiBilgisi1)\n",
    "\n",
    "# print(kisiBilgisi1['boy'])\n",
    "print(kisiBilgisi1.get('boy','Bu şekilde bilgi bulunamadı'))"
   ]
  }
 ],
 "metadata": {
  "kernelspec": {
   "display_name": "Python 3",
   "language": "python",
   "name": "python3"
  },
  "language_info": {
   "codemirror_mode": {
    "name": "ipython",
    "version": 3
   },
   "file_extension": ".py",
   "mimetype": "text/x-python",
   "name": "python",
   "nbconvert_exporter": "python",
   "pygments_lexer": "ipython3",
   "version": "3.6.12"
  }
 },
 "nbformat": 4,
 "nbformat_minor": 4
}
