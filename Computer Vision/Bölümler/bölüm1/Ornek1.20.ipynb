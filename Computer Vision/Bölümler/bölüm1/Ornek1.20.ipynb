{
 "cells": [
  {
   "cell_type": "code",
   "execution_count": 3,
   "metadata": {},
   "outputs": [
    {
     "name": "stdout",
     "output_type": "stream",
     "text": [
      "İyi Günler,\n",
      "Hoş geldin Mehmet\n",
      "\n",
      "Mehmet,\n",
      "Hoş geldin İyi Akşamlar\n",
      "\n",
      "İyi Günler,\n",
      "Hoş geldin Günaydın\n",
      "\n"
     ]
    }
   ],
   "source": [
    "#Örnek 1.20 - Fonksiyonlar -3\n",
    "\n",
    "def fn4(isim,gunMesaji='İyi Günler'):\n",
    "    print(f\"{gunMesaji},\\nHoş geldin {isim}\\n\")\n",
    "\n",
    "fn4(\"Mehmet\")\n",
    "fn4(\"İyi Akşamlar\",\"Mehmet\")\n",
    "fn4(\"Günaydın\")"
   ]
  }
 ],
 "metadata": {
  "kernelspec": {
   "display_name": "Python 3 (ipykernel)",
   "language": "python",
   "name": "python3"
  },
  "language_info": {
   "codemirror_mode": {
    "name": "ipython",
    "version": 3
   },
   "file_extension": ".py",
   "mimetype": "text/x-python",
   "name": "python",
   "nbconvert_exporter": "python",
   "pygments_lexer": "ipython3",
   "version": "3.9.7"
  }
 },
 "nbformat": 4,
 "nbformat_minor": 4
}
