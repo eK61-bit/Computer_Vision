{
 "cells": [
  {
   "cell_type": "code",
   "execution_count": 1,
   "metadata": {},
   "outputs": [
    {
     "name": "stdin",
     "output_type": "stream",
     "text": [
      "Meyve adı giriniz. (çıkmak için q giriniz.) çilek\n"
     ]
    },
    {
     "name": "stdout",
     "output_type": "stream",
     "text": [
      "Aradığınız meyve mevcuttur.\n"
     ]
    },
    {
     "name": "stdin",
     "output_type": "stream",
     "text": [
      "Meyve adı giriniz. (çıkmak için q giriniz.) AYva\n"
     ]
    },
    {
     "name": "stdout",
     "output_type": "stream",
     "text": [
      "Aradığınız meyve mevcuttur.\n"
     ]
    },
    {
     "name": "stdin",
     "output_type": "stream",
     "text": [
      "Meyve adı giriniz. (çıkmak için q giriniz.) q\n"
     ]
    }
   ],
   "source": [
    "#Örnek 1.15 - liste/sözlük/tuple ile in işlemi -1\n",
    "\n",
    "meyveler = ['karpuz', 'armut', 'çilek', 'ayva', 'elma']\n",
    "\n",
    "while True:\n",
    "    x = (input('Meyve adı giriniz. (çıkmak için q giriniz.)')).lower()\n",
    "    \n",
    "    if x=='q':\n",
    "        break\n",
    "    \n",
    "    if x in meyveler:\n",
    "        print('Aradığınız meyve mevcuttur.')\n",
    "    else:\n",
    "        print('Aradığınız meyve mevcut değildir.')\n"
   ]
  },
  {
   "cell_type": "code",
   "execution_count": null,
   "metadata": {},
   "outputs": [],
   "source": []
  }
 ],
 "metadata": {
  "kernelspec": {
   "display_name": "Python 3 (ipykernel)",
   "language": "python",
   "name": "python3"
  },
  "language_info": {
   "codemirror_mode": {
    "name": "ipython",
    "version": 3
   },
   "file_extension": ".py",
   "mimetype": "text/x-python",
   "name": "python",
   "nbconvert_exporter": "python",
   "pygments_lexer": "ipython3",
   "version": "3.9.7"
  }
 },
 "nbformat": 4,
 "nbformat_minor": 4
}
