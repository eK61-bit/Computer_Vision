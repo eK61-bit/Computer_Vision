{
 "cells": [
  {
   "cell_type": "code",
   "execution_count": 9,
   "metadata": {},
   "outputs": [
    {
     "name": "stdout",
     "output_type": "stream",
     "text": [
      "['Enes', 'Osman', 'Ali', 'Hüseyin', 'Yusuf']\n",
      "Ali\n",
      "ENES\n",
      "Listenin en son ismi: Yusuf\n",
      "['Ali', 'Yahya']\n",
      "['Enes', 'Osman', 'Ali', 'Yahya', 'Yusuf', 'Musa']\n",
      "['Enes', 'Arif', 'Osman', 'Ali', 'Yahya', 'Yusuf', 'Musa']\n",
      "['Enes', 'Ali', 'Yahya', 'Yusuf', 'Musa']\n",
      "Musa\n",
      "['Ali', 'Enes', 'Yahya', 'Yusuf']\n",
      "4\n"
     ]
    }
   ],
   "source": [
    "#Örnek 1.2 - Listeler ile ilgili basit bir çalışma\n",
    "\n",
    "yeniBosListe = []\n",
    "isimlerListesi = ['Enes','Osman','Ali','Hüseyin','Yusuf']\n",
    "\n",
    "print(isimlerListesi)\n",
    "print(isimlerListesi[2])\n",
    "print(isimlerListesi[0].upper())\n",
    "print(f\"Listenin en son ismi: {isimlerListesi[-1]}\")\n",
    "\n",
    "isimlerListesi[3] = 'Yahya'\n",
    "print(isimlerListesi[2:4])\n",
    "\n",
    "isimlerListesi.append('Musa')\n",
    "print(isimlerListesi)\n",
    "\n",
    "isimlerListesi.insert(1,'Arif')\n",
    "print(isimlerListesi)\n",
    "\n",
    "del isimlerListesi[1:3]\n",
    "print(isimlerListesi)\n",
    "\n",
    "x = isimlerListesi.pop()\n",
    "print(x)\n",
    "\n",
    "isimlerListesi.sort()\n",
    "print(isimlerListesi)\n",
    "\n",
    "print(len(isimlerListesi))"
   ]
  }
 ],
 "metadata": {
  "kernelspec": {
   "display_name": "Python 3",
   "language": "python",
   "name": "python3"
  },
  "language_info": {
   "codemirror_mode": {
    "name": "ipython",
    "version": 3
   },
   "file_extension": ".py",
   "mimetype": "text/x-python",
   "name": "python",
   "nbconvert_exporter": "python",
   "pygments_lexer": "ipython3",
   "version": "3.6.12"
  }
 },
 "nbformat": 4,
 "nbformat_minor": 4
}
