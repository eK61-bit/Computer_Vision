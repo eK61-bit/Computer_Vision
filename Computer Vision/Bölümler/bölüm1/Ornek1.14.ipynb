{
 "cells": [
  {
   "cell_type": "code",
   "execution_count": 2,
   "metadata": {},
   "outputs": [
    {
     "name": "stdout",
     "output_type": "stream",
     "text": [
      "cinsyet\n",
      "boy\n",
      "diller\n",
      "******\n",
      "e\n",
      "178\n",
      "['en', 'tr', 'fr']\n"
     ]
    }
   ],
   "source": [
    "#Örnek 1.14 - for ile sözlük döngüsü -2\n",
    "\n",
    "kisi = {'cinsyet':'e','boy':178, 'diller':[ 'en', 'tr', 'fr']}\n",
    "\n",
    "for x in kisi.keys():\n",
    "    print(f\"{x}\")\n",
    "print('******')    \n",
    "for y in kisi.values():\n",
    "    print(f\"{y}\")"
   ]
  },
  {
   "cell_type": "code",
   "execution_count": null,
   "metadata": {},
   "outputs": [],
   "source": []
  }
 ],
 "metadata": {
  "kernelspec": {
   "display_name": "Python 3",
   "language": "python",
   "name": "python3"
  },
  "language_info": {
   "codemirror_mode": {
    "name": "ipython",
    "version": 3
   },
   "file_extension": ".py",
   "mimetype": "text/x-python",
   "name": "python",
   "nbconvert_exporter": "python",
   "pygments_lexer": "ipython3",
   "version": "3.6.12"
  }
 },
 "nbformat": 4,
 "nbformat_minor": 4
}
