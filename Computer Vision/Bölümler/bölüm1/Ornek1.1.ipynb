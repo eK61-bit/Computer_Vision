{
 "cells": [
  {
   "cell_type": "code",
   "execution_count": 1,
   "metadata": {},
   "outputs": [
    {
     "name": "stdout",
     "output_type": "stream",
     "text": [
      "******\n",
      "Merhaba \n",
      "kare alani hesaplamak i̇çi̇n i̇stenen değerleri̇ gi̇ri̇ni̇z.\n"
     ]
    },
    {
     "name": "stdin",
     "output_type": "stream",
     "text": [
      "Karenin bir kenar ölçüsünü giriniz? 8\n"
     ]
    },
    {
     "name": "stdout",
     "output_type": "stream",
     "text": [
      "Sonuç:\n",
      "Bir kenarın uzunluğu: 8\n",
      "Alan=64\n",
      "\n",
      "Program\n",
      "Bitti\n"
     ]
    }
   ],
   "source": [
    "#ORNEK 1.1\n",
    "#Kare Alanı Hesaplama Programı\n",
    "\n",
    "mesaj1 = \"Merhaba \"\n",
    "mesaj2 = \"KARE ALANI HESAPLAMAK İÇİN İSTENEN DEĞERLERİ GİRİNİZ.\"\n",
    "\n",
    "print(\"******\")\n",
    "print(mesaj1)\n",
    "print(mesaj2.lower())\n",
    "\n",
    "kenar = input('Karenin bir kenar ölçüsünü giriniz?')\n",
    "\n",
    "kenar = int(kenar)\n",
    "alan = kenar**2\n",
    "\n",
    "print(\"Sonuç:\")\n",
    "print(f\"Bir kenarın uzunluğu: {kenar}\")\n",
    "print(f\"Alan={alan}\")\n",
    "print()\n",
    "print(\"Program\\nBitti\")"
   ]
  },
  {
   "cell_type": "code",
   "execution_count": null,
   "metadata": {},
   "outputs": [],
   "source": []
  }
 ],
 "metadata": {
  "kernelspec": {
   "display_name": "Python 3 (ipykernel)",
   "language": "python",
   "name": "python3"
  },
  "language_info": {
   "codemirror_mode": {
    "name": "ipython",
    "version": 3
   },
   "file_extension": ".py",
   "mimetype": "text/x-python",
   "name": "python",
   "nbconvert_exporter": "python",
   "pygments_lexer": "ipython3",
   "version": "3.9.7"
  }
 },
 "nbformat": 4,
 "nbformat_minor": 4
}
