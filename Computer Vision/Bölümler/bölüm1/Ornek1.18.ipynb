{
 "cells": [
  {
   "cell_type": "code",
   "execution_count": 1,
   "metadata": {},
   "outputs": [
    {
     "name": "stdin",
     "output_type": "stream",
     "text": [
      "İsminizi giriniz? Murat\n"
     ]
    },
    {
     "name": "stdout",
     "output_type": "stream",
     "text": [
      "Merhaba\n",
      "Hoşgeldin Murat\n"
     ]
    }
   ],
   "source": [
    "#Örnek 1.18 - fonksiyonlar -1\n",
    "\n",
    "def fn1():\n",
    "    print(\"Merhaba\")\n",
    "\n",
    "def fn2(isim):\n",
    "    print(f\"Hoşgeldin {isim}\")\n",
    "\n",
    "gelenVeri = input('İsminizi giriniz?')\n",
    "\n",
    "fn1()\n",
    "fn2(gelenVeri)"
   ]
  }
 ],
 "metadata": {
  "kernelspec": {
   "display_name": "Python 3 (ipykernel)",
   "language": "python",
   "name": "python3"
  },
  "language_info": {
   "codemirror_mode": {
    "name": "ipython",
    "version": 3
   },
   "file_extension": ".py",
   "mimetype": "text/x-python",
   "name": "python",
   "nbconvert_exporter": "python",
   "pygments_lexer": "ipython3",
   "version": "3.9.7"
  }
 },
 "nbformat": 4,
 "nbformat_minor": 4
}
