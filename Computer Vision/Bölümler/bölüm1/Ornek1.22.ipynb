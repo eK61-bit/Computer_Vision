{
 "cells": [
  {
   "cell_type": "code",
   "execution_count": 6,
   "metadata": {},
   "outputs": [
    {
     "name": "stdout",
     "output_type": "stream",
     "text": [
      "e\n",
      "178\n",
      "['en', 'tr', 'fr']\n"
     ]
    }
   ],
   "source": [
    "#Örnek 1.22 - Fonksiyonlar -5\n",
    "\n",
    "def fn6(**kisi):\n",
    "    print(kisi['cinsiyet'])\n",
    "    print(kisi['boy'])\n",
    "    print(kisi['diller'])\n",
    "\n",
    "fn6(cinsiyet='e', boy=178, diller=['en', 'tr', 'fr'])"
   ]
  },
  {
   "cell_type": "code",
   "execution_count": null,
   "metadata": {},
   "outputs": [],
   "source": []
  }
 ],
 "metadata": {
  "kernelspec": {
   "display_name": "Python 3",
   "language": "python",
   "name": "python3"
  },
  "language_info": {
   "codemirror_mode": {
    "name": "ipython",
    "version": 3
   },
   "file_extension": ".py",
   "mimetype": "text/x-python",
   "name": "python",
   "nbconvert_exporter": "python",
   "pygments_lexer": "ipython3",
   "version": "3.6.12"
  }
 },
 "nbformat": 4,
 "nbformat_minor": 4
}
