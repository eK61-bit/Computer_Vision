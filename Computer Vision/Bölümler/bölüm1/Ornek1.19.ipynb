{
 "cells": [
  {
   "cell_type": "code",
   "execution_count": 2,
   "metadata": {},
   "outputs": [
    {
     "name": "stdout",
     "output_type": "stream",
     "text": [
      "erkek cm uzunluğunda, 180 kg ağırlığında bir 90\n",
      "180 cm uzunluğunda, 90 kg ağırlığında bir erkek\n"
     ]
    }
   ],
   "source": [
    "#Örnek 1.19 - Fonksiyonlar -2\n",
    "\n",
    "def fn3(boy,kilo,cinsiyet):\n",
    "    print(f\"{boy} cm uzunluğunda, {kilo} kg ağırlığında bir {cinsiyet}\")\n",
    "\n",
    "fn3(\"erkek\",\"180\",\"90\")\n",
    "fn3(cinsiyet=\"erkek\",boy=\"180\",kilo=\"90\")"
   ]
  }
 ],
 "metadata": {
  "kernelspec": {
   "display_name": "Python 3",
   "language": "python",
   "name": "python3"
  },
  "language_info": {
   "codemirror_mode": {
    "name": "ipython",
    "version": 3
   },
   "file_extension": ".py",
   "mimetype": "text/x-python",
   "name": "python",
   "nbconvert_exporter": "python",
   "pygments_lexer": "ipython3",
   "version": "3.6.12"
  }
 },
 "nbformat": 4,
 "nbformat_minor": 4
}
