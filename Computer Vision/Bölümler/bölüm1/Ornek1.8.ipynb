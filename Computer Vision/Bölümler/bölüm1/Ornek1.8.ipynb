{
 "cells": [
  {
   "cell_type": "code",
   "execution_count": 7,
   "metadata": {},
   "outputs": [
    {
     "name": "stdout",
     "output_type": "stream",
     "text": [
      "0\n",
      "1\n",
      "2\n",
      "3\n",
      "4\n",
      "Sayıların toplamı:10\n"
     ]
    }
   ],
   "source": [
    "#Örnek 1.8 – while Döngüsü ile Kullanımı\n",
    "\n",
    "i = 0\n",
    "tp = 0\n",
    "\n",
    "while i<5:\n",
    "    print(i)\n",
    "    tp+=i\n",
    "    i+=1\n",
    "\n",
    "print(f\"Sayıların toplamı:{tp}\")"
   ]
  }
 ],
 "metadata": {
  "kernelspec": {
   "display_name": "Python 3",
   "language": "python",
   "name": "python3"
  },
  "language_info": {
   "codemirror_mode": {
    "name": "ipython",
    "version": 3
   },
   "file_extension": ".py",
   "mimetype": "text/x-python",
   "name": "python",
   "nbconvert_exporter": "python",
   "pygments_lexer": "ipython3",
   "version": "3.6.12"
  }
 },
 "nbformat": 4,
 "nbformat_minor": 4
}
