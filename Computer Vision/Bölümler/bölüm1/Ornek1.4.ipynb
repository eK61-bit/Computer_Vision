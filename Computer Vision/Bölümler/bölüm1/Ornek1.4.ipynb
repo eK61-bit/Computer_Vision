{
 "cells": [
  {
   "cell_type": "code",
   "execution_count": 4,
   "metadata": {},
   "outputs": [
    {
     "name": "stdout",
     "output_type": "stream",
     "text": [
      "[{'cinsyet': 'e', 'boy': 198}, {'cinsyet': 'k', 'boy': 178, 'diller': ['en', 'tr', 'fr']}, [12, 32, 34]]\n"
     ]
    }
   ],
   "source": [
    "#Örnek 1.4 - İç içe sözlük/liste yapıları\n",
    "\n",
    "kisi1 = {'cinsiyet':'e','boy':198}\n",
    "kisi2 = {'cinsiyet':'k','boy':178, 'diller':[ 'en', 'tr', 'fr']}\n",
    "notlar = [12,32,34]\n",
    "\n",
    "birlesmisListe = [kisi1, kisi2, notlar]\n",
    "print(birlesmisListe)"
   ]
  }
 ],
 "metadata": {
  "kernelspec": {
   "display_name": "Python 3",
   "language": "python",
   "name": "python3"
  },
  "language_info": {
   "codemirror_mode": {
    "name": "ipython",
    "version": 3
   },
   "file_extension": ".py",
   "mimetype": "text/x-python",
   "name": "python",
   "nbconvert_exporter": "python",
   "pygments_lexer": "ipython3",
   "version": "3.6.12"
  }
 },
 "nbformat": 4,
 "nbformat_minor": 4
}
