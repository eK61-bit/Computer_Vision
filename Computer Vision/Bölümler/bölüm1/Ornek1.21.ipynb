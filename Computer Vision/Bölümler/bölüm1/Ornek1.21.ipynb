{
 "cells": [
  {
   "cell_type": "code",
   "execution_count": 1,
   "metadata": {},
   "outputs": [
    {
     "name": "stdout",
     "output_type": "stream",
     "text": [
      "Enes\n",
      "Osman\n",
      "Ali\n"
     ]
    }
   ],
   "source": [
    "#Örnek 1.21 - Fonksiyonlar -4\n",
    "\n",
    "def fn5(*isimler):\n",
    "    print(isimler[0])\n",
    "    print(isimler[1])\n",
    "    print(isimler[2])\n",
    "\n",
    "fn5('Enes','Osman','Ali','Hüseyin','Yusuf')"
   ]
  }
 ],
 "metadata": {
  "kernelspec": {
   "display_name": "Python 3",
   "language": "python",
   "name": "python3"
  },
  "language_info": {
   "codemirror_mode": {
    "name": "ipython",
    "version": 3
   },
   "file_extension": ".py",
   "mimetype": "text/x-python",
   "name": "python",
   "nbconvert_exporter": "python",
   "pygments_lexer": "ipython3",
   "version": "3.6.12"
  }
 },
 "nbformat": 4,
 "nbformat_minor": 4
}
