{
 "cells": [
  {
   "cell_type": "code",
   "execution_count": 3,
   "metadata": {},
   "outputs": [
    {
     "name": "stdin",
     "output_type": "stream",
     "text": [
      "Toplanacak sayıyı giriniz? 65\n",
      "Toplanacak sayıyı giriniz? 65\n",
      "Toplanacak sayıyı giriniz? 23\n",
      "Toplanacak sayıyı giriniz? -1\n"
     ]
    },
    {
     "name": "stdout",
     "output_type": "stream",
     "text": [
      "Toplam = 153\n"
     ]
    }
   ],
   "source": [
    "#Örnek 1.9 - Döngü şartının bozulması-1\n",
    "\n",
    "girilenSayi = 0\n",
    "tp = 0\n",
    "d = True\n",
    "\n",
    "while d:\n",
    "    tp += girilenSayi\n",
    "    girilenSayi = int(input('Toplanacak sayıyı giriniz?'))\n",
    "    \n",
    "    if girilenSayi == -1:\n",
    "        d = False\n",
    "\n",
    "print(f\"Toplam = {tp}\")"
   ]
  },
  {
   "cell_type": "code",
   "execution_count": null,
   "metadata": {},
   "outputs": [],
   "source": []
  }
 ],
 "metadata": {
  "kernelspec": {
   "display_name": "Python 3",
   "language": "python",
   "name": "python3"
  },
  "language_info": {
   "codemirror_mode": {
    "name": "ipython",
    "version": 3
   },
   "file_extension": ".py",
   "mimetype": "text/x-python",
   "name": "python",
   "nbconvert_exporter": "python",
   "pygments_lexer": "ipython3",
   "version": "3.6.12"
  }
 },
 "nbformat": 4,
 "nbformat_minor": 4
}
