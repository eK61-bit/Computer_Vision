{
 "cells": [
  {
   "cell_type": "code",
   "execution_count": 22,
   "metadata": {},
   "outputs": [
    {
     "name": "stdout",
     "output_type": "stream",
     "text": [
      "Audi\n",
      "2016\n",
      "Kırmızı\n",
      "Audi ileri gidiyor\n",
      "**********************\n",
      "WV\n",
      "2017\n",
      "Beyaz\n",
      "WV ileri gidiyor\n",
      "**********************\n",
      "Gri\n",
      "Tesla ileri gidiyor\n",
      "Güç Miktarı:650kw\n"
     ]
    }
   ],
   "source": [
    "#Örnek 1.24 - Sınıf/Nesne kavramı -1\n",
    "\n",
    "class Araba:\n",
    "    def __init__(self, marka, model, renk):\n",
    "        self.marka = marka;\n",
    "        self.model = model;\n",
    "        self.renk = renk;\n",
    "    \n",
    "    def ileriGit(self):\n",
    "        print(f\"{self.marka} ileri gidiyor\")\n",
    "    \n",
    "    def geriGit(self):\n",
    "        print(f\"{self.marka} geri gidiyor\")\n",
    "\n",
    "audi = Araba(\"Audi\", 2016, \"Kırmızı\")\n",
    "wv = Araba(\"WV\", 2017, \"Beyaz\")\n",
    "\n",
    "print(audi.marka)\n",
    "print(audi.model)\n",
    "print(audi.renk)\n",
    "\n",
    "audi.ileriGit()\n",
    "print(\"**********************\")\n",
    "print(wv.marka)\n",
    "print(wv.model)\n",
    "print(wv.renk)\n",
    "\n",
    "wv.ileriGit()\n",
    "\n",
    "#Örnek 1.25 - Sınıf/Nesne kavramı -2\n",
    "\n",
    "class ElektrikliAraba(Araba):\n",
    "    def __init__(self, marka, model, renk, guc):\n",
    "        super().__init__(marka, model, renk)\n",
    "        self.guc = guc\n",
    "    \n",
    "    def gucGoster(self):\n",
    "        print(f\"Güç Miktarı:{self.guc}\")\n",
    "\n",
    "tesla = ElektrikliAraba(\"Tesla\", 2021, \"Gri\",\"650kw\")\n",
    "\n",
    "print(\"**********************\")\n",
    "print(tesla.renk)\n",
    "tesla.ileriGit()\n",
    "tesla.gucGoster()"
   ]
  },
  {
   "cell_type": "code",
   "execution_count": null,
   "metadata": {},
   "outputs": [],
   "source": []
  }
 ],
 "metadata": {
  "kernelspec": {
   "display_name": "Python 3",
   "language": "python",
   "name": "python3"
  },
  "language_info": {
   "codemirror_mode": {
    "name": "ipython",
    "version": 3
   },
   "file_extension": ".py",
   "mimetype": "text/x-python",
   "name": "python",
   "nbconvert_exporter": "python",
   "pygments_lexer": "ipython3",
   "version": "3.6.12"
  }
 },
 "nbformat": 4,
 "nbformat_minor": 4
}
