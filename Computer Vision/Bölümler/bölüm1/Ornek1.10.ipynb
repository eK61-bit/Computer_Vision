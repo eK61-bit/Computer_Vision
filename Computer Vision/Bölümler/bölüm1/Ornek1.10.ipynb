{
 "cells": [
  {
   "cell_type": "code",
   "execution_count": 1,
   "metadata": {},
   "outputs": [
    {
     "name": "stdin",
     "output_type": "stream",
     "text": [
      "Toplanacak sayıyı giriniz? 85\n",
      "Toplanacak sayıyı giriniz? 8\n",
      "Toplanacak sayıyı giriniz? 12\n",
      "Toplanacak sayıyı giriniz? -1\n"
     ]
    },
    {
     "name": "stdout",
     "output_type": "stream",
     "text": [
      "Toplam = 105\n"
     ]
    }
   ],
   "source": [
    "#Örnek 1.10 - Döngü şartının bozulması-2\n",
    "\n",
    "girilenSayi = 0\n",
    "tp = 0\n",
    "\n",
    "while girilenSayi!=-1:\n",
    "    tp += girilenSayi\n",
    "    girilenSayi = int(input('Toplanacak sayıyı giriniz?'))\n",
    "    \n",
    "print(f\"Toplam = {tp}\")"
   ]
  }
 ],
 "metadata": {
  "kernelspec": {
   "display_name": "Python 3 (ipykernel)",
   "language": "python",
   "name": "python3"
  },
  "language_info": {
   "codemirror_mode": {
    "name": "ipython",
    "version": 3
   },
   "file_extension": ".py",
   "mimetype": "text/x-python",
   "name": "python",
   "nbconvert_exporter": "python",
   "pygments_lexer": "ipython3",
   "version": "3.9.7"
  }
 },
 "nbformat": 4,
 "nbformat_minor": 4
}
