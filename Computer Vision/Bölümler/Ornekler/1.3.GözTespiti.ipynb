{
 "cells": [
  {
   "cell_type": "code",
   "execution_count": 3,
   "id": "17dccab4-189e-40f3-85c2-54df0b354e86",
   "metadata": {},
   "outputs": [],
   "source": [
    "import cv2\n",
    "eye_cascade = cv2.CascadeClassifier('../DATA/haarcascades/haarcascade_eye.xml')\n",
    "video_capture = cv2.VideoCapture(0)\n",
    "\n",
    "while True:\n",
    "    check, frame = video_capture.read()\n",
    "    gray_image = cv2.cvtColor(frame, cv2.COLOR_BGR2GRAY)\n",
    "    eyes = eye_cascade.detectMultiScale(gray_image)\n",
    "    \n",
    "    for x, y, w, h in eyes:\n",
    "        cv2.rectangle(frame,(x,y),(x+w,y+h),(0,255,0),2)\n",
    "\n",
    "    cv2.imshow('Eye', frame)\n",
    "    key = cv2.waitKey(1)\n",
    "    if key == ord('q'):\n",
    "        break\n",
    "\n",
    "\n",
    "video_capture.release()\n",
    "cv2.destroyAllWindows()"
   ]
  },
  {
   "cell_type": "code",
   "execution_count": 2,
   "id": "178f9ccf-1f17-47a7-8f52-d775089fddd4",
   "metadata": {},
   "outputs": [],
   "source": [
    "import cv2\n",
    "\n",
    "eye_cascade = cv2.CascadeClassifier('../DATA/haarcascades/haarcascade_eye.xml')\n",
    "resim = cv2.imread('../DATA/haarcascades/downloadi.jpg')\n",
    "gray_image = cv2.cvtColor(resim, cv2.COLOR_BGR2GRAY)\n",
    "eyes = eye_cascade.detectMultiScale(gray_image, 1.3, 5)\n",
    "for x, y, w, h in eyes:\n",
    "    cv2.rectangle(resim,(x,y),(x+w,y+h),(0,255,0),2)\n",
    "\n",
    "cv2.imshow('Resim',resim)\n",
    "cv2.waitKey(0)\n",
    "cv2.destroyAllWindows()"
   ]
  },
  {
   "cell_type": "code",
   "execution_count": null,
   "id": "d9cddd02-f402-4d98-b81a-7c9fc077b78a",
   "metadata": {},
   "outputs": [],
   "source": []
  }
 ],
 "metadata": {
  "kernelspec": {
   "display_name": "Python 3 (ipykernel)",
   "language": "python",
   "name": "python3"
  },
  "language_info": {
   "codemirror_mode": {
    "name": "ipython",
    "version": 3
   },
   "file_extension": ".py",
   "mimetype": "text/x-python",
   "name": "python",
   "nbconvert_exporter": "python",
   "pygments_lexer": "ipython3",
   "version": "3.9.13"
  }
 },
 "nbformat": 4,
 "nbformat_minor": 5
}
