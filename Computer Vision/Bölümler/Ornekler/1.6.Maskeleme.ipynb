{
 "cells": [
  {
   "cell_type": "code",
   "execution_count": 1,
   "id": "05a48443-f29a-4fc8-b0f8-919a003f8456",
   "metadata": {},
   "outputs": [
    {
     "ename": "error",
     "evalue": "OpenCV(4.5.5) D:\\a\\opencv-python\\opencv-python\\opencv\\modules\\imgproc\\src\\color.cpp:182: error: (-215:Assertion failed) !_src.empty() in function 'cv::cvtColor'\n",
     "output_type": "error",
     "traceback": [
      "\u001b[1;31m---------------------------------------------------------------------------\u001b[0m",
      "\u001b[1;31merror\u001b[0m                                     Traceback (most recent call last)",
      "\u001b[1;32m<ipython-input-1-2a1f161ff754>\u001b[0m in \u001b[0;36m<module>\u001b[1;34m\u001b[0m\n\u001b[0;32m      9\u001b[0m \u001b[0mkucukResim\u001b[0m \u001b[1;33m=\u001b[0m \u001b[0mcv2\u001b[0m\u001b[1;33m.\u001b[0m\u001b[0mimread\u001b[0m\u001b[1;33m(\u001b[0m\u001b[1;34m'DATA/lg.png'\u001b[0m\u001b[1;33m)\u001b[0m\u001b[1;33m\u001b[0m\u001b[1;33m\u001b[0m\u001b[0m\n\u001b[0;32m     10\u001b[0m \u001b[0mbuyukResim\u001b[0m \u001b[1;33m=\u001b[0m \u001b[0mcv2\u001b[0m\u001b[1;33m.\u001b[0m\u001b[0mimread\u001b[0m\u001b[1;33m(\u001b[0m\u001b[1;34m'DATA/7_sultan_ahmet.jpg'\u001b[0m\u001b[1;33m)\u001b[0m\u001b[1;33m\u001b[0m\u001b[1;33m\u001b[0m\u001b[0m\n\u001b[1;32m---> 11\u001b[1;33m \u001b[0mkucukResim\u001b[0m \u001b[1;33m=\u001b[0m \u001b[0mcv2\u001b[0m\u001b[1;33m.\u001b[0m\u001b[0mcvtColor\u001b[0m\u001b[1;33m(\u001b[0m\u001b[0mkucukResim\u001b[0m\u001b[1;33m,\u001b[0m\u001b[0mcv2\u001b[0m\u001b[1;33m.\u001b[0m\u001b[0mCOLOR_BGR2RGB\u001b[0m\u001b[1;33m)\u001b[0m\u001b[1;33m\u001b[0m\u001b[1;33m\u001b[0m\u001b[0m\n\u001b[0m\u001b[0;32m     12\u001b[0m \u001b[0mbuyukResim\u001b[0m \u001b[1;33m=\u001b[0m \u001b[0mcv2\u001b[0m\u001b[1;33m.\u001b[0m\u001b[0mcvtColor\u001b[0m\u001b[1;33m(\u001b[0m\u001b[0mbuyukResim\u001b[0m\u001b[1;33m,\u001b[0m\u001b[0mcv2\u001b[0m\u001b[1;33m.\u001b[0m\u001b[0mCOLOR_BGR2RGB\u001b[0m\u001b[1;33m)\u001b[0m\u001b[1;33m\u001b[0m\u001b[1;33m\u001b[0m\u001b[0m\n\u001b[0;32m     13\u001b[0m \u001b[0mkucukResim\u001b[0m \u001b[1;33m=\u001b[0m \u001b[0mcv2\u001b[0m\u001b[1;33m.\u001b[0m\u001b[0mresize\u001b[0m\u001b[1;33m(\u001b[0m\u001b[0mkucukResim\u001b[0m\u001b[1;33m,\u001b[0m \u001b[1;33m(\u001b[0m\u001b[1;36m1600\u001b[0m\u001b[1;33m,\u001b[0m\u001b[1;36m900\u001b[0m\u001b[1;33m)\u001b[0m\u001b[1;33m)\u001b[0m\u001b[1;33m\u001b[0m\u001b[1;33m\u001b[0m\u001b[0m\n",
      "\u001b[1;31merror\u001b[0m: OpenCV(4.5.5) D:\\a\\opencv-python\\opencv-python\\opencv\\modules\\imgproc\\src\\color.cpp:182: error: (-215:Assertion failed) !_src.empty() in function 'cv::cvtColor'\n"
     ]
    }
   ],
   "source": [
    "import numpy as np\n",
    "import cv2\n",
    "\n",
    "import matplotlib.pyplot as plt\n",
    "%matplotlib inline\n",
    "\n",
    "\n",
    "# Örnek 3.15 - maskeleme\n",
    "kucukResim = cv2.imread('DATA/lg.png')\n",
    "buyukResim = cv2.imread('DATA/7_sultan_ahmet.jpg')\n",
    "kucukResim = cv2.cvtColor(kucukResim,cv2.COLOR_BGR2RGB)\n",
    "buyukResim = cv2.cvtColor(buyukResim,cv2.COLOR_BGR2RGB)\n",
    "kucukResim = cv2.resize(kucukResim, (1600,900))\n",
    "buyukResim = cv2.resize(buyukResim, (1600,900))\n",
    "\n",
    "kucukResimKirmizi = kucukResim.copy()\n",
    "kucukResimKirmizi[:, :, 1] = 0\n",
    "kucukResimKirmizi[:, :, 2] = 0\n",
    "\n",
    "kYukseklik,kGenislik,kKanal = kucukResimKirmizi.shape\n",
    "bYukseklik,bGenislik,bKanal = buyukResim.shape\n",
    "\n",
    "roi_alan = buyukResim[bYukseklik-kYukseklik:, bGenislik-kGenislik:].copy()\n",
    "kucukResimGray = cv2.cvtColor(kucukResimKirmizi,cv2.COLOR_RGB2GRAY)\n",
    "\n",
    "\n",
    "\n",
    "ret, maske = cv2.threshold(kucukResimGray, 70 , 255, cv2.THRESH_BINARY)\n",
    "maske_tersi = cv2.bitwise_not(maske)\n",
    "\n",
    "roi_alan_bg = cv2.bitwise_and(roi_alan, roi_alan, mask = maske_tersi)\n",
    "roi_alan_fg = cv2.bitwise_and(kucukResimKirmizi, kucukResim, mask = maske)\n",
    "\n",
    "birlesmisParca = cv2.add(roi_alan_bg, roi_alan_fg)\n",
    "\n",
    "\n",
    "buyukResim[bYukseklik-kYukseklik:, bGenislik-kGenislik:] = birlesmisParca\n",
    "buyukResim1 = cv2.cvtColor(buyukResim, cv2.COLOR_RGB2BGR)\n",
    "cv2.imwrite('withLogo.jpg', buyukResim1) \n",
    "plt.imshow(buyukResim)"
   ]
  },
  {
   "cell_type": "code",
   "execution_count": null,
   "id": "7cdf2b74-5bcd-4aba-949f-66545866a46d",
   "metadata": {},
   "outputs": [],
   "source": []
  }
 ],
 "metadata": {
  "kernelspec": {
   "display_name": "Python 3 (ipykernel)",
   "language": "python",
   "name": "python3"
  },
  "language_info": {
   "codemirror_mode": {
    "name": "ipython",
    "version": 3
   },
   "file_extension": ".py",
   "mimetype": "text/x-python",
   "name": "python",
   "nbconvert_exporter": "python",
   "pygments_lexer": "ipython3",
   "version": "3.9.13"
  }
 },
 "nbformat": 4,
 "nbformat_minor": 5
}
