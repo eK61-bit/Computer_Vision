{
 "cells": [
  {
   "cell_type": "code",
   "execution_count": 5,
   "id": "a46adf1c-8b3b-4cc4-93e8-d284fb3c418f",
   "metadata": {},
   "outputs": [],
   "source": [
    "import time\n",
    "import cv2\n",
    "video= cv2.VideoCapture(\"videoplayback.mp4\")\n",
    "if video.isOpened() == False:\n",
    "    print(\"Doğru gitmeyen bir şeyler var.\") \n",
    "fps = video.get(cv2.CAP_PROP_FPS)\n",
    "\n",
    "fSayisi = 0\n",
    "saniye = 0\n",
    "while video.isOpened:\n",
    "    ret, frame = video.read()\n",
    "    fSayisi += 1\n",
    "    if ret == True:\n",
    "        if fSayisi%fps == 1 or fSayisi%fps ==2:\n",
    "            cv2.putText(frame,'indirim',(350,350),cv2.FONT_HERSHEY_PLAIN,5,(255,255,255))\n",
    "            time.sleep(1/fps)\n",
    "        cv2.imshow('Video',frame)\n",
    "    if cv2.waitKey(10) & 0xFF == ord('q'):\n",
    "            cv2.destroyAllWindows()\n",
    "            break\n",
    "video.release()"
   ]
  },
  {
   "cell_type": "code",
   "execution_count": null,
   "id": "e60f1705-ab19-4097-9b4b-c4f2d09c30d3",
   "metadata": {},
   "outputs": [],
   "source": []
  }
 ],
 "metadata": {
  "kernelspec": {
   "display_name": "Python 3 (ipykernel)",
   "language": "python",
   "name": "python3"
  },
  "language_info": {
   "codemirror_mode": {
    "name": "ipython",
    "version": 3
   },
   "file_extension": ".py",
   "mimetype": "text/x-python",
   "name": "python",
   "nbconvert_exporter": "python",
   "pygments_lexer": "ipython3",
   "version": "3.9.13"
  }
 },
 "nbformat": 4,
 "nbformat_minor": 5
}
