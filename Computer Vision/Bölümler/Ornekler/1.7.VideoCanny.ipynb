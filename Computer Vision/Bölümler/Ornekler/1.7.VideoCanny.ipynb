{
 "cells": [
  {
   "cell_type": "code",
   "execution_count": 1,
   "id": "c4744864-a23f-4ac1-875c-3e26064f6393",
   "metadata": {},
   "outputs": [],
   "source": [
    "import numpy as np\n",
    "import cv2\n",
    "\n",
    "import matplotlib.pyplot as plt\n",
    "%matplotlib inline\n",
    "\n",
    "video= cv2.VideoCapture(\"4k.mp4\")\n",
    "    \n",
    "while True:\n",
    "    ret, frame = video.read()\n",
    "    gray = cv2.cvtColor(frame, cv2.COLOR_BGR2GRAY)\n",
    "    medianValue = np.median(frame) \n",
    "    lowTH = int(max(0 ,0.7 * medianValue))\n",
    "    highTH = int(min(255, 1.3 * medianValue))\n",
    "    sonuc = cv2.Canny(frame,lowTH,highTH,L2gradient=True)\n",
    "    \n",
    "    cv2.imshow('video', sonuc)\n",
    "    if cv2.waitKey(10) & 0xFF == ord('q'):\n",
    "        cv2.destroyAllWindows()\n",
    "        break\n",
    "video.release()"
   ]
  },
  {
   "cell_type": "code",
   "execution_count": null,
   "id": "5c239d2c-adf8-4c0b-9092-d07499386f63",
   "metadata": {},
   "outputs": [],
   "source": []
  }
 ],
 "metadata": {
  "kernelspec": {
   "display_name": "Python 3 (ipykernel)",
   "language": "python",
   "name": "python3"
  },
  "language_info": {
   "codemirror_mode": {
    "name": "ipython",
    "version": 3
   },
   "file_extension": ".py",
   "mimetype": "text/x-python",
   "name": "python",
   "nbconvert_exporter": "python",
   "pygments_lexer": "ipython3",
   "version": "3.9.13"
  }
 },
 "nbformat": 4,
 "nbformat_minor": 5
}
