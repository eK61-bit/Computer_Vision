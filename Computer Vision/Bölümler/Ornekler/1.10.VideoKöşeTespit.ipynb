{
 "cells": [
  {
   "cell_type": "code",
   "execution_count": 1,
   "id": "894ddee6-ca40-4060-ba0d-d4dc67caec81",
   "metadata": {},
   "outputs": [],
   "source": [
    "import numpy as np\n",
    "import cv2\n",
    "\n",
    "import matplotlib.pyplot as plt\n",
    "%matplotlib inline\n",
    "\n",
    "video= cv2.VideoCapture(\"4k.mp4\")\n",
    "  \n",
    "while video.isOpened:\n",
    "    ret, frame = video.read()\n",
    "    frameGray = cv2.cvtColor(frame,cv2.COLOR_RGB2GRAY)\n",
    "\n",
    "    corners = cv2.cornerHarris(frameGray,blockSize=3, ksize=5, k=0.06)\n",
    "    frame[corners>0.01*corners.max()]=[255,0,0]\n",
    "    cv2.imshow('video', frame)\n",
    "    \n",
    "    \n",
    "    if cv2.waitKey(10) & 0xFF == ord('q'):\n",
    "        cv2.destroyAllWindows()\n",
    "        break\n",
    "video.release()"
   ]
  },
  {
   "cell_type": "code",
   "execution_count": null,
   "id": "a01b5c7e-33f4-40c8-9493-f132849b5f61",
   "metadata": {},
   "outputs": [],
   "source": []
  }
 ],
 "metadata": {
  "kernelspec": {
   "display_name": "Python 3 (ipykernel)",
   "language": "python",
   "name": "python3"
  },
  "language_info": {
   "codemirror_mode": {
    "name": "ipython",
    "version": 3
   },
   "file_extension": ".py",
   "mimetype": "text/x-python",
   "name": "python",
   "nbconvert_exporter": "python",
   "pygments_lexer": "ipython3",
   "version": "3.9.13"
  }
 },
 "nbformat": 4,
 "nbformat_minor": 5
}
