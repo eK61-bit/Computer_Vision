{
 "cells": [
  {
   "cell_type": "code",
   "execution_count": 3,
   "id": "e29c0111-0c43-4aa4-bd3f-ee7f46d8ba78",
   "metadata": {},
   "outputs": [
    {
     "data": {
      "text/plain": [
       "list"
      ]
     },
     "execution_count": 3,
     "metadata": {},
     "output_type": "execute_result"
    }
   ],
   "source": [
    "import numpy as np\n",
    "listem = [1,2,3]\n",
    "type(listem)"
   ]
  },
  {
   "cell_type": "code",
   "execution_count": 5,
   "id": "9abc3814-f238-45ad-b44d-dc9f8e684f7f",
   "metadata": {},
   "outputs": [
    {
     "data": {
      "text/plain": [
       "numpy.ndarray"
      ]
     },
     "execution_count": 5,
     "metadata": {},
     "output_type": "execute_result"
    }
   ],
   "source": [
    "dizim = np.array(listem)\n",
    "type(dizim)"
   ]
  },
  {
   "cell_type": "code",
   "execution_count": 8,
   "id": "0ff0daf5-093d-4f0c-94ed-2aa4c2a0b7a0",
   "metadata": {},
   "outputs": [
    {
     "data": {
      "text/plain": [
       "array([0, 2, 4, 6, 8])"
      ]
     },
     "execution_count": 8,
     "metadata": {},
     "output_type": "execute_result"
    }
   ],
   "source": [
    "np.arange(0,10,2)"
   ]
  },
  {
   "cell_type": "code",
   "execution_count": 10,
   "id": "44463488-0973-4e24-ae06-81559966874e",
   "metadata": {},
   "outputs": [
    {
     "data": {
      "text/plain": [
       "array([[0., 0., 0., 0., 0.],\n",
       "       [0., 0., 0., 0., 0.],\n",
       "       [0., 0., 0., 0., 0.],\n",
       "       [0., 0., 0., 0., 0.],\n",
       "       [0., 0., 0., 0., 0.]])"
      ]
     },
     "execution_count": 10,
     "metadata": {},
     "output_type": "execute_result"
    }
   ],
   "source": [
    "np.zeros(shape=(5,5))"
   ]
  },
  {
   "cell_type": "code",
   "execution_count": 11,
   "id": "2652680b-670f-40dc-815c-2ca8fb55cda3",
   "metadata": {},
   "outputs": [
    {
     "data": {
      "text/plain": [
       "array([[1., 1., 1., 1., 1.],\n",
       "       [1., 1., 1., 1., 1.],\n",
       "       [1., 1., 1., 1., 1.],\n",
       "       [1., 1., 1., 1., 1.],\n",
       "       [1., 1., 1., 1., 1.]])"
      ]
     },
     "execution_count": 11,
     "metadata": {},
     "output_type": "execute_result"
    }
   ],
   "source": [
    "np.ones(shape=(5,5))"
   ]
  },
  {
   "cell_type": "code",
   "execution_count": 35,
   "id": "ca731952-9979-4c87-8240-1bff045bea1e",
   "metadata": {},
   "outputs": [
    {
     "data": {
      "text/plain": [
       "array([2, 0, 4, 0, 6])"
      ]
     },
     "execution_count": 35,
     "metadata": {},
     "output_type": "execute_result"
    }
   ],
   "source": [
    "dizi = np.random.randint(0,10,5)\n",
    "dizi"
   ]
  },
  {
   "cell_type": "code",
   "execution_count": 38,
   "id": "6898c175-43d8-4b2d-a836-ed107311045f",
   "metadata": {},
   "outputs": [
    {
     "name": "stdout",
     "output_type": "stream",
     "text": [
      "6\n",
      "4\n",
      "0\n",
      "1\n",
      "2.4\n",
      "(5,)\n"
     ]
    }
   ],
   "source": [
    "print(dizi.max())        #dizideki en büyük sayı\n",
    "print(dizi.argmax())     #dizideki en büyük sayının indisi\n",
    "print(dizi.min())        #dizideki en küçük sayı\n",
    "print(dizi.argmin())     #dizideki en küçük sayının indisi\n",
    "print(dizi.mean())       #dizinin ortalamasını bulur\n",
    "print(dizi.shape)        #dizinin boyutunu verir"
   ]
  },
  {
   "cell_type": "code",
   "execution_count": 45,
   "id": "0ae6d552-4845-4274-822c-679ddfb75d15",
   "metadata": {},
   "outputs": [
    {
     "name": "stdout",
     "output_type": "stream",
     "text": [
      "[[2 0 4 0 6]]\n"
     ]
    }
   ],
   "source": [
    "print(dizi.reshape(1,5))"
   ]
  },
  {
   "cell_type": "code",
   "execution_count": 55,
   "id": "97f0a36a-a0d1-4038-a562-9bc1b659311c",
   "metadata": {},
   "outputs": [
    {
     "name": "stdout",
     "output_type": "stream",
     "text": [
      "(5, 5)\n",
      "[[ 0  1  2  3  4]\n",
      " [ 5  6  7  8  9]\n",
      " [10 11 12 13 14]\n",
      " [15 16 17 18 19]\n",
      " [20 21 22 23 24]]\n"
     ]
    }
   ],
   "source": [
    "dizii = np.arange(0,25).reshape(5,5)\n",
    "print(dizii.shape)\n",
    "print(dizii)"
   ]
  },
  {
   "cell_type": "code",
   "execution_count": 81,
   "id": "22efedb6-fc55-45aa-ada8-50223100db53",
   "metadata": {},
   "outputs": [
    {
     "name": "stdout",
     "output_type": "stream",
     "text": [
      "[0 1 2 3 4]\n",
      "---------------\n",
      "[[0 1 2 3 4]\n",
      " [5 6 7 8 9]]\n",
      "---------------\n",
      "[ 4  9 14 19 24]\n",
      "---------------\n",
      "[ 1  6 11 16 21]\n"
     ]
    }
   ],
   "source": [
    "print(dizii[0])\n",
    "print(\"---------------\")\n",
    "print(dizii[:2])\n",
    "print(\"---------------\")\n",
    "print(dizii[:,-1])\n",
    "print(\"---------------\")\n",
    "print(dizii[:,1])\n"
   ]
  },
  {
   "cell_type": "code",
   "execution_count": null,
   "id": "80ae0631-ef24-4074-9373-c2251b0b3132",
   "metadata": {},
   "outputs": [],
   "source": []
  },
  {
   "cell_type": "code",
   "execution_count": null,
   "id": "5405f966-abc2-4b2e-845f-ae2fb0e4ca73",
   "metadata": {},
   "outputs": [],
   "source": []
  }
 ],
 "metadata": {
  "kernelspec": {
   "display_name": "Python 3 (ipykernel)",
   "language": "python",
   "name": "python3"
  },
  "language_info": {
   "codemirror_mode": {
    "name": "ipython",
    "version": 3
   },
   "file_extension": ".py",
   "mimetype": "text/x-python",
   "name": "python",
   "nbconvert_exporter": "python",
   "pygments_lexer": "ipython3",
   "version": "3.9.7"
  }
 },
 "nbformat": 4,
 "nbformat_minor": 5
}
