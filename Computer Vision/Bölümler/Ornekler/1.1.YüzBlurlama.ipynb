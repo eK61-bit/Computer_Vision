{
 "cells": [
  {
   "cell_type": "code",
   "execution_count": 8,
   "id": "6700fbb5-0dce-4548-bfb4-008378514545",
   "metadata": {},
   "outputs": [],
   "source": [
    "import cv2\n",
    "\n",
    "cascade = cv2.CascadeClassifier(\"../DATA/haarcascades/haarcascade_frontalface_default.xml\")\n",
    "video_capture = cv2.VideoCapture('videoplayback.mp4')\n",
    "while True:\n",
    "    check, frame = video_capture.read()\n",
    "    gray_image = cv2.cvtColor(frame, cv2.COLOR_BGR2GRAY)\n",
    "    face = cascade.detectMultiScale(gray_image, scaleFactor=2.0, minNeighbors=1)\n",
    "  \n",
    "    for x, y, w, h in face:\n",
    "        image = cv2.rectangle(frame, (x, y), (x+w, y+h), (0, 255, 0), 3)\n",
    "        image[y:y+h, x:x+w] = cv2.medianBlur(image[y:y+h, x:x+w],35)\n",
    "    cv2.imshow('face blurred', frame)\n",
    "    key = cv2.waitKey(1)\n",
    "    if key == ord('q'):\n",
    "        break\n",
    "\n",
    "video_capture.release()\n",
    "cv2.destroyAllWindows()"
   ]
  },
  {
   "cell_type": "code",
   "execution_count": 5,
   "id": "75f2ce89-5308-4310-87cb-743ef1cb7351",
   "metadata": {},
   "outputs": [],
   "source": [
    "import cv2\n",
    "\n",
    "cascade = cv2.CascadeClassifier(\"../DATA/haarcascades/haarcascade_frontalface_default.xml\")\n",
    "resim = cv2.imread('../DATA/haarcascades/downloadi.jpg')\n",
    "gray_image = cv2.cvtColor(resim, cv2.COLOR_BGR2GRAY)\n",
    "smiles = cascade.detectMultiScale(gray_image, 1.3, 5)\n",
    "for x, y, w, h in smiles:\n",
    "    cv2.rectangle(resim, (x, y), ((x + w), (y + h)), (0, 255,0), 5)\n",
    "    resim[y:y+h, x:x+w] = cv2.medianBlur(resim[y:y+h, x:x+w],35)\n",
    "cv2.imshow('Resim',resim)\n",
    "cv2.waitKey(0)\n",
    "cv2.destroyAllWindows()"
   ]
  },
  {
   "cell_type": "code",
   "execution_count": null,
   "id": "d0a3d103-caa5-4290-969f-2ec1a002a129",
   "metadata": {},
   "outputs": [],
   "source": []
  }
 ],
 "metadata": {
  "kernelspec": {
   "display_name": "Python 3 (ipykernel)",
   "language": "python",
   "name": "python3"
  },
  "language_info": {
   "codemirror_mode": {
    "name": "ipython",
    "version": 3
   },
   "file_extension": ".py",
   "mimetype": "text/x-python",
   "name": "python",
   "nbconvert_exporter": "python",
   "pygments_lexer": "ipython3",
   "version": "3.9.13"
  }
 },
 "nbformat": 4,
 "nbformat_minor": 5
}
