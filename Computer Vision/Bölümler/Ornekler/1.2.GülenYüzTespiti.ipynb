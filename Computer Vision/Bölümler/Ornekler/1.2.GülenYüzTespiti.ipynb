{
 "cells": [
  {
   "cell_type": "code",
   "execution_count": 15,
   "id": "2151b657-d932-440b-a695-b977676c7b0c",
   "metadata": {},
   "outputs": [],
   "source": [
    "import cv2\n",
    "\n",
    "smile_cascade = cv2.CascadeClassifier('../DATA/haarcascades/haarcascade_smile.xml')\n",
    "video_capture = cv2.VideoCapture(0)\n",
    "while True:\n",
    "    check, frame = video_capture.read()\n",
    "    gray_image = cv2.cvtColor(frame, cv2.COLOR_BGR2GRAY)\n",
    "    smiles  = smile_cascade.detectMultiScale(gray_image, scaleFactor = 1.8, minNeighbors = 20)\n",
    "\n",
    "    for x, y, w, h in smiles:\n",
    "        cv2.rectangle(frame, (x, y), ((x + w), (y + h)), (0, 255,0), 5)\n",
    "        \n",
    "    cv2.imshow(\"Smile Detected\", frame)\n",
    "    key = cv2.waitKey(1)\n",
    "    if key == ord('q'):\n",
    "        break\n",
    "\n",
    "\n",
    "video_capture.release()\n",
    "cv2.destroyAllWindows()"
   ]
  },
  {
   "cell_type": "code",
   "execution_count": 16,
   "id": "d37754ed-c190-4067-b3ef-213b22524455",
   "metadata": {},
   "outputs": [],
   "source": [
    "import cv2\n",
    "\n",
    "smile_cascade = cv2.CascadeClassifier('../DATA/haarcascades/haarcascade_smile.xml')\n",
    "resim = cv2.imread('../DATA/haarcascades/downloadi.jpg')\n",
    "gray_image = cv2.cvtColor(resim, cv2.COLOR_BGR2GRAY)\n",
    "smiles = smile_cascade.detectMultiScale(gray_image, 1.3, 5)\n",
    "for x, y, w, h in smiles:\n",
    "    cv2.rectangle(resim, (x, y), ((x + w), (y + h)), (0, 255,0), 5)\n",
    "\n",
    "cv2.imshow('Resim',resim)\n",
    "cv2.waitKey(0)\n",
    "cv2.destroyAllWindows()"
   ]
  },
  {
   "cell_type": "code",
   "execution_count": null,
   "id": "e1209303-de11-448b-a72e-4ef868d9a119",
   "metadata": {},
   "outputs": [],
   "source": []
  }
 ],
 "metadata": {
  "kernelspec": {
   "display_name": "Python 3 (ipykernel)",
   "language": "python",
   "name": "python3"
  },
  "language_info": {
   "codemirror_mode": {
    "name": "ipython",
    "version": 3
   },
   "file_extension": ".py",
   "mimetype": "text/x-python",
   "name": "python",
   "nbconvert_exporter": "python",
   "pygments_lexer": "ipython3",
   "version": "3.9.13"
  }
 },
 "nbformat": 4,
 "nbformat_minor": 5
}
