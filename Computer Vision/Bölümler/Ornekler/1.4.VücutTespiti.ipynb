{
 "cells": [
  {
   "cell_type": "code",
   "execution_count": 5,
   "id": "0ddaead9-a65a-4cee-bd54-8a7f5377ef21",
   "metadata": {},
   "outputs": [],
   "source": [
    "import cv2\n",
    "\n",
    "body_cascade = cv2.CascadeClassifier('../DATA/haarcascades/haarcascade_fullbody.xml')\n",
    "video_capture = cv2.VideoCapture(0)\n",
    "\n",
    "while True:\n",
    "    check, frame = video_capture.read()\n",
    "    gray_image = cv2.cvtColor(frame, cv2.COLOR_BGR2GRAY)\n",
    "    body = body_cascade.detectMultiScale(gray_image, 1.3, 5)\n",
    "\n",
    "    for x, y, w, h in body:\n",
    "        cv2.rectangle(frame,(x,y),(x+w,y+h),(0,255,0),2)\n",
    "\n",
    "    cv2.imshow('Body Detection',frame)\n",
    "    key = cv2.waitKey(1)\n",
    "    if key == ord('q'):\n",
    "        break\n",
    "\n",
    "video_capture.release()\n",
    "cv2.destroyAllWindows()"
   ]
  },
  {
   "cell_type": "code",
   "execution_count": 4,
   "id": "d6960734-ee39-4adb-b5d5-5a9638829aee",
   "metadata": {},
   "outputs": [],
   "source": [
    "import cv2\n",
    "\n",
    "body_cascade = cv2.CascadeClassifier('../DATA/haarcascades/haarcascade_fullbody.xml')\n",
    "resim = cv2.imread('../DATA/haarcascades/download.jpg')\n",
    "gray_image = cv2.cvtColor(resim, cv2.COLOR_BGR2GRAY)\n",
    "body = body_cascade.detectMultiScale(gray_image, 1.3, 5)\n",
    "for x, y, w, h in body:\n",
    "    cv2.rectangle(resim,(x,y),(x+w,y+h),(0,255,0),2)\n",
    "\n",
    "cv2.imshow('Resim',resim)\n",
    "cv2.waitKey(0)\n",
    "cv2.destroyAllWindows()"
   ]
  },
  {
   "cell_type": "code",
   "execution_count": null,
   "id": "4f49be68-5be1-4de0-b234-31661d81a67c",
   "metadata": {},
   "outputs": [],
   "source": []
  }
 ],
 "metadata": {
  "kernelspec": {
   "display_name": "Python 3 (ipykernel)",
   "language": "python",
   "name": "python3"
  },
  "language_info": {
   "codemirror_mode": {
    "name": "ipython",
    "version": 3
   },
   "file_extension": ".py",
   "mimetype": "text/x-python",
   "name": "python",
   "nbconvert_exporter": "python",
   "pygments_lexer": "ipython3",
   "version": "3.9.13"
  }
 },
 "nbformat": 4,
 "nbformat_minor": 5
}
