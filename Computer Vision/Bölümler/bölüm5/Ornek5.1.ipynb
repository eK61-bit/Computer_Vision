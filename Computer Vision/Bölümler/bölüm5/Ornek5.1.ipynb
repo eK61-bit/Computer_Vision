{
 "cells": [
  {
   "cell_type": "code",
   "execution_count": 1,
   "metadata": {},
   "outputs": [],
   "source": [
    "import cv2"
   ]
  },
  {
   "cell_type": "code",
   "execution_count": 2,
   "metadata": {},
   "outputs": [],
   "source": [
    "#Örnek 5.1: OpenCV ile WEBCAM Kullanımı\n",
    "\n",
    "cam = cv2.VideoCapture(0)\n",
    "\n",
    "if cam.isOpened() == False:\n",
    "    print(\"Doğru gitmeyen bir şeyler var.\")\n",
    "\n",
    "while cam.isOpened:\n",
    "    ret, frame = cam.read()\n",
    "    \n",
    "    if ret==True:\n",
    "        cv2.imshow('Video Dosya Okuma',frame)\n",
    "                \n",
    "        if cv2.waitKey(10) & 0xFF == ord('q'):\n",
    "            break\n",
    "\n",
    "    else:\n",
    "        break\n",
    "\n",
    "cam.release()\n",
    "cv2.destroyAllWindows()"
   ]
  }
 ],
 "metadata": {
  "kernelspec": {
   "display_name": "Python 3 (ipykernel)",
   "language": "python",
   "name": "python3"
  },
  "language_info": {
   "codemirror_mode": {
    "name": "ipython",
    "version": 3
   },
   "file_extension": ".py",
   "mimetype": "text/x-python",
   "name": "python",
   "nbconvert_exporter": "python",
   "pygments_lexer": "ipython3",
   "version": "3.9.13"
  }
 },
 "nbformat": 4,
 "nbformat_minor": 4
}
