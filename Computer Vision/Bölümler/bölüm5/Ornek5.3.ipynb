{
 "cells": [
  {
   "cell_type": "code",
   "execution_count": 1,
   "metadata": {},
   "outputs": [],
   "source": [
    "import numpy as np\n",
    "import cv2"
   ]
  },
  {
   "cell_type": "code",
   "execution_count": 2,
   "metadata": {},
   "outputs": [
    {
     "ename": "error",
     "evalue": "OpenCV(4.6.0) :-1: error: (-5:Bad argument) in function 'line'\n> Overload resolution failed:\n>  - Can't parse 'pt1'. Sequence item with index 0 has a wrong type\n>  - Can't parse 'pt1'. Sequence item with index 0 has a wrong type\n",
     "output_type": "error",
     "traceback": [
      "\u001b[1;31m---------------------------------------------------------------------------\u001b[0m",
      "\u001b[1;31merror\u001b[0m                                     Traceback (most recent call last)",
      "\u001b[1;32m~\\AppData\\Local\\Temp\\ipykernel_7132\\3292620048.py\u001b[0m in \u001b[0;36m<module>\u001b[1;34m\u001b[0m\n\u001b[0;32m     28\u001b[0m         \u001b[0mx_prevPos\u001b[0m\u001b[1;33m,\u001b[0m \u001b[0my_prevPos\u001b[0m \u001b[1;33m=\u001b[0m \u001b[0mprev\u001b[0m\u001b[1;33m.\u001b[0m\u001b[0mravel\u001b[0m\u001b[1;33m(\u001b[0m\u001b[1;33m)\u001b[0m\u001b[1;33m\u001b[0m\u001b[1;33m\u001b[0m\u001b[0m\n\u001b[0;32m     29\u001b[0m \u001b[1;33m\u001b[0m\u001b[0m\n\u001b[1;32m---> 30\u001b[1;33m         \u001b[0mmask\u001b[0m \u001b[1;33m=\u001b[0m \u001b[0mcv2\u001b[0m\u001b[1;33m.\u001b[0m\u001b[0mline\u001b[0m\u001b[1;33m(\u001b[0m\u001b[0mmask\u001b[0m\u001b[1;33m,\u001b[0m\u001b[1;33m(\u001b[0m\u001b[0mx_newPos\u001b[0m\u001b[1;33m,\u001b[0m\u001b[0my_newPos\u001b[0m\u001b[1;33m)\u001b[0m\u001b[1;33m,\u001b[0m\u001b[1;33m(\u001b[0m\u001b[0mx_prevPos\u001b[0m\u001b[1;33m,\u001b[0m\u001b[0my_prevPos\u001b[0m\u001b[1;33m)\u001b[0m\u001b[1;33m,\u001b[0m\u001b[1;33m(\u001b[0m\u001b[1;36m0\u001b[0m\u001b[1;33m,\u001b[0m\u001b[1;36m255\u001b[0m\u001b[1;33m,\u001b[0m\u001b[1;36m0\u001b[0m\u001b[1;33m)\u001b[0m\u001b[1;33m,\u001b[0m\u001b[1;36m2\u001b[0m\u001b[1;33m)\u001b[0m\u001b[1;33m\u001b[0m\u001b[1;33m\u001b[0m\u001b[0m\n\u001b[0m\u001b[0;32m     31\u001b[0m         \u001b[0mcurrentFrame\u001b[0m \u001b[1;33m=\u001b[0m \u001b[0mcv2\u001b[0m\u001b[1;33m.\u001b[0m\u001b[0mcircle\u001b[0m\u001b[1;33m(\u001b[0m\u001b[0mcurrentFrame\u001b[0m\u001b[1;33m,\u001b[0m\u001b[1;33m(\u001b[0m\u001b[0mx_newPos\u001b[0m\u001b[1;33m,\u001b[0m\u001b[0my_newPos\u001b[0m\u001b[1;33m)\u001b[0m\u001b[1;33m,\u001b[0m\u001b[1;36m8\u001b[0m\u001b[1;33m,\u001b[0m\u001b[1;33m(\u001b[0m\u001b[1;36m0\u001b[0m\u001b[1;33m,\u001b[0m\u001b[1;36m0\u001b[0m\u001b[1;33m,\u001b[0m\u001b[1;36m255\u001b[0m\u001b[1;33m)\u001b[0m\u001b[1;33m,\u001b[0m\u001b[1;33m-\u001b[0m\u001b[1;36m1\u001b[0m\u001b[1;33m)\u001b[0m\u001b[1;33m\u001b[0m\u001b[1;33m\u001b[0m\u001b[0m\n\u001b[0;32m     32\u001b[0m \u001b[1;33m\u001b[0m\u001b[0m\n",
      "\u001b[1;31merror\u001b[0m: OpenCV(4.6.0) :-1: error: (-5:Bad argument) in function 'line'\n> Overload resolution failed:\n>  - Can't parse 'pt1'. Sequence item with index 0 has a wrong type\n>  - Can't parse 'pt1'. Sequence item with index 0 has a wrong type\n"
     ]
    }
   ],
   "source": [
    "# Örnek 5.3: Lucas - Kanade ile Optik Akış\n",
    "\n",
    "cornerDetectionCriteria = dict(maxCorners = 10, qualityLevel = 0.3, minDistance = 7, blockSize = 7)\n",
    "lucasCriteria = dict(winSize=(200,200),maxLevel = 2, criteria = (cv2.TERM_CRITERIA_EPS + cv2.TERM_CRITERIA_COUNT,10,0.03))\n",
    "\n",
    "video = cv2.VideoCapture(0)\n",
    "\n",
    "ret, prevFrame = video.read()\n",
    "grayPrevFrame = cv2.cvtColor(prevFrame, cv2.COLOR_BGR2GRAY)\n",
    "\n",
    "prevPoints = cv2.goodFeaturesToTrack(grayPrevFrame,mask=None,**cornerDetectionCriteria)\n",
    "mask = np.zeros_like(prevFrame)\n",
    "\n",
    "if video.isOpened() == False:\n",
    "    print(\"Doğru gitmeyen bir şeyler var.\")\n",
    "\n",
    "while video.isOpened:\n",
    "    ret, currentFrame = video.read()\n",
    "    grayCurrentFrame = cv2.cvtColor(currentFrame, cv2.COLOR_BGR2GRAY)\n",
    "    \n",
    "    nextPoints, status, errors = cv2.calcOpticalFlowPyrLK(grayPrevFrame,grayCurrentFrame,prevPoints,None,**lucasCriteria)\n",
    "    \n",
    "    newMotion = nextPoints[status==1]\n",
    "    oldMotion = prevPoints[status==1]\n",
    "    \n",
    "    for i, (new, prev) in enumerate(zip(newMotion,oldMotion)):\n",
    "        x_newPos, y_newPos = new.ravel()\n",
    "        x_prevPos, y_prevPos = prev.ravel()\n",
    "        \n",
    "        mask = cv2.line(mask,(x_newPos,y_newPos),(x_prevPos,y_prevPos),(0,255,0),2)\n",
    "        currentFrame = cv2.circle(currentFrame,(x_newPos,y_newPos),8,(0,0,255),-1)\n",
    "    \n",
    "    img = cv2.add(currentFrame,mask)\n",
    "    cv2.imshow('takip',img)\n",
    "    \n",
    "    k = cv2.waitKey(10) & 0xFF\n",
    "    if k ==27:\n",
    "        break\n",
    "\n",
    "    grayPrevFrame = grayCurrentFrame.copy()\n",
    "    nextPoints = newMotion.reshape(-1,1,2)\n",
    "    \n",
    "cv2.destroyAllWindows()\n",
    "video.release()"
   ]
  },
  {
   "cell_type": "code",
   "execution_count": null,
   "metadata": {},
   "outputs": [],
   "source": []
  }
 ],
 "metadata": {
  "kernelspec": {
   "display_name": "Python 3 (ipykernel)",
   "language": "python",
   "name": "python3"
  },
  "language_info": {
   "codemirror_mode": {
    "name": "ipython",
    "version": 3
   },
   "file_extension": ".py",
   "mimetype": "text/x-python",
   "name": "python",
   "nbconvert_exporter": "python",
   "pygments_lexer": "ipython3",
   "version": "3.9.13"
  }
 },
 "nbformat": 4,
 "nbformat_minor": 4
}
