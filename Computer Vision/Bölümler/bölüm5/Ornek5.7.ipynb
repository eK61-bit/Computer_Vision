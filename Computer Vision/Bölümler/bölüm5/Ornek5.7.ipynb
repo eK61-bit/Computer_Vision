{
 "cells": [
  {
   "cell_type": "code",
   "execution_count": 1,
   "id": "1e0c9298-0e95-45a9-bed3-2787a51a2c2d",
   "metadata": {},
   "outputs": [],
   "source": [
    "import cv2\n",
    "import numpy as np\n",
    "import matplotlib.pyplot as plt\n",
    "%matplotlib inline"
   ]
  },
  {
   "cell_type": "code",
   "execution_count": 16,
   "id": "f4448f6a-6f73-4342-ba11-e18535dcbc2e",
   "metadata": {},
   "outputs": [
    {
     "name": "stdout",
     "output_type": "stream",
     "text": [
      "Enter 0 for BOOSTING, 1 for MIL,2 for KCF, 3 for CSRT, 4 for MEDIANFLOW, 5 for TLD, 6 for MOSSE, 7 for GOTURN\n"
     ]
    },
    {
     "name": "stdin",
     "output_type": "stream",
     "text": [
      "Please choose your tracker?:  2\n"
     ]
    }
   ],
   "source": [
    "# Örnek 5.7: object detection\n",
    "\n",
    "def trackerSelection():\n",
    "    print(\"Enter 0 for BOOSTING, 1 for MIL,2 for KCF, 3 for CSRT, 4 for MEDIANFLOW, 5 for TLD, 6 for MOSSE, 7 for GOTURN\")\n",
    "    choice = input(\"Please choose your tracker?: \")\n",
    "    \n",
    "    if choice == '0':\n",
    "        tracker = cv2.TrackerBoosting_create()\n",
    "    elif choice == '1':\n",
    "        tracker = cv2.TrackerMIL_create()\n",
    "    elif choice == '2':\n",
    "        tracker = cv2.TrackerKCF_create()\n",
    "    elif choice == '3':\n",
    "        tracker = cv2.TrackerCSRT_create()\n",
    "    elif choice == '4':\n",
    "        tracker = cv2.TrackerMedianFlow_create()\n",
    "    elif choice == '5':\n",
    "        tracker = cv2.TrackerTLD_create()\n",
    "    elif choice == '6':\n",
    "        tracker = cv2.TrackerMOSSE_create()\n",
    "    elif choice == '7':\n",
    "        tracker = cv2.TrackerGOTURN_create()\n",
    "\n",
    "    return tracker\n",
    "\n",
    "tracker = trackerSelection()\n",
    "trackerName = str(tracker).split()[0][1:]\n",
    "\n",
    "camera = cv2.VideoCapture(\"videoplayback_4.mp4\")\n",
    "ret, frame = camera.read()\n",
    "\n",
    "roi = cv2.selectROI(frame,False)\n",
    "ret = tracker.init(frame, roi)\n",
    "\n",
    "while True:\n",
    "    ret, frame = camera.read()\n",
    "    success, roi = tracker.update(frame)\n",
    "    \n",
    "    (x,y,w,h) = tuple(map(int,roi))\n",
    "        \n",
    "    if success:\n",
    "        p1 = (x, y)\n",
    "        p2 = (x+w, y+h)\n",
    "        cv2.rectangle(frame, p1, p2, (0,255,0), 3)\n",
    "    else :\n",
    "        cv2.putText(frame, \"Failure!!\", (100,200), cv2.FONT_HERSHEY_SIMPLEX, 1,(0,0,255),3)\n",
    "\n",
    "    cv2.putText(frame, trackerName, (20,400), cv2.FONT_HERSHEY_SIMPLEX, 1, (0,255,0),3);\n",
    "    cv2.imshow(trackerName, frame)\n",
    "\n",
    "    k = cv2.waitKey(10) & 0xff\n",
    "    if k == 27 : \n",
    "        break\n",
    "        \n",
    "camera.release()\n",
    "cv2.destroyAllWindows()"
   ]
  },
  {
   "cell_type": "code",
   "execution_count": null,
   "id": "6969509b-b0e9-4b0d-8a02-b79924e8220f",
   "metadata": {},
   "outputs": [],
   "source": []
  }
 ],
 "metadata": {
  "kernelspec": {
   "display_name": "Python 3 (ipykernel)",
   "language": "python",
   "name": "python3"
  },
  "language_info": {
   "codemirror_mode": {
    "name": "ipython",
    "version": 3
   },
   "file_extension": ".py",
   "mimetype": "text/x-python",
   "name": "python",
   "nbconvert_exporter": "python",
   "pygments_lexer": "ipython3",
   "version": "3.9.13"
  }
 },
 "nbformat": 4,
 "nbformat_minor": 5
}
