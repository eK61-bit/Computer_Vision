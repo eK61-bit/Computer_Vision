{
 "cells": [
  {
   "cell_type": "code",
   "execution_count": 1,
   "id": "1e0c9298-0e95-45a9-bed3-2787a51a2c2d",
   "metadata": {},
   "outputs": [],
   "source": [
    "import cv2\n",
    "import numpy as np\n",
    "import matplotlib.pyplot as plt\n",
    "%matplotlib inline"
   ]
  },
  {
   "cell_type": "code",
   "execution_count": 5,
   "id": "f4448f6a-6f73-4342-ba11-e18535dcbc2e",
   "metadata": {},
   "outputs": [],
   "source": [
    "# Örnek 5.6: camShift Algoritması\n",
    "\n",
    "video = cv2.VideoCapture(\"0\")\n",
    "ret, prevFrame = video.read()\n",
    "\n",
    "faceDetection = cv2.CascadeClassifier('DATA/haarcascades/haarcascade_frontalface_default.xml')\n",
    "faceLocation = faceDetection.detectMultiScale(prevFrame)\n",
    "\n",
    "(faceX, faceY, w, h) = tuple(faceLocation[0])\n",
    "faceTracking = (faceX, faceY, w, h)\n",
    "\n",
    "roi = prevFrame[faceY:faceY + h, faceX:faceX + w]\n",
    "hsv_roi = cv2.cvtColor(roi, cv2.COLOR_BGR2HSV)\n",
    "\n",
    "hist_roi = cv2.calcHist([hsv_roi], [0], None, [180], [0, 180])\n",
    "cv2.normalize(hist_roi, hist_roi, 0, 255, cv2.NORM_MINMAX)\n",
    "\n",
    "paramaters = (cv2.TERM_CRITERIA_EPS | cv2.TERM_CRITERIA_COUNT, 10, 1)\n",
    "\n",
    "while True:\n",
    "    ret, nextFrame = video.read()\n",
    "    hsv_NextFrame = cv2.cvtColor(nextFrame, cv2.COLOR_BGR2HSV)\n",
    "\n",
    "    target = cv2.calcBackProject([hsv_NextFrame], [0], hist_roi, [0, 180], 1)\n",
    "\n",
    "    ret, faceTracking = cv2.CamShift(target, faceTracking, paramaters)\n",
    "    \n",
    "    points = cv2.boxPoints(ret)\n",
    "    points = np.int0(points)\n",
    "\n",
    "    mark = cv2.polylines(nextFrame, [points], True, (0, 255, 255), 5)\n",
    "\n",
    "    cv2.imshow('Takip', mark)\n",
    "\n",
    "    k = cv2.waitKey(10) & 0xFF\n",
    "\n",
    "    if k == ord('q'):\n",
    "        break\n",
    "\n",
    "video.release()\n",
    "cv2.destroyAllWindows()"
   ]
  }
 ],
 "metadata": {
  "kernelspec": {
   "display_name": "Python 3 (ipykernel)",
   "language": "python",
   "name": "python3"
  },
  "language_info": {
   "codemirror_mode": {
    "name": "ipython",
    "version": 3
   },
   "file_extension": ".py",
   "mimetype": "text/x-python",
   "name": "python",
   "nbconvert_exporter": "python",
   "pygments_lexer": "ipython3",
   "version": "3.9.13"
  }
 },
 "nbformat": 4,
 "nbformat_minor": 5
}
