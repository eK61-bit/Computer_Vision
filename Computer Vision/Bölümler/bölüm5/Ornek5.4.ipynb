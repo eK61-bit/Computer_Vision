{
 "cells": [
  {
   "cell_type": "code",
   "execution_count": 2,
   "id": "1e0c9298-0e95-45a9-bed3-2787a51a2c2d",
   "metadata": {},
   "outputs": [],
   "source": [
    "import cv2\n",
    "import numpy as np"
   ]
  },
  {
   "cell_type": "code",
   "execution_count": 56,
   "id": "f4448f6a-6f73-4342-ba11-e18535dcbc2e",
   "metadata": {},
   "outputs": [],
   "source": [
    "# Örnek 5.4: Gunnar Farneback ile Optik Akış\n",
    "video = cv2.VideoCapture(\"videoplayback.mp4\")\n",
    "\n",
    "ret, prevFrame = video.read()\n",
    "grayPrevFrame = cv2.cvtColor(prevFrame, cv2.COLOR_BGR2GRAY)\n",
    "\n",
    "hsvMask = np.zeros_like(prevFrame)\n",
    "hsvMask[:,:,1] = 255\n",
    "\n",
    "while True:\n",
    "    ret, nextFrame = video.read()\n",
    "    grayNextFrame = cv2.cvtColor(nextFrame, cv2.COLOR_BGR2GRAY)\n",
    "    \n",
    "    flow = cv2.calcOpticalFlowFarneback(grayPrevFrame,grayNextFrame,None, 0.5, 3, 15, 3, 5, 1.2, 0)\n",
    "\n",
    "    magnitude, angle = cv2.cartToPolar(flow[:,:,0], flow[:,:,1], angleInDegrees=True)\n",
    "    hsvMask[:,:,0] = angle / 2\n",
    "    \n",
    "    hsvMask[:,:,2] = cv2.normalize(magnitude,None,0,255,cv2.NORM_MINMAX)\n",
    "        \n",
    "    bgrMask = cv2.cvtColor(hsvMask, cv2.COLOR_HSV2BGR)\n",
    "    \n",
    "    cv2.imshow('Dense OF', bgrMask)\n",
    "    \n",
    "    if cv2.waitKey(10) & 0xFF == 27:\n",
    "        break\n",
    "    \n",
    "    prevFrame = nextFrame\n",
    "    \n",
    "video.release()\n",
    "cv2.destroyAllWindows()"
   ]
  }
 ],
 "metadata": {
  "kernelspec": {
   "display_name": "Python 3 (ipykernel)",
   "language": "python",
   "name": "python3"
  },
  "language_info": {
   "codemirror_mode": {
    "name": "ipython",
    "version": 3
   },
   "file_extension": ".py",
   "mimetype": "text/x-python",
   "name": "python",
   "nbconvert_exporter": "python",
   "pygments_lexer": "ipython3",
   "version": "3.9.13"
  }
 },
 "nbformat": 4,
 "nbformat_minor": 5
}
